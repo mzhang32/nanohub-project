{
  "nbformat": 4,
  "nbformat_minor": 0,
  "metadata": {
    "colab": {
      "name": "first_submodel.ipynb",
      "version": "0.3.2",
      "provenance": [],
      "collapsed_sections": []
    },
    "kernelspec": {
      "name": "python3",
      "display_name": "Python 3"
    }
  },
  "cells": [
    {
      "cell_type": "markdown",
      "metadata": {
        "id": "view-in-github",
        "colab_type": "text"
      },
      "source": [
        "[View in Colaboratory](https://colab.research.google.com/github/mzhang32/nanohub-project/blob/master/first_submodel.ipynb)"
      ]
    },
    {
      "metadata": {
        "id": "348Jta784OFm",
        "colab_type": "text"
      },
      "cell_type": "markdown",
      "source": [
        "#First Submodel\n",
        "Refer to the design document [here](https://docs.google.com/document/d/1BM18EP8cWlJ371yYBoru_q8MHjesn3eBKg7CYRqPmv0/edit). We're using GitHub to back up and Google Drive to collaborate. I believe this tool(Google Colab) will be useful because it is highly collaborative and easy to use."
      ]
    },
    {
      "metadata": {
        "id": "AwvyH8f2JR7U",
        "colab_type": "code",
        "colab": {}
      },
      "cell_type": "code",
      "source": [
        "# Currently not being used.\n",
        "!pip install PyOpenGL PyOpenGL_accelerate\n"
      ],
      "execution_count": 0,
      "outputs": []
    },
    {
      "metadata": {
        "id": "xgKKgA8eRGiO",
        "colab_type": "code",
        "colab": {}
      },
      "cell_type": "code",
      "source": [
        " !pip install shapely"
      ],
      "execution_count": 0,
      "outputs": []
    },
    {
      "metadata": {
        "id": "xkzz3eRW4nlw",
        "colab_type": "text"
      },
      "cell_type": "markdown",
      "source": [
        "\n",
        "\n",
        "###Given a set of inputs about angle distribution and nanotube length and filament size, generate some line segments .\n"
      ]
    },
    {
      "metadata": {
        "id": "qT0G4X464QhJ",
        "colab_type": "code",
        "colab": {}
      },
      "cell_type": "code",
      "source": [
        "import numpy as np\n",
        "import math\n",
        "from shapely.geometry import LineString\n",
        "\n",
        "\n",
        "def execute(volume_fraction, width_of_poly, length_of_poly, diameter, volume_of_poly, mean_nanowire_length, SD):\n",
        "    \n",
        "    # Find Volume of Nanowire\n",
        "    def wire_volume(length, diameter):\n",
        "        volume = math.pi * ((diameter / 2) ** 2) * length\n",
        "        return volume \n",
        "\n",
        "    # Creating a list of random starting points for number of desired nanowires in sim\n",
        "    def get_initial_point():\n",
        "        x = np.random.uniform(-(width_of_poly / 2), (width_of_poly / 2))\n",
        "        y = np.random.uniform(0, length_of_poly)\n",
        "        z = np.random.uniform(0, width_of_poly)\n",
        "        g = [x, y, z]\n",
        "        nonlocal start_points\n",
        "        start_points.append(g)\n",
        "        \n",
        "    # Creating lists of random lengths and angles     \n",
        "    def lengths_angles():\n",
        "        length = np.random.normal(mean_nanowire_length, SD)\n",
        "        lengths.append(length)\n",
        "        horiz_angle = np.random.uniform(0, math.pi)\n",
        "        verti_angle = np.random.uniform(0, math.pi)\n",
        "        a = [horiz_angle, verti_angle]\n",
        "        angles.append(a)\n",
        "          \n",
        "    def check_distance(start_points, end_points, line1, diameter):\n",
        "        for start, end in zip(start_points, end_points):\n",
        "            point1 = (start[0], start[1], start[2])\n",
        "            point2 = (end[0], end[1], end[2])\n",
        "            line2 = LineString([point1, point2])\n",
        "            dis = line1.distance(line2)\n",
        "            if line1.distance(line2) < diameter:\n",
        "              return False\n",
        "        return True\n",
        "\n",
        "    # Creating list of respective end points using initial points, lengths & angles      \n",
        "    def get_end_points(start_points, lengths, angles, width_of_poly, length_of_poly, diameter):\n",
        "        nonlocal wires\n",
        "        x = start_points[wires][0]\n",
        "        y = start_points[wires][1]\n",
        "        z = start_points[wires][2]        \n",
        "        phi = angles[wires][0]\n",
        "        theta = angles[wires][1]\n",
        "        length = lengths[wires]\n",
        "        x1 = x + length * math.sin(theta) * math.sin(phi)\n",
        "        y1 = y + length * math.cos(theta)\n",
        "        z1 = z + length * math.sin(theta) * math.cos(phi)\n",
        "        line1 = LineString([(x, y, z), (x1, y1, z1)])    \n",
        "        print(wires)\n",
        "        # Checks to make sure no internal creation\n",
        "        if len(end_points) != 0:\n",
        "            while check_distance(start_points, end_points, line1, diameter) == False:\n",
        "                x = np.random.uniform(0, width_of_poly)\n",
        "                y = np.random.uniform(0, width_of_poly)\n",
        "                z = np.random.uniform(-(width_of_poly / 2), (width_of_poly / 2))\n",
        "                g = [x, y, z]\n",
        "                start_points[wires] = g\n",
        "                x1 = x + length * math.sin(theta) * math.cos(phi)\n",
        "                y1 = y + length * math.sin(theta) * math.sin(phi)\n",
        "                z1 = z + length * math.cos(theta)      \n",
        "                line1 = LineString([(x, y, z), (x1, y1, z1)])    \n",
        "        # Checks to make sure end points are in domain\n",
        "        while y1 > length_of_poly or z1 > width_of_poly or z1 < 0 or x1 > abs(width_of_poly / 2):\n",
        "            x = np.random.uniform(0, width_of_poly)\n",
        "            y = np.random.uniform(0, width_of_poly)\n",
        "            z = np.random.uniform(-(width_of_poly / 2), (width_of_poly / 2))\n",
        "            g = [x, y, z]\n",
        "            start_points[wires] = g\n",
        "            x1 = x + length * math.sin(theta) * math.cos(phi)\n",
        "            y1 = y + length * math.sin(theta) * math.sin(phi)\n",
        "            z1 = z + length * math.cos(theta)\n",
        "        new = [x1, y1, z1]\n",
        "        end_points.append(new)\n",
        "        wires += 1    \n",
        "        \n",
        "    wires = 0\n",
        "    volume = 0\n",
        "    start_points = []\n",
        "    lengths = []\n",
        "    angles = []\n",
        "    end_points = []\n",
        "    \n",
        "    while (volume / volume_of_poly) < volume_fraction:\n",
        "        get_initial_point()\n",
        "      \n",
        "        lengths_angles()\n",
        "        \n",
        "        get_end_points(start_points, lengths, angles, width_of_poly, length_of_poly, diameter)\n",
        "        \n",
        "        volume += wire_volume(lengths[-1], diameter)\n",
        "        print(volume)\n",
        "       \n",
        "    \n",
        "    print(volume)\n",
        "    return start_points, end_points\n",
        "    \n",
        "        \n",
        "          \n",
        "    \n"
      ],
      "execution_count": 0,
      "outputs": []
    },
    {
      "metadata": {
        "id": "PtZTjNvWWYnI",
        "colab_type": "code",
        "colab": {}
      },
      "cell_type": "code",
      "source": [
        "start, end = execute((2/100), .001, .001, 60e-9, 1e-9, 40e-6, 10e-6)"
      ],
      "execution_count": 0,
      "outputs": []
    },
    {
      "metadata": {
        "id": "URJBL8vq5Dof",
        "colab_type": "text"
      },
      "cell_type": "markdown",
      "source": [
        " ### Graphically visualize the model.\n",
        " We may have to import some libraries. A good-looking one is this python wrapper for OpenGL, [PyOpenGL](http://pyopengl.sourceforge.net/).\n",
        " \n",
        " It turns out using opengl in python notebook is not possible(?)."
      ]
    },
    {
      "metadata": {
        "id": "KGUV7k315BtC",
        "colab_type": "code",
        "colab": {}
      },
      "cell_type": "code",
      "source": [
        "import matplotlib.pyplot as plt\n",
        "from mpl_toolkits.mplot3d import Axes3D\n",
        "fig = plt.figure()\n",
        "ax = fig.add_subplot(111, projection='3d')\n",
        "\n",
        "segments = []\n",
        "for start, end in zip(start_points, end_points):\n",
        "   x = [start[0], end[0]]\n",
        "   y = [start[1], end[1]]\n",
        "   z = [start[2], end[2]]\n",
        "   segments.append([x, y, z])\n",
        "for seg in segments:\n",
        "  ax.plot(seg[0], seg[1], seg[2])\n",
        "#ax.plot([0, -1], [0, -1], [0, -1]) # Test line segment\n",
        "plt.show()  \n"
      ],
      "execution_count": 0,
      "outputs": []
    },
    {
      "metadata": {
        "id": "_vsdVj_G6GmC",
        "colab_type": "text"
      },
      "cell_type": "markdown",
      "source": [
        "###Represent the distribution of the nanowires and the distances between them as a graph.\n",
        "Let G = (V, E) where V is the set of indiviual nanowires and let E = (V1, V2), the distance between nanowires V1 and V2. Using the graph package library [NetworkX](https://networkx.github.io/documentation/stable/tutorial.html)."
      ]
    },
    {
      "metadata": {
        "id": "UtyutQQeZHPJ",
        "colab_type": "code",
        "colab": {}
      },
      "cell_type": "code",
      "source": [
        "!pip install networkx"
      ],
      "execution_count": 0,
      "outputs": []
    },
    {
      "metadata": {
        "id": "6-6tThqv6Eq4",
        "colab_type": "code",
        "colab": {}
      },
      "cell_type": "code",
      "source": [
        "import networkx as nx\n",
        "\n",
        "\"\"\" Returns a networkx graph G formed from V = the segments in format \n",
        " [(x1, x2), (y1, y2), (z1, z2)] and E = distances between the segments \n",
        " that are within tolerance.\n",
        "\"\"\"\n",
        "def init_graph(segments, tol)\n",
        "  number_of_tubes = len(segments)\n",
        "  G = nx.Graph()\n",
        "  # Sort by the one of the segment's endpoint's y value.\n",
        "  V = sorted(segments, key=lambda v: v[1][0]) \n",
        "  line_strings = [LineString([(seg[0][0], seg[1][0], seg[2][0]), \n",
        "                         (seg[0][1], seg[1][1], seg[2][1])]) for seg in V]\n",
        "\n",
        "  G.add_nodes_from(range(number_of_tubes))\n",
        "\n",
        "  # Generate a graph using distances as weights. May \n",
        "  # need to optimize later.\n",
        "  for i in range(number_of_tubes - 1):\n",
        "    seg1 = V[i]\n",
        "    line1 = line_strings[i]\n",
        "    for j in range(i):\n",
        "      seg2 = V[j]\n",
        "      line2 = line_strings[j]\n",
        "      d = line1.distance(line2)\n",
        "      if d <= tolerance:\n",
        "        G.add_edge(i, j, weight=line1.distance(line2))  \n",
        "  return G\n",
        "      \n",
        "  "
      ],
      "execution_count": 0,
      "outputs": []
    },
    {
      "metadata": {
        "id": "Ia1zoj9c6nZN",
        "colab_type": "text"
      },
      "cell_type": "markdown",
      "source": [
        "### Use the graph to compute a conductive path.\n",
        "1. Graph theory is great. Details are in the working. The paper used the Union-Find Algorithm :\n",
        "*\"To find the conductive cluster in a nanotube system\n",
        "between two electrodes and to calculate the probability of\n",
        "percolation, an algorithm based on the graph theory is used.\n",
        "According to the algorithm, all tubes of the system are\n",
        "represented as vertices of a simple graph, edges of which\n",
        "correspond to the connections between the tubes. Nanotubes\n",
        "that are in contact with the opposite sides of the parallelepiped\n",
        "form two subsets corresponding to the electrode. At the next\n",
        "stage, a component that combines these subsets is sought by\n",
        "means of the union-find algorithm. Thus, a conductive path in\n",
        "the nanotubes system is formed.\"\"* From [Computer Simulation of Field-Controlled Percolation\n",
        "in 3D System of Straight Nanotubes](https://ieeexplore.ieee.org/stamp/stamp.jsp?tp=&arnumber=8365699&tag=1).\n",
        "\n",
        "2. Add in model for electrical conductivity of nanowires to calculate material properties in domain.\n"
      ]
    },
    {
      "metadata": {
        "id": "FhUYmJl_YuwS",
        "colab_type": "code",
        "colab": {}
      },
      "cell_type": "code",
      "source": [
        "class UnionFind:\n",
        "    \"\"\"Union-find data structure.\n",
        "\n",
        "    Each unionFind instance X maintains a family of disjoint sets of\n",
        "    hashable objects, supporting the following two methods:\n",
        "\n",
        "    - X[item] returns a name for the set containing the given item.\n",
        "      Each set is named by an arbitrarily-chosen one of its members; as\n",
        "      long as the set remains unchanged it will keep the same name. If\n",
        "      the item is not yet part of a set in X, a new singleton set is\n",
        "      created for it.\n",
        "\n",
        "    - X.union(item1, item2, ...) merges the sets containing each item\n",
        "      into a single larger set.  If any item is not yet part of a set\n",
        "      in X, it is added to X as one of the members of the merged set.\n",
        "\n",
        "      Union-find data structure. Based on Josiah Carlson's code,\n",
        "      http://aspn.activestate.com/ASPN/Cookbook/Python/Recipe/215912\n",
        "      with significant additional changes by D. Eppstein.\n",
        "      http://www.ics.uci.edu/~eppstein/PADS/UnionFind.py\n",
        "\n",
        "    \"\"\"\n",
        "\n",
        "    def __init__(self):\n",
        "        \"\"\"Create a new empty union-find structure.\"\"\"\n",
        "        self.weights = {}\n",
        "        self.parents = {}\n",
        "\n",
        "    def __getitem__(self, object):\n",
        "        \"\"\"Find and return the name of the set containing the object.\"\"\"\n",
        "\n",
        "        # check for previously unknown object\n",
        "        if object not in self.parents:\n",
        "            self.parents[object] = object\n",
        "            self.weights[object] = 1\n",
        "            return object\n",
        "\n",
        "        # find path of objects leading to the root\n",
        "        path = [object]\n",
        "        root = self.parents[object]\n",
        "        while root != path[-1]:\n",
        "            path.append(root)\n",
        "            root = self.parents[root]\n",
        "\n",
        "        # compress the path and return\n",
        "        for ancestor in path:\n",
        "            self.parents[ancestor] = root\n",
        "        return root\n",
        "        \n",
        "    def __iter__(self):\n",
        "        \"\"\"Iterate through all items ever found or unioned by this \n",
        "        structure.\"\"\"\n",
        "        return iter(self.parents)\n",
        "\n",
        "    def union(self, *objects):\n",
        "        \"\"\"Find the sets containing the objects and merge them all.\"\"\"\n",
        "        roots = [self[x] for x in objects]\n",
        "        heaviest = max([(self.weights[r],r) for r in roots])[1]\n",
        "        for r in roots:\n",
        "            if r != heaviest:\n",
        "                self.weights[heaviest] += self.weights[r]\n",
        "                self.parents[r] = heaviest"
      ],
      "execution_count": 0,
      "outputs": []
    },
    {
      "metadata": {
        "id": "mac5vIDX75kX",
        "colab_type": "code",
        "colab": {}
      },
      "cell_type": "code",
      "source": [
        "\"\"\" Given the length of the cross-section, a list of sorted segments \n",
        " [(x1, x2), (y1, y2), (z1, z2)], graph G, and a tolerance, return a \n",
        " connecting graph. If none, return None. \n",
        "\"\"\"\n",
        "def find_connecting_path(length, segs, G, tol):\n",
        "\n",
        "  source_plane = length / 20\n",
        "  sink_plane = length - length / 20\n",
        "\n",
        "  H = nx.Graph()\n",
        "  #X = UnionFind()\n",
        "\n",
        "  def is_between(b1, x, b2):\n",
        "    return (b1 <= x and x >= b2) or (b2 <= x and x >= b1)\n",
        "    \n",
        "\n",
        "  n = range(len(segs))\n",
        "  source_segs = [i for i in n if is_between(segs[i][1][0], \n",
        "                                            source_plane, seg[i][1][1])]\n",
        "  sink_segs = [i for i in n if is_between(segs[i][1][0], \n",
        "                                          sink_plane, seg[i][1][1])]\n",
        "  \n",
        "  if not source_segs or not sink_segs:\n",
        "    print(\"No nanotubes intersecting source and/or sink planes.\")\n",
        "    return None\n",
        "  \n",
        "  H.add_nodes_from(source_segs)\n",
        "  #X.union(source_segs)\n",
        "\n",
        "  new_segs = source_segs\n",
        "  while new_segs:\n",
        "    # Add contacting tubes to each set.  \n",
        "    temp = list(new_segs)\n",
        "    new_segs = []\n",
        "    for seg in temp:\n",
        "      for v in G.neighbors(seg):\n",
        "        if v not in source_segs:\n",
        "          #X.union(source_segs[0], v)\n",
        "          new_segs.append(v)\n",
        "          H.add_edge(seg, temp)\n",
        "          if v in sink_segs:\n",
        "            print(\"Connecting path found, here is the cluster.\")\n",
        "            return H\n",
        "        \n",
        "\n",
        "  print(\"No connecting path found.\")\n",
        "  return None\n",
        "\n",
        "    \n",
        "\n"
      ],
      "execution_count": 0,
      "outputs": []
    },
    {
      "metadata": {
        "id": "y6uo97GW79gw",
        "colab_type": "text"
      },
      "cell_type": "markdown",
      "source": [
        "###Graphically visualize the model with the path."
      ]
    },
    {
      "metadata": {
        "id": "xvH2yOY68Ehd",
        "colab_type": "code",
        "colab": {}
      },
      "cell_type": "code",
      "source": [
        "plt.subplot(121)\n",
        "nx.draw(G)\n"
      ],
      "execution_count": 0,
      "outputs": []
    }
  ]
}
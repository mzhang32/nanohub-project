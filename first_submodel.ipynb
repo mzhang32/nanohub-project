{
  "nbformat": 4,
  "nbformat_minor": 0,
  "metadata": {
    "colab": {
      "name": "first_submodel.ipynb",
      "version": "0.3.2",
      "provenance": []
    },
    "kernelspec": {
      "name": "python3",
      "display_name": "Python 3"
    }
  },
  "cells": [
    {
      "cell_type": "markdown",
      "metadata": {
        "id": "view-in-github",
        "colab_type": "text"
      },
      "source": [
        "[View in Colaboratory](https://colab.research.google.com/github/mzhang32/nanohub-project/blob/master/first_submodel.ipynb)"
      ]
    },
    {
      "metadata": {
        "id": "348Jta784OFm",
        "colab_type": "text"
      },
      "cell_type": "markdown",
      "source": [
        "#First Submodel"
      ]
    },
    {
      "metadata": {
        "id": "xkzz3eRW4nlw",
        "colab_type": "text"
      },
      "cell_type": "markdown",
      "source": [
        "\n",
        "\n",
        "###Given a set of inputs about angle distribution and nanotube length and filament size, generate some line segments .\n",
        "Is this where we use Monte Carlo? I dunno"
      ]
    },
    {
      "metadata": {
        "id": "qT0G4X464QhJ",
        "colab_type": "code",
        "colab": {}
      },
      "cell_type": "code",
      "source": [
        "# TODO"
      ],
      "execution_count": 0,
      "outputs": []
    },
    {
      "metadata": {
        "id": "URJBL8vq5Dof",
        "colab_type": "text"
      },
      "cell_type": "markdown",
      "source": [
        " ### Graphically visualize the model.\n",
        " We may have to import some libraries."
      ]
    },
    {
      "metadata": {
        "id": "KGUV7k315BtC",
        "colab_type": "code",
        "colab": {}
      },
      "cell_type": "code",
      "source": [
        "# TODO"
      ],
      "execution_count": 0,
      "outputs": []
    },
    {
      "metadata": {
        "id": "_vsdVj_G6GmC",
        "colab_type": "text"
      },
      "cell_type": "markdown",
      "source": [
        "###Represent the distribution of the nanowires and the distances between them as a graph.\n",
        "Like what this paper has done: [Computer Simulation of Field-Controlled Percolation\n",
        "in 3D System of Straight Nanotubes](https://ieeexplore.ieee.org/stamp/stamp.jsp?tp=&arnumber=8365699&tag=1)"
      ]
    },
    {
      "metadata": {
        "id": "6-6tThqv6Eq4",
        "colab_type": "code",
        "colab": {}
      },
      "cell_type": "code",
      "source": [
        "# TODO"
      ],
      "execution_count": 0,
      "outputs": []
    },
    {
      "metadata": {
        "id": "Ia1zoj9c6nZN",
        "colab_type": "text"
      },
      "cell_type": "markdown",
      "source": [
        "### Use the graph to compute a conductive path.\n",
        "Graph theory is great. Details are in the working."
      ]
    },
    {
      "metadata": {
        "id": "mac5vIDX75kX",
        "colab_type": "code",
        "colab": {}
      },
      "cell_type": "code",
      "source": [
        "# TODO"
      ],
      "execution_count": 0,
      "outputs": []
    },
    {
      "metadata": {
        "id": "y6uo97GW79gw",
        "colab_type": "text"
      },
      "cell_type": "markdown",
      "source": [
        "###Graphically visualize the model with the path."
      ]
    },
    {
      "metadata": {
        "id": "xvH2yOY68Ehd",
        "colab_type": "code",
        "colab": {}
      },
      "cell_type": "code",
      "source": [
        "# TODO"
      ],
      "execution_count": 0,
      "outputs": []
    },
    {
      "metadata": {
        "id": "JiYwntFF8Ied",
        "colab_type": "code",
        "colab": {}
      },
      "cell_type": "code",
      "source": [
        ""
      ],
      "execution_count": 0,
      "outputs": []
    }
  ]
}
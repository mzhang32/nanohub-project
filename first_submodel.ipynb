{
 "cells": [
  {
   "cell_type": "markdown",
   "metadata": {
    "colab_type": "text",
    "id": "view-in-github"
   },
   "source": [
    "[View in Colaboratory](https://colab.research.google.com/github/mzhang32/nanohub-project/blob/master/first_submodel.ipynb)"
   ]
  },
  {
   "cell_type": "markdown",
   "metadata": {
    "colab_type": "text",
    "id": "348Jta784OFm"
   },
   "source": [
    "#First Submodel\n",
    "Refer to the design document [here](https://docs.google.com/document/d/1BM18EP8cWlJ371yYBoru_q8MHjesn3eBKg7CYRqPmv0/edit). We're using GitHub to back up and Google Drive to collaborate. I believe this tool(Google Colab) will be useful because it is highly collaborative and easy to use."
   ]
  },
  {
   "cell_type": "code",
   "execution_count": 10,
   "metadata": {
    "colab": {
     "base_uri": "https://localhost:8080/",
     "height": 508
    },
    "colab_type": "code",
    "collapsed": false,
    "id": "OT5-4qrSDXvR",
    "outputId": "c159ba40-d6d5-465d-b9ef-b9b6860d425c"
   },
   "outputs": [
    {
     "name": "stdout",
     "output_type": "stream",
     "text": [
      "Traceback (most recent call last):\r\n",
      "  File \"/Applications/anaconda/bin/pip\", line 7, in <module>\r\n",
      "    from pip import main\r\n",
      "  File \"/Applications/anaconda/lib/python3.5/site-packages/pip/__init__.py\", line 26, in <module>\r\n",
      "    from pip.utils import get_installed_distributions, get_prog\r\n",
      "  File \"/Applications/anaconda/lib/python3.5/site-packages/pip/utils/__init__.py\", line 27, in <module>\r\n",
      "    from pip._vendor import pkg_resources\r\n",
      "  File \"/Applications/anaconda/lib/python3.5/site-packages/pip/_vendor/pkg_resources/__init__.py\", line 3018, in <module>\r\n",
      "    @_call_aside\r\n",
      "  File \"/Applications/anaconda/lib/python3.5/site-packages/pip/_vendor/pkg_resources/__init__.py\", line 3004, in _call_aside\r\n",
      "    f(*args, **kwargs)\r\n",
      "  File \"/Applications/anaconda/lib/python3.5/site-packages/pip/_vendor/pkg_resources/__init__.py\", line 3046, in _initialize_master_working_set\r\n",
      "    dist.activate(replace=False)\r\n",
      "  File \"/Applications/anaconda/lib/python3.5/site-packages/pip/_vendor/pkg_resources/__init__.py\", line 2578, in activate\r\n",
      "    declare_namespace(pkg)\r\n",
      "  File \"/Applications/anaconda/lib/python3.5/site-packages/pip/_vendor/pkg_resources/__init__.py\", line 2152, in declare_namespace\r\n",
      "    _handle_ns(packageName, path_item)\r\n",
      "  File \"/Applications/anaconda/lib/python3.5/site-packages/pip/_vendor/pkg_resources/__init__.py\", line 2092, in _handle_ns\r\n",
      "    _rebuild_mod_path(path, packageName, module)\r\n",
      "  File \"/Applications/anaconda/lib/python3.5/site-packages/pip/_vendor/pkg_resources/__init__.py\", line 2121, in _rebuild_mod_path\r\n",
      "    orig_path.sort(key=position_in_sys_path)\r\n",
      "AttributeError: '_NamespacePath' object has no attribute 'sort'\r\n"
     ]
    }
   ],
   "source": [
    "!pip install PySpice\n"
   ]
  },
  {
   "cell_type": "code",
   "execution_count": 8,
   "metadata": {
    "colab": {
     "base_uri": "https://localhost:8080/",
     "height": 51
    },
    "colab_type": "code",
    "collapsed": false,
    "id": "RzdwpG95EYgs",
    "outputId": "a85616fd-6504-474e-c4b8-28f37f8e2dc8"
   },
   "outputs": [
    {
     "name": "stdout",
     "output_type": "stream",
     "text": [
      "Traceback (most recent call last):\n",
      "  File \"/Applications/anaconda/bin/pip\", line 7, in <module>\n",
      "    from pip import main\n",
      "  File \"/Applications/anaconda/lib/python3.5/site-packages/pip/__init__.py\", line 26, in <module>\n",
      "    from pip.utils import get_installed_distributions, get_prog\n",
      "  File \"/Applications/anaconda/lib/python3.5/site-packages/pip/utils/__init__.py\", line 27, in <module>\n",
      "    from pip._vendor import pkg_resources\n",
      "  File \"/Applications/anaconda/lib/python3.5/site-packages/pip/_vendor/pkg_resources/__init__.py\", line 3018, in <module>\n",
      "    @_call_aside\n",
      "  File \"/Applications/anaconda/lib/python3.5/site-packages/pip/_vendor/pkg_resources/__init__.py\", line 3004, in _call_aside\n",
      "    f(*args, **kwargs)\n",
      "  File \"/Applications/anaconda/lib/python3.5/site-packages/pip/_vendor/pkg_resources/__init__.py\", line 3046, in _initialize_master_working_set\n",
      "    dist.activate(replace=False)\n",
      "  File \"/Applications/anaconda/lib/python3.5/site-packages/pip/_vendor/pkg_resources/__init__.py\", line 2578, in activate\n",
      "    declare_namespace(pkg)\n",
      "  File \"/Applications/anaconda/lib/python3.5/site-packages/pip/_vendor/pkg_resources/__init__.py\", line 2152, in declare_namespace\n",
      "    _handle_ns(packageName, path_item)\n",
      "  File \"/Applications/anaconda/lib/python3.5/site-packages/pip/_vendor/pkg_resources/__init__.py\", line 2092, in _handle_ns\n",
      "    _rebuild_mod_path(path, packageName, module)\n",
      "  File \"/Applications/anaconda/lib/python3.5/site-packages/pip/_vendor/pkg_resources/__init__.py\", line 2121, in _rebuild_mod_path\n",
      "    orig_path.sort(key=position_in_sys_path)\n",
      "AttributeError: '_NamespacePath' object has no attribute 'sort'\n"
     ]
    }
   ],
   "source": [
    "!pip install scipy"
   ]
  },
  {
   "cell_type": "code",
   "execution_count": 9,
   "metadata": {
    "colab": {
     "base_uri": "https://localhost:8080/",
     "height": 17
    },
    "colab_type": "code",
    "collapsed": false,
    "id": "Elb1WrOKENIO",
    "outputId": "a04272a1-4859-4d21-c346-31f5442d75da"
   },
   "outputs": [
    {
     "ename": "ImportError",
     "evalue": "\nImporting the multiarray numpy extension module failed.  Most\nlikely you are trying to import a failed build of numpy.\nIf you're working with a numpy git repo, try `git clean -xdf` (removes all\nfiles not under version control).  Otherwise reinstall numpy.\n\nOriginal error was: cannot import name 'multiarray'\n",
     "output_type": "error",
     "traceback": [
      "\u001b[0;31m---------------------------------------------------------------------------\u001b[0m",
      "\u001b[0;31mImportError\u001b[0m                               Traceback (most recent call last)",
      "\u001b[0;32m/Users/Michelle/Documents/nanolab/nanohub-project/numpy/core/__init__.py\u001b[0m in \u001b[0;36m<module>\u001b[0;34m()\u001b[0m\n\u001b[1;32m     15\u001b[0m \u001b[0;32mtry\u001b[0m\u001b[0;34m:\u001b[0m\u001b[0;34m\u001b[0m\u001b[0m\n\u001b[0;32m---> 16\u001b[0;31m     \u001b[0;32mfrom\u001b[0m \u001b[0;34m.\u001b[0m \u001b[0;32mimport\u001b[0m \u001b[0mmultiarray\u001b[0m\u001b[0;34m\u001b[0m\u001b[0m\n\u001b[0m\u001b[1;32m     17\u001b[0m \u001b[0;32mexcept\u001b[0m \u001b[0mImportError\u001b[0m \u001b[0;32mas\u001b[0m \u001b[0mexc\u001b[0m\u001b[0;34m:\u001b[0m\u001b[0;34m\u001b[0m\u001b[0m\n",
      "\u001b[0;31mImportError\u001b[0m: cannot import name 'multiarray'",
      "\nDuring handling of the above exception, another exception occurred:\n",
      "\u001b[0;31mImportError\u001b[0m                               Traceback (most recent call last)",
      "\u001b[0;32m<ipython-input-9-00b016568018>\u001b[0m in \u001b[0;36m<module>\u001b[0;34m()\u001b[0m\n\u001b[0;32m----> 1\u001b[0;31m \u001b[0;32mimport\u001b[0m \u001b[0mnumpy\u001b[0m \u001b[0;32mas\u001b[0m \u001b[0mnp\u001b[0m\u001b[0;34m\u001b[0m\u001b[0m\n\u001b[0m\u001b[1;32m      2\u001b[0m \u001b[0;32mimport\u001b[0m \u001b[0mmath\u001b[0m\u001b[0;34m\u001b[0m\u001b[0m\n\u001b[1;32m      3\u001b[0m \u001b[0;32mimport\u001b[0m \u001b[0mscipy\u001b[0m\u001b[0;34m\u001b[0m\u001b[0m\n\u001b[1;32m      4\u001b[0m \u001b[0;34m\u001b[0m\u001b[0m\n\u001b[1;32m      5\u001b[0m \u001b[0;32mfrom\u001b[0m \u001b[0mscipy\u001b[0m\u001b[0;34m.\u001b[0m\u001b[0mlinalg\u001b[0m \u001b[0;32mimport\u001b[0m \u001b[0;34m*\u001b[0m\u001b[0;34m\u001b[0m\u001b[0m\n",
      "\u001b[0;32m/Users/Michelle/Documents/nanolab/nanohub-project/numpy/__init__.py\u001b[0m in \u001b[0;36m<module>\u001b[0;34m()\u001b[0m\n\u001b[1;32m    140\u001b[0m         \u001b[0;32mreturn\u001b[0m \u001b[0mloader\u001b[0m\u001b[0;34m(\u001b[0m\u001b[0;34m*\u001b[0m\u001b[0mpackages\u001b[0m\u001b[0;34m,\u001b[0m \u001b[0;34m**\u001b[0m\u001b[0moptions\u001b[0m\u001b[0;34m)\u001b[0m\u001b[0;34m\u001b[0m\u001b[0m\n\u001b[1;32m    141\u001b[0m \u001b[0;34m\u001b[0m\u001b[0m\n\u001b[0;32m--> 142\u001b[0;31m     \u001b[0;32mfrom\u001b[0m \u001b[0;34m.\u001b[0m \u001b[0;32mimport\u001b[0m \u001b[0madd_newdocs\u001b[0m\u001b[0;34m\u001b[0m\u001b[0m\n\u001b[0m\u001b[1;32m    143\u001b[0m     __all__ = ['add_newdocs',\n\u001b[1;32m    144\u001b[0m                \u001b[0;34m'ModuleDeprecationWarning'\u001b[0m\u001b[0;34m,\u001b[0m\u001b[0;34m\u001b[0m\u001b[0m\n",
      "\u001b[0;32m/Users/Michelle/Documents/nanolab/nanohub-project/numpy/add_newdocs.py\u001b[0m in \u001b[0;36m<module>\u001b[0;34m()\u001b[0m\n\u001b[1;32m     11\u001b[0m \u001b[0;32mfrom\u001b[0m \u001b[0m__future__\u001b[0m \u001b[0;32mimport\u001b[0m \u001b[0mdivision\u001b[0m\u001b[0;34m,\u001b[0m \u001b[0mabsolute_import\u001b[0m\u001b[0;34m,\u001b[0m \u001b[0mprint_function\u001b[0m\u001b[0;34m\u001b[0m\u001b[0m\n\u001b[1;32m     12\u001b[0m \u001b[0;34m\u001b[0m\u001b[0m\n\u001b[0;32m---> 13\u001b[0;31m \u001b[0;32mfrom\u001b[0m \u001b[0mnumpy\u001b[0m\u001b[0;34m.\u001b[0m\u001b[0mlib\u001b[0m \u001b[0;32mimport\u001b[0m \u001b[0madd_newdoc\u001b[0m\u001b[0;34m\u001b[0m\u001b[0m\n\u001b[0m\u001b[1;32m     14\u001b[0m \u001b[0;34m\u001b[0m\u001b[0m\n\u001b[1;32m     15\u001b[0m \u001b[0;31m###############################################################################\u001b[0m\u001b[0;34m\u001b[0m\u001b[0;34m\u001b[0m\u001b[0m\n",
      "\u001b[0;32m/Users/Michelle/Documents/nanolab/nanohub-project/numpy/lib/__init__.py\u001b[0m in \u001b[0;36m<module>\u001b[0;34m()\u001b[0m\n\u001b[1;32m      6\u001b[0m \u001b[0;32mfrom\u001b[0m \u001b[0mnumpy\u001b[0m\u001b[0;34m.\u001b[0m\u001b[0mversion\u001b[0m \u001b[0;32mimport\u001b[0m \u001b[0mversion\u001b[0m \u001b[0;32mas\u001b[0m \u001b[0m__version__\u001b[0m\u001b[0;34m\u001b[0m\u001b[0m\n\u001b[1;32m      7\u001b[0m \u001b[0;34m\u001b[0m\u001b[0m\n\u001b[0;32m----> 8\u001b[0;31m \u001b[0;32mfrom\u001b[0m \u001b[0;34m.\u001b[0m\u001b[0mtype_check\u001b[0m \u001b[0;32mimport\u001b[0m \u001b[0;34m*\u001b[0m\u001b[0;34m\u001b[0m\u001b[0m\n\u001b[0m\u001b[1;32m      9\u001b[0m \u001b[0;32mfrom\u001b[0m \u001b[0;34m.\u001b[0m\u001b[0mindex_tricks\u001b[0m \u001b[0;32mimport\u001b[0m \u001b[0;34m*\u001b[0m\u001b[0;34m\u001b[0m\u001b[0m\n\u001b[1;32m     10\u001b[0m \u001b[0;32mfrom\u001b[0m \u001b[0;34m.\u001b[0m\u001b[0mfunction_base\u001b[0m \u001b[0;32mimport\u001b[0m \u001b[0;34m*\u001b[0m\u001b[0;34m\u001b[0m\u001b[0m\n",
      "\u001b[0;32m/Users/Michelle/Documents/nanolab/nanohub-project/numpy/lib/type_check.py\u001b[0m in \u001b[0;36m<module>\u001b[0;34m()\u001b[0m\n\u001b[1;32m      9\u001b[0m            'common_type']\n\u001b[1;32m     10\u001b[0m \u001b[0;34m\u001b[0m\u001b[0m\n\u001b[0;32m---> 11\u001b[0;31m \u001b[0;32mimport\u001b[0m \u001b[0mnumpy\u001b[0m\u001b[0;34m.\u001b[0m\u001b[0mcore\u001b[0m\u001b[0;34m.\u001b[0m\u001b[0mnumeric\u001b[0m \u001b[0;32mas\u001b[0m \u001b[0m_nx\u001b[0m\u001b[0;34m\u001b[0m\u001b[0m\n\u001b[0m\u001b[1;32m     12\u001b[0m \u001b[0;32mfrom\u001b[0m \u001b[0mnumpy\u001b[0m\u001b[0;34m.\u001b[0m\u001b[0mcore\u001b[0m\u001b[0;34m.\u001b[0m\u001b[0mnumeric\u001b[0m \u001b[0;32mimport\u001b[0m \u001b[0masarray\u001b[0m\u001b[0;34m,\u001b[0m \u001b[0masanyarray\u001b[0m\u001b[0;34m,\u001b[0m \u001b[0marray\u001b[0m\u001b[0;34m,\u001b[0m \u001b[0misnan\u001b[0m\u001b[0;34m,\u001b[0m \u001b[0mzeros\u001b[0m\u001b[0;34m\u001b[0m\u001b[0m\n\u001b[1;32m     13\u001b[0m \u001b[0;32mfrom\u001b[0m \u001b[0;34m.\u001b[0m\u001b[0mufunclike\u001b[0m \u001b[0;32mimport\u001b[0m \u001b[0misneginf\u001b[0m\u001b[0;34m,\u001b[0m \u001b[0misposinf\u001b[0m\u001b[0;34m\u001b[0m\u001b[0m\n",
      "\u001b[0;32m/Users/Michelle/Documents/nanolab/nanohub-project/numpy/core/__init__.py\u001b[0m in \u001b[0;36m<module>\u001b[0;34m()\u001b[0m\n\u001b[1;32m     24\u001b[0m \u001b[0mOriginal\u001b[0m \u001b[0merror\u001b[0m \u001b[0mwas\u001b[0m\u001b[0;34m:\u001b[0m \u001b[0;34m%\u001b[0m\u001b[0ms\u001b[0m\u001b[0;34m\u001b[0m\u001b[0m\n\u001b[1;32m     25\u001b[0m \"\"\" % (exc,)\n\u001b[0;32m---> 26\u001b[0;31m     \u001b[0;32mraise\u001b[0m \u001b[0mImportError\u001b[0m\u001b[0;34m(\u001b[0m\u001b[0mmsg\u001b[0m\u001b[0;34m)\u001b[0m\u001b[0;34m\u001b[0m\u001b[0m\n\u001b[0m\u001b[1;32m     27\u001b[0m \u001b[0;32mfinally\u001b[0m\u001b[0;34m:\u001b[0m\u001b[0;34m\u001b[0m\u001b[0m\n\u001b[1;32m     28\u001b[0m     \u001b[0;32mfor\u001b[0m \u001b[0menvkey\u001b[0m \u001b[0;32min\u001b[0m \u001b[0menv_added\u001b[0m\u001b[0;34m:\u001b[0m\u001b[0;34m\u001b[0m\u001b[0m\n",
      "\u001b[0;31mImportError\u001b[0m: \nImporting the multiarray numpy extension module failed.  Most\nlikely you are trying to import a failed build of numpy.\nIf you're working with a numpy git repo, try `git clean -xdf` (removes all\nfiles not under version control).  Otherwise reinstall numpy.\n\nOriginal error was: cannot import name 'multiarray'\n"
     ]
    }
   ],
   "source": [
    "import numpy as np\n",
    "import math\n",
    "import scipy\n",
    "\n",
    "from scipy.linalg import *"
   ]
  },
  {
   "cell_type": "markdown",
   "metadata": {
    "colab_type": "text",
    "id": "83FzQeVmf5je"
   },
   "source": [
    "###Write a function that finds the minimum distance between a pair of 3D line segments."
   ]
  },
  {
   "cell_type": "code",
   "execution_count": 23,
   "metadata": {
    "colab": {},
    "colab_type": "code",
    "collapsed": true,
    "id": "fsCLc9DOgX4B"
   },
   "outputs": [],
   "source": [
    "\"\"\"Distance returns the 3D distance between line1=(start1, end1) and\n",
    "line2=(start2, end2).\"\"\"\n",
    "def distance(line1, line2):\n",
    "  P = np.array(line1[0])\n",
    "  Q = np.array(line1[1])\n",
    "  R = np.array(line2[0])\n",
    "  S = np.array(line2[1])\n",
    "  P1mP0 = Q - P\n",
    "  Q1mQ0 = S - R\n",
    "  P0mQ0 = P - R\n",
    "  a = np.dot(P1mP0, P1mP0)\n",
    "  b = np.dot(P1mP0, Q1mQ0)\n",
    "  c = np.dot(Q1mQ0, Q1mQ0)         \n",
    "  d = np.dot(P1mP0, P0mQ0)\n",
    "  e= np.dot(Q1mQ0, P0mQ0)\n",
    "  det = a * c - b * b\n",
    "  if det > 0:\n",
    "    bte = b * e\n",
    "    ctd = c * d\n",
    "    if bte <= ctd: # s <= 0\n",
    "      s = 0\n",
    "      if e <= 0:  # t <= 0\n",
    "        t = 0\n",
    "        nd = -d\n",
    "        if nd >= a:\n",
    "          s = 1\n",
    "        elif nd > 0:\n",
    "          s = nd / a\n",
    "      elif e < c:  #0 < t < 1 and region 5\n",
    "        t = e / c\n",
    "      else: # t >= 1\n",
    "        t = 1   # region 4\n",
    "        bmd = b - d\n",
    "        if bmd >= a:\n",
    "          s = 1\n",
    "        elif bmd > 0:\n",
    "          s = bmd / a\n",
    "    else: \n",
    "      s = bte - ctd\n",
    "      if s >= det:\n",
    "        s = 1\n",
    "        bpe = b + e\n",
    "        if bpe <= 0: # region 8\n",
    "          t = 0\n",
    "          nd = -d\n",
    "          if nd <= 0:\n",
    "            s = 0\n",
    "          elif nd < a:\n",
    "            s = nd / a\n",
    "        elif bpe < c: # region 1\n",
    "          t = bpe / c\n",
    "        else: # region 2\n",
    "          t = 1\n",
    "          bmd = b- d\n",
    "          if bmd <= 0:\n",
    "            s = 0\n",
    "          elif bmd < a:\n",
    "            s = bmd / a\n",
    "      else:\n",
    "        ate = a * e\n",
    "        btd = b * d\n",
    "        if ate <= btd: # region 7 \n",
    "          t = 0\n",
    "          nd = -d\n",
    "          if nd <= 0:\n",
    "            s = 0\n",
    "          elif nd >= a:\n",
    "            s = 1\n",
    "          else:\n",
    "            s = nd / a\n",
    "        else: \n",
    "          t = ate - btd\n",
    "          if t >= det: # region 3\n",
    "            t = 1\n",
    "            bmd = b - d\n",
    "            if bmd <= 0:\n",
    "              s = 0\n",
    "            elif bmd >= a:\n",
    "              s = 1\n",
    "            else:\n",
    "              s = bmd / a\n",
    "          else:  # region 0\n",
    "            s /= det\n",
    "            t /= det\n",
    "  else: \n",
    "    if e <= 0:\n",
    "      t = 0\n",
    "      nd = -d\n",
    "      if nd <= 0: # region 6\n",
    "        s = 0\n",
    "      elif nd >=a: # region 8\n",
    "        s = 1\n",
    "      else: # region 7\n",
    "        s = nd / a\n",
    "    elif e >= c:\n",
    "      t = 1\n",
    "      bmd = b - d\n",
    "      if bmd <= 0: # reigon 4\n",
    "        s = 0\n",
    "      elif bmd >= a: # region 2\n",
    "        s = 1\n",
    "      else:  # region 3\n",
    "        s = bmd / a\n",
    "    else:       \n",
    "      \"\"\"The point (0,e/c) is on the line and domain, so we have one\n",
    "      point at which R is a minimum.\"\"\"\n",
    "      s = 0\n",
    "      t = e / c\n",
    "\n",
    "  result_parameter = [s, t]\n",
    "  result_closest = [P + s * P1mP0, R + t * Q1mQ0]\n",
    "  diff = result_closest[1] - result_closest[0]\n",
    "  dist = np.dot(diff, diff)\n",
    "  dist = math.sqrt(dist)\n",
    "  \n",
    "  return dist\n",
    "  \n",
    "# Compute the euclidian distance between p1=(x1,y1,z1) and p2=(x2,y2,z2)\n",
    "def simple_distance(p1, p2):\n",
    "  x1 = p1[0]\n",
    "  x2 = p2[0]\n",
    "  y1 = p1[1]\n",
    "  y2 = p2[1]\n",
    "  z1 = p1[2]\n",
    "  z2 = p2[2]\n",
    "  return np.sqrt((x1-x2)**2 + (y1-y2)**2 + (z1-z2)**2)"
   ]
  },
  {
   "cell_type": "markdown",
   "metadata": {
    "colab_type": "text",
    "id": "xkzz3eRW4nlw"
   },
   "source": [
    "\n",
    "\n",
    "###Given a set of inputs about angle distribution and nanotube length and filament size, generate some line segments .\n"
   ]
  },
  {
   "cell_type": "code",
   "execution_count": 24,
   "metadata": {
    "colab": {},
    "colab_type": "code",
    "collapsed": true,
    "id": "woHwF2n3zKdI"
   },
   "outputs": [],
   "source": [
    "# Rewriting the code because I can't figure out what's wrong with the above.\n",
    "import numpy as np\n",
    "import math\n",
    "\"\"\"Returns volume of polymer given width(of square side) and length.\"\"\"\n",
    "def get_polymer_volume(width_of_poly, length_of_poly):\n",
    "    return (width_of_poly ** 2) * length_of_poly\n",
    "\n",
    "\"\"\"Returns volume of cylindrical nanowire with diameter and length.\"\"\"\n",
    "def get_wire_volume(length, diameter):\n",
    "    return math.pi * ((diameter / 2) ** 2) * length\n",
    "  \n",
    "\"\"\"Returns a random point within the domain. \"\"\" \n",
    "def get_initial_point(width_of_poly, length_of_poly):\n",
    "    x = np.random.uniform(-(width_of_poly / 2), (width_of_poly / 2))\n",
    "    y = np.random.uniform(0, length_of_poly)\n",
    "    z = np.random.uniform(0, width_of_poly)\n",
    "    return (x, y, z)\n",
    "\n",
    "\"\"\"Returns an end point for the corresponding start_point within the domain. \"\"\"\n",
    "def get_end_point(p, mean, sd, phi_lower, phi_upper, theta_lower, theta_upper):\n",
    "    length = np.random.normal(mean, sd)\n",
    "    phi = np.random.uniform(phi_lower, phi_upper)\n",
    "    theta = verti_angle = np.random.uniform(theta_lower, theta_upper)\n",
    "    x = p[0] + length * math.sin(theta) * math.cos(phi)\n",
    "    y = p[1] + length * math.sin(theta) * math.sin(phi)\n",
    "    z = p[2] + length * math.cos(theta)\n",
    "    p_end = fix_domain(p, [x, y, z])\n",
    "    final_length = simple_distance(p, p_end)\n",
    "    return tuple(p_end), final_length\n",
    "  \n",
    "\"\"\"Returns True if the line (point1, point2) has a distamce that is \n",
    "   greater than or equal to diameter away from all the lines defined by\n",
    "   start_points, end_points.\"\"\"  \n",
    "def check_intersection(lines, point1, point2, diameter, int_tol):\n",
    "    for line in lines:\n",
    "        dist = distance(line, (point1, point2))\n",
    "        if dist < diameter - int_tol:\n",
    "            return False\n",
    "    return True\n",
    "\n",
    "\"\"\"Return True if the points (x, y, z) is not within the polymer. \"\"\"\n",
    "def check_domain(p):\n",
    "    return p[1] > length_of_poly or p[2] > width_of_poly or p[2] < 0 \\\n",
    "                or abs(p[0]) > (width_of_poly / 2)\n",
    "\n",
    "\"\"\"Given initial point p0 and a line (p0, p1), adjust p1 so it lies \n",
    "   within the domain.\"\"\"\n",
    "def fix_domain(p0, p1):\n",
    "  a = p1[0]-p0[0]\n",
    "  b = p1[1]-p0[1]\n",
    "  c = p1[2]-p0[2]\n",
    "  if p1[0] > width_of_poly / 2:\n",
    "    p1[0] = width_of_poly / 2\n",
    "    t = (p1[0]-p0[0])/a\n",
    "    p1[1] = p0[1] + t*b\n",
    "    p1[2] = p0[2] + t*c\n",
    "  elif p1[0] < -width_of_poly / 2:\n",
    "    p1[0] = -width_of_poly / 2\n",
    "    t = (p1[0]-p0[0])/a\n",
    "    p1[1] = p0[1] + t*b\n",
    "    p1[2] = p0[2] + t*c\n",
    "  if p1[1] > length_of_poly:\n",
    "    p1[1] = length_of_poly\n",
    "    t = (p1[1]-p0[1])/b\n",
    "    p1[0] = p0[0] + t*a\n",
    "    p1[2] = p0[2] + t*c\n",
    "  elif p1[1] < 0:\n",
    "    p1[1] = 0\n",
    "    t = (p1[1]-p0[1])/b\n",
    "    p1[0] = p0[0] + t*a\n",
    "    p1[2] = p0[2] + t*c  \n",
    "  if p1[2] > width_of_poly:\n",
    "    p1[2] = width_of_poly\n",
    "    t = (p1[2]-p0[2])/c\n",
    "    p1[0] = p0[0] + t*a\n",
    "    p1[1] = p0[1] + t*b\n",
    "  elif p1[2] < 0:\n",
    "    p1[2] = 0\n",
    "    t = (p1[2]-p0[2])/c\n",
    "    p1[0] = p0[0] + t*a\n",
    "    p1[1] = p0[1] + t*b\n",
    "  return p1\n",
    "  \n",
    "  \n",
    "\"\"\"Returns a list of lines where each line is [(x1, y1, z1), (x2, y2, z2)].\"\"\"\n",
    "def generate(volume_fraction, width_of_poly, length_of_poly, diameter, \n",
    "            volume_of_poly, mean_nanowire_length, SD, theta_lower, \n",
    "            theta_upper, phi_lower, phi_upper, int_tol):\n",
    "\tlines = []\n",
    "\tvolume = 0\n",
    "\twhile (volume / volume_of_poly) < volume_fraction:\n",
    "\t\tstart = get_initial_point(width_of_poly, length_of_poly)\n",
    "\t\tend, length = get_end_point(start, mean_nanowire_length, SD, phi_lower, phi_upper, theta_lower, theta_upper)\n",
    "\t\twhile (int_tol != diameter and not check_intersection(lines, start, end, diameter, int_tol)):\n",
    "\t\t\tstart = get_initial_point(width_of_poly, length_of_poly)\n",
    "\t\t\tend, length = get_end_point(start, mean_nanowire_length, SD, phi_lower, phi_upper, theta_lower, theta_upper)\n",
    "\t\tlines.append([start, end])\n",
    "\t\tvolume += math.pi * ((diameter / 2) ** 2) * length\n",
    "    \n",
    "\treturn lines\n",
    "      \n",
    "     \n",
    "    \n",
    "    "
   ]
  },
  {
   "cell_type": "code",
   "execution_count": 25,
   "metadata": {
    "colab": {},
    "colab_type": "code",
    "collapsed": true,
    "id": "TLnYffU0qZGg"
   },
   "outputs": [],
   "source": [
    "volume_fraction = 3/100 # 1% generates about 2500 nanowires, 2% about 5000(normal dimensions), 3% gets you connecting path(halved volume)\n",
    "width_of_poly = 25/4 # 25/1.26\n",
    "length_of_poly = 25/4 # 25/1.26\n",
    "diameter = 125e-3\n",
    "volume_of_poly = get_polymer_volume(width_of_poly, length_of_poly)\n",
    "mean_nanowire_length = 5\n",
    "SD = 1.5e-3\n",
    "theta_lower = 0\n",
    "theta_upper = math.pi\n",
    "phi_lower = 0\n",
    "phi_upper = math.pi\n",
    "cross_sectional_area = (diameter / 2) ** 2 * math.pi\n",
    "intersection_tolerance = diameter/2 # Let the nanowires intersect a \n",
    "                                    # little, set to 0 if no want intersect, set to diameter if disregard intersect\n",
    "lines = generate(volume_fraction, width_of_poly, \n",
    "                                   length_of_poly, diameter, \n",
    "                                   volume_of_poly, mean_nanowire_length, \n",
    "                                   SD, theta_lower, theta_upper, \n",
    "                                   phi_lower, phi_upper, \n",
    "                                   intersection_tolerance)"
   ]
  },
  {
   "cell_type": "code",
   "execution_count": 81,
   "metadata": {
    "colab": {
     "base_uri": "https://localhost:8080/",
     "height": 119
    },
    "colab_type": "code",
    "collapsed": true,
    "id": "Cow2Lv62vzGW",
    "outputId": "63078859-76cd-497c-bde5-1552c4af27ab"
   },
   "outputs": [
    {
     "name": "stdout",
     "output_type": "stream",
     "text": [
      "1.0\n",
      "1.0\n",
      "1.0\n",
      "1.0\n",
      "Uh oh\n",
      "Uh oh\n",
      "Uh oh\n",
      "Uh oh\n",
      "Uh oh\n",
      "Uh oh\n",
      "Uh oh\n",
      "Uh oh\n",
      "Uh oh\n",
      "Uh oh\n",
      "Uh oh\n",
      "Uh oh\n",
      "Uh oh\n",
      "Uh oh\n",
      "Uh oh\n",
      "Uh oh\n",
      "Uh oh\n",
      "Uh oh\n",
      "Uh oh\n",
      "Uh oh\n",
      "Uh oh\n",
      "Uh oh\n",
      "Uh oh\n",
      "Uh oh\n",
      "Uh oh\n",
      "Uh oh\n",
      "Uh oh\n",
      "Uh oh\n",
      "Uh oh\n",
      "Uh oh\n",
      "Uh oh\n",
      "Uh oh\n",
      "Uh oh\n",
      "Uh oh\n",
      "Uh oh\n",
      "Uh oh\n",
      "Uh oh\n",
      "Uh oh\n",
      "Uh oh\n",
      "Uh oh\n",
      "Uh oh\n",
      "Uh oh\n",
      "Uh oh\n",
      "Uh oh\n",
      "Uh oh\n",
      "Uh oh\n",
      "Uh oh\n",
      "Uh oh\n",
      "Uh oh\n",
      "Uh oh\n",
      "Uh oh\n",
      "Uh oh\n",
      "Uh oh\n",
      "Uh oh\n",
      "Uh oh\n",
      "Uh oh\n",
      "Uh oh\n",
      "Uh oh\n",
      "Uh oh\n",
      "Uh oh\n",
      "Uh oh\n",
      "Uh oh\n",
      "Uh oh\n",
      "Uh oh\n",
      "Uh oh\n",
      "Uh oh\n",
      "Uh oh\n",
      "Uh oh\n",
      "Uh oh\n",
      "Uh oh\n",
      "Uh oh\n",
      "Uh oh\n",
      "Uh oh\n",
      "Uh oh\n",
      "Uh oh\n",
      "Uh oh\n",
      "Uh oh\n",
      "Uh oh\n",
      "Uh oh\n",
      "Uh oh\n",
      "Uh oh\n",
      "Uh oh\n",
      "Uh oh\n",
      "Uh oh\n",
      "Uh oh\n",
      "Uh oh\n",
      "Uh oh\n",
      "Uh oh\n",
      "Uh oh\n",
      "Uh oh\n",
      "Uh oh\n",
      "Uh oh\n",
      "Uh oh\n",
      "Uh oh\n",
      "Uh oh\n",
      "Uh oh\n",
      "Uh oh\n",
      "Uh oh\n",
      "Uh oh\n",
      "Distances should be empty if int_tol is 0:  [0.06267301351642185, 0.06348249463121006, 0.06404624493204367, 0.06445236128687604, 0.06483253793708642, 0.06595108674252494, 0.06611506555343459, 0.0663376913348006, 0.06680738267687282, 0.06683978809887613, 0.06703362377787844, 0.06715828290113798, 0.06721581631340895, 0.06739010051780568, 0.06783520900866367, 0.0695250192979014, 0.07048880366160844, 0.07094242679652649, 0.07117604905533689, 0.07179297097078127, 0.07411640571124409, 0.07481105043802345, 0.07512152930019211, 0.07652603559260687, 0.07813347355564117, 0.07884295003920401, 0.07964245252832351, 0.07982132112614312, 0.0800790577890672, 0.08013431850427974, 0.08051970212379421, 0.08083261649615112, 0.08201911571184219, 0.08205643195089563, 0.08261676527226153, 0.08412535379788717, 0.08505845794075931, 0.08604022283990058, 0.08614527787484445, 0.08731891185854998, 0.08752946814897385, 0.08758312733985514, 0.08773904834274536, 0.08784420655220357, 0.08803530474862414, 0.0892337050534947, 0.08993802192188517, 0.09039939294895964, 0.09052287698925622, 0.09133674772976927, 0.09189741467545405, 0.09204798103918733, 0.09299235498810486, 0.09411173008575731, 0.09452680965882578, 0.0963756646962547, 0.09716807506863244, 0.09753849343356784, 0.09812186925613535, 0.09967957276545551, 0.09978670541354936, 0.10077245034737316, 0.10092113395871241, 0.10102950443581364, 0.10189388144206564, 0.10259809229033426, 0.10417560684047936, 0.1049117806198123, 0.10533439264643692, 0.10553782523239413, 0.10569093687799497, 0.10638249052916422, 0.1072599586791913, 0.10786878109479377, 0.10833000810743772, 0.10916326672404218, 0.11026313706852942, 0.11194522518742936, 0.11223449612275284, 0.11268870106045456, 0.11406832843164895, 0.11434612020700602, 0.11471060360381362, 0.11508730158338437, 0.11653579286536643, 0.11714916763953738, 0.11803637710931042, 0.11871364416861961, 0.11924529390175258, 0.1194591113834584, 0.12012370916260576, 0.12053093632229925, 0.1205673559085314, 0.12141017702268295, 0.12161326439681054, 0.12181911865682522, 0.12207058005180307, 0.12338574061315223, 0.12414221481965834]\n",
      "99\n"
     ]
    }
   ],
   "source": [
    "# Testing distance\n",
    "l1 = [(0, 0, 0), (1, 0, 0)]\n",
    "l2 = [(2, 0, 0), (3, 0, 0)]\n",
    "l3 = [(0, 0, 1), (1, 0, 1)]\n",
    "l4 = [(0, -1, 0), (1, -1, 0)]\n",
    "l5 = [(0, 0, 0), (1, 1, 0)]\n",
    "l6 = [(0, 0, 1), (1, 0, 2)]\n",
    "print(distance(l1, l2))\n",
    "print(distance(l1, l3))\n",
    "print(distance(l1, l4))\n",
    "print(distance(l5, l6))\n",
    "\n",
    "# Testing start and end points\n",
    "distances = []\n",
    "for i in range(len(lines)):\n",
    "  for j in range(i):\n",
    "    l1 = lines[i]\n",
    "    l2 = lines[j]\n",
    "    d = distance(l1, l2)\n",
    "    if d < diameter:\n",
    "      print(\"Uh oh\")\n",
    "      distances.append(d)\n",
    "\n",
    "print(\"Distances should be empty if int_tol is 0: \", sorted(distances))     \n",
    "print(len(distances))"
   ]
  },
  {
   "cell_type": "code",
   "execution_count": 74,
   "metadata": {
    "colab": {
     "base_uri": "https://localhost:8080/",
     "height": 34
    },
    "colab_type": "code",
    "collapsed": false,
    "id": "J2bgp2pwR-_T",
    "outputId": "e41a885d-fc7d-49a3-db15-e2d978ac0654"
   },
   "outputs": [
    {
     "data": {
      "text/plain": [
       "146"
      ]
     },
     "execution_count": 74,
     "metadata": {},
     "output_type": "execute_result"
    }
   ],
   "source": [
    "len(lines)"
   ]
  },
  {
   "cell_type": "markdown",
   "metadata": {
    "colab_type": "text",
    "id": "_vsdVj_G6GmC"
   },
   "source": [
    "###Represent the distribution of the nanowires and the distances between them as a graph.\n",
    "Let G = (V, E) where V is the set of indiviual nanowires and let E = (V1, V2), the distance between nanowires V1 and V2. Using the graph package library [NetworkX](https://networkx.github.io/documentation/stable/tutorial.html)."
   ]
  },
  {
   "cell_type": "code",
   "execution_count": 5,
   "metadata": {
    "colab": {
     "base_uri": "https://localhost:8080/",
     "height": 51
    },
    "colab_type": "code",
    "collapsed": false,
    "id": "UtyutQQeZHPJ",
    "outputId": "b1994271-e217-4010-beac-9fcf9091ab31"
   },
   "outputs": [
    {
     "name": "stdout",
     "output_type": "stream",
     "text": [
      "Requirement already satisfied: networkx in /usr/local/lib/python3.6/dist-packages (2.1)\r\n",
      "Requirement already satisfied: decorator>=4.1.0 in /usr/local/lib/python3.6/dist-packages (from networkx) (4.3.0)\r\n"
     ]
    }
   ],
   "source": [
    "!pip install networkx"
   ]
  },
  {
   "cell_type": "code",
   "execution_count": 82,
   "metadata": {
    "colab": {},
    "colab_type": "code",
    "collapsed": true,
    "id": "td8VVcTIQ81Q"
   },
   "outputs": [],
   "source": [
    "import networkx as nx\n",
    "\n",
    "\"\"\" Returns a networkx graph G formed from V = the lines in format \n",
    " [(x1, y1, z1), (x2, y2, z2)] and E = distances between the lines\n",
    " that are within tolerance.\n",
    "\"\"\"\n",
    "def init_graph(lines, tolerance):\n",
    "  G = nx.Graph()\n",
    "  G.add_nodes_from(range(len(lines)))\n",
    "  for i in range(len(lines)):\n",
    "    for j in range(i):\n",
    "      l1 = lines[i]\n",
    "      l2 = lines[j]\n",
    "      d = distance(l1, l2)\n",
    "      if d <= tolerance:\n",
    "        G.add_edge(i, j, weight=d*1e-6)  # Units unscaled\n",
    "  return G\n"
   ]
  },
  {
   "cell_type": "code",
   "execution_count": 83,
   "metadata": {
    "colab": {},
    "colab_type": "code",
    "collapsed": true,
    "id": "RbxbHQcCS3Wj"
   },
   "outputs": [],
   "source": [
    "H = init_graph(lines, diameter*1)   \n",
    "H_prime = init_graph(lines, diameter*1.5)"
   ]
  },
  {
   "cell_type": "code",
   "execution_count": 0,
   "metadata": {
    "colab": {},
    "colab_type": "code",
    "collapsed": true,
    "id": "GQpR6741T3W3"
   },
   "outputs": [],
   "source": [
    "list(H.edges.data('weight'))"
   ]
  },
  {
   "cell_type": "markdown",
   "metadata": {
    "colab_type": "text",
    "id": "URJBL8vq5Dof"
   },
   "source": [
    " ### Graphically visualize the model.\n",
    " We may have to import some libraries. A good-looking one is this python wrapper for OpenGL, [PyOpenGL](http://pyopengl.sourceforge.net/).\n",
    " \n",
    " It turns out using opengl in python notebook is not possible(?)."
   ]
  },
  {
   "cell_type": "code",
   "execution_count": 28,
   "metadata": {
    "colab": {
     "base_uri": "https://localhost:8080/",
     "height": 330
    },
    "colab_type": "code",
    "collapsed": false,
    "id": "KGUV7k315BtC",
    "outputId": "bca109b0-2eda-4d1e-8d3a-540613ba9caa"
   },
   "outputs": [
    {
     "name": "stdout",
     "output_type": "stream",
     "text": [
      "<ESC>[1;32m2018-07-11 10:36:32,055<ESC>[0m - <ESC>[1;34mmatplotlib.wrapper<ESC>[0m - <ESC>[1;31mDEBUG<ESC>[0m - $HOME=/Users/Michelle\n",
      "<ESC>[1;32m2018-07-11 10:36:32,056<ESC>[0m - <ESC>[1;34mmatplotlib.wrapper<ESC>[0m - <ESC>[1;31mDEBUG<ESC>[0m - matplotlib data path /Applications/anaconda/lib/python3.5/site-packages/matplotlib/mpl-data\n",
      "<ESC>[1;32m2018-07-11 10:36:32,063<ESC>[0m - <ESC>[1;34mmatplotlib.rc_params_from_file<ESC>[0m - <ESC>[1;31mDEBUG<ESC>[0m - loaded rc file /Applications/anaconda/lib/python3.5/site-packages/matplotlib/mpl-data/matplotlibrc\n",
      "<ESC>[1;32m2018-07-11 10:36:32,065<ESC>[0m - <ESC>[1;34mmatplotlib.<module><ESC>[0m - <ESC>[1;31mDEBUG<ESC>[0m - matplotlib version 2.2.2\n",
      "<ESC>[1;32m2018-07-11 10:36:32,065<ESC>[0m - <ESC>[1;34mmatplotlib.<module><ESC>[0m - <ESC>[1;31mDEBUG<ESC>[0m - interactive is False\n",
      "<ESC>[1;32m2018-07-11 10:36:32,066<ESC>[0m - <ESC>[1;34mmatplotlib.<module><ESC>[0m - <ESC>[1;31mDEBUG<ESC>[0m - platform is darwin\n",
      "<ESC>[1;32m2018-07-11 10:36:32,066<ESC>[0m - <ESC>[1;34mmatplotlib.<module><ESC>[0m - <ESC>[1;31mDEBUG<ESC>[0m - loaded modules: ['prompt_toolkit.filters', 'getpass', 'numpy._import_tools', 'encodings.latin_1', 'ipython_genutils.path', 'fcntl', 'jupyter_client.connect', 'prompt_toolkit.layout.toolbars', '_yaml', 'os.path', 'pexpect.expect', 'zmq.backend.cython.error', 'urllib.response', 'IPython.lib.security', 'IPython.core.magics.execution', 'numpy.lib.polynomial', 'matplotlib.compat', 'decorator', 'pygments.filter', 'IPython.core.magics.pylab', 'pkg_resources.extern.packaging.requirements', 'xml.parsers.expat.model', 'posix', 'subprocess', 'IPython.utils._process_common', 'numpy.core.defchararray', 'IPython.testing.skipdoctest', 'jupyter_core.paths', 'yaml', 'importlib.machinery', '_random', 'IPython.utils.text', 'IPython.core.hooks', 'gettext', 'pkg_resources.py31compat', 'logging', '_ast', 'asyncio.transports', '_functools', 'distutils.errors', 'pygments.lexers.python', 'ipywidgets.widgets.widget_box', 'prompt_toolkit.layout.screen', 'tornado.platform', 'prompt_toolkit.key_binding.bindings.scroll', '__main__', 'ipywidgets.widgets.widget_controller', 'prompt_toolkit.document', 'email.parser', 'ipykernel.pickleutil', 'ipywidgets.widgets.domwidget', 'numpy.core.multiarray', 'IPython.core.prefilter', 'IPython.utils.module_paths', 'traitlets.traitlets', 'numpy.random.info', '_sysconfigdata', 'pygments.lexers._mapping', 'zmq.sugar.poll', 'tornado.util', 'multiprocessing.reduction', 'IPython.core.magics.auto', 'importlib.util', 'ipywidgets.widgets.trait_types', 'pygments.lexers', 'ssl', 'pkg_resources.extern.six.moves.urllib', 'random', 'ptyprocess.ptyprocess', 'encodings.aliases', 'IPython.utils._sysinfo', 'pydoc', 'prompt_toolkit.utils', '_frozen_importlib', 'IPython.utils.generics', 'zmq.utils', 'zmq.sugar.attrsettr', 'IPython.utils.PyColorize', 'wcwidth.table_zero', 'enum', 'IPython.core.builtin_trap', 'IPython.core.excolors', 'traitlets.config.loader', 'traitlets.config.application', 'jupyter_client.session', 'IPython.utils.data', 'traitlets.utils.importstring', 'numpy.lib.arraysetops', 'numpy.testing.utils', 'IPython.core.release', 'email.base64mime', 'stat', 'pkg_resources.extern.six', 'copyreg', 'prompt_toolkit.styles.base', 'itertools', 'prompt_toolkit.buffer', 'platform', 'IPython.utils.capture', 'ipython_genutils', 'yaml.scanner', 'numpy.fft.fftpack', 'prompt_toolkit.key_binding.digraphs', 'matplotlib.compat.subprocess', 'numpy.lib.arrayterator', 're', 'distutils.sysconfig', '_multiprocessing', 'reprlib', 'wcwidth', '_thread', '_json', 'html.entities', 'numpy.lib.format', 'prompt_toolkit.filters.utils', 'IPython.lib', 'jupyter_client.adapter', 'prompt_toolkit.input', 'json.decoder', 'shlex', 'traitlets.config', 'numpy.core.arrayprint', 'pygments.token', 'sqlite3', 'ipywidgets.widgets.widget_output', 'IPython.terminal.embed', 'ctypes.macholib', 'pexpect.exceptions', '_bisect', 'cmd', 'ipykernel.jsonutil', 'prompt_toolkit', 'zmq.sugar.tracker', 'yaml.events', 'difflib', 'ipywidgets', 'abc', 'PySpice.Tools.Path', 'prompt_toolkit.token', 'matplotlib.cbook._backports', 'pygments.style', 'IPython.core.pylabtools', 'email.iterators', 'xml.parsers', 'importlib', 'traitlets.utils.getargspec', 'ipywidgets.widgets.widget_float', 'pygments.unistring', 'IPython.utils.dir2', 'pickleshare', 'IPython.utils._tokenize_py3', 'IPython.core.usage', 'prompt_toolkit.key_binding.input_processor', 'prompt_toolkit.layout.processors', 'ipython_genutils.encoding', 'ptyprocess', 'yaml.constructor', 'IPython.core.formatters', 'pygments.lexer', 'pexpect.spawnbase', 'numpy.fft.helper', 'timeit', '_sre', 'traitlets._version', 'ipython_genutils._version', 'argparse', 'sre_parse', 'ipykernel.kernelbase', 'IPython.core.events', '_pickle', 'jupyter_client.blocking', 'gc', 'prompt_toolkit.key_binding.bindings.vi', 'ipykernel.serialize', 'IPython.core.splitinput', 'zlib', '_socket', 'pygments.formatters', 'prompt_toolkit.styles', 'pkg_resources.extern.packaging._structures', 'IPython.terminal.magics', 'numpy.linalg.info', 'zmq', 'termios', 'locale', '_osx_support', 'urllib', 'IPython.core.oinspect', 'jupyter_client.manager', 'shutil', 'IPython.lib.display', 'ptyprocess.util', 'encodings.cp437', 'email.feedparser', 'json.scanner', 'zmq.sugar.version', 'email.errors', 'jupyter_client._version', 'socket', 'IPython.utils.tokenize2', 'ipython_genutils.text', 'pkg_resources._vendor.six', '_warnings', 'numpy.lib.twodim_base', 'matplotlib', 'tornado.stack_context', 'zmq.sugar', 'storemagic', 'ipywidgets.widgets.widget', 'IPython.core.shadowns', 'pkg_resources.extern.appdirs', 'traitlets.utils.bunch', 'ipykernel.ipkernel', 'pyexpat', '_ctypes', 'ipywidgets.widgets.widget_bool', 'numpy.lib.nanfunctions', 'pkg_resources._vendor.packaging.__about__', 'wcwidth.table_wide', '_curses', 'unicodedata', 'typing.io', 'email.quoprimime', 'matplotlib._color_data', 'ctypes', '_compat_pickle', 'tty', 'ipaddress', 'asyncio.tasks', 'pkg_resources.extern.packaging.version', 'prompt_toolkit.auto_suggest', 'os', 'IPython.utils.decorators', 'IPython.terminal.prompts', 'prompt_toolkit.terminal.vt100_output', 'xml.parsers.expat', 'zmq.utils.jsonapi', 'math', 'ipywidgets.widgets.widget_button', 'ipykernel.datapub', 'ipywidgets.widgets', 'prompt_toolkit.filters.base', 'IPython.utils.syspathcontext', 'concurrent.futures.process', 'numpy.core.fromnumeric', 'tornado.escape', 'prompt_toolkit.clipboard', 'inspect', 'IPython.utils.ipstruct', 'heapq', 'quopri', 'traitlets.config.configurable', 'traitlets.utils', 'IPython.core.magics.logging', 'textwrap', 'signal', '_sitebuiltins', 'ntpath', 'jupyter_client.launcher', 'token', 'ipykernel.comm.comm', 'numpy.lib._iotools', 'zmq.backend.cython.socket', 'prompt_toolkit.terminal', 'unittest.signals', 'fnmatch', 'numpy.core._methods', 'xml.parsers.expat.errors', 'zmq.eventloop.zmqstream', 'asyncio.unix_events', 'email._policybase', 'IPython.core.displaypub', '_signal', 'prompt_toolkit.key_binding.bindings', 'IPython.core.display', 'prompt_toolkit.layout', 'pexpect.utils', 'numpy', 'bdb', 'IPython.utils.timing', 'ipykernel.comm.manager', 'zmq.backend.cython.context', 'base64', 'zmq.eventloop.ioloop', 'numpy.compat._inspect', 'matplotlib._version', 'contextlib', 'numpy.polynomial.chebyshev', 'jupyter_core', 'types', 'distutils.version', 'PySpice.Config.ConfigInstall', 'pkg_resources._vendor.six.moves', 'zmq.backend.cython.constants', 'lzma', 'prompt_toolkit.validation', '_ssl', 'prompt_toolkit.styles.utils', 'IPython.core.inputtransformer', 'tornado.platform.posix', 'jupyter_core.version', 'IPython.core.compilerop', 'unittest.runner', 'prompt_toolkit.terminal.vt100_input', 'numpy.lib.npyio', 'numpy.core.shape_base', 'pathlib', 'http', 'IPython.core.payloadpage', 'IPython.terminal.ptutils', 'ipywidgets.widgets.widget_selectioncontainer', 'IPython.core.magics.config', 'IPython.utils.openpy', 'sqlite3.dbapi2', 'prompt_toolkit.clipboard.in_memory', 'yaml.resolver', 'linecache', 'ipykernel.iostream', 'jupyter_client.jsonutil', 'IPython.lib.pretty', 'IPython.core.logger', 'bz2', 'IPython.core.page', 'asyncio.log', 'asyncio.constants', 'ipython_genutils.importstring', 'importlib.abc', 'logging.handlers', 'prompt_toolkit.key_binding.bindings.emacs', 'jupyter_client.multikernelmanager', 'zmq.libzmq', '__mp_main__', 'bisect', 'urllib.error', '_datetime', 'jupyter_client.clientabc', '_weakref', 'IPython.lib.deepreload', 'ctypes.macholib.framework', 'threading', 'IPython.utils.coloransi', 'marshal', 'IPython.utils.path', 'prompt_toolkit.layout.margins', 'pkg_resources.extern.packaging', 'IPython.core.magics.script', 'IPython.utils.importstring', 'resource', 'jupyter_client.managerabc', 'concurrent.futures._base', 'asyncio.subprocess', 'asyncio.events', 'numpy.core.info', 'prompt_toolkit.enums', 'typing', 'concurrent.futures.thread', 'copy', 'asyncio.queues', 'dateutil', 'pkg_resources.extern', 'IPython.terminal.pt_inputhooks', 'prompt_toolkit.eventloop.base', 'IPython.core.magics.history', 'asyncio.base_subprocess', 'sre_compile', 'numpy.random', 'opcode', 'PySpice', 'zmq.backend.cython._version', 'jupyter_client', 'IPython.core.profiledir', '__future__', 'posixpath', 'numpy.linalg', 'imp', 'html', 'numpy.fft.fftpack_lite', 'prompt_toolkit.interface', '_lsprof', 'numpy.lib.scimath', 'errno', 'queue', 'zmq.eventloop', 'runpy', 'cycler', 'IPython.core.debugger', 'IPython.utils.strdispatch', 'numpy.core', 'IPython.display', '_codecs', 'operator', 'IPython.utils.sentinel', 'ipykernel.comm', 'site', 'zmq.backend', 'numpy.core.memmap', 'encodings.utf_8', 'yaml.nodes', 'weakref', 'IPython.core.displayhook', 'codecs', 'numpy.lib._datasource', 'numbers', 'pdb', 'pygments.plugin', 'pygments.modeline', 'zmq.backend.cython.utils', 'numpy.fft', 'tornado.speedups', 'jupyter_client.client', 'matplotlib.cbook.deprecation', '_sqlite3', 'prompt_toolkit.styles.defaults', '_posixsubprocess', 'traitlets.utils.sentinel', 'hmac', 'pygments.styles.default', 'IPython.core.magics.display', 'ipywidgets.widgets.interaction', 'numpy.random.mtrand', 'prompt_toolkit.key_binding.manager', 'ipywidgets.widgets.widget_image', 'IPython.utils.tempdir', 'ipykernel.displayhook', 'numpy.lib', 'pickle', 'builtins', 'zmq.utils.strtypes', 'cProfile', 'prompt_toolkit.layout.prompt', 'email._encoded_words', 'gzip', 'prompt_toolkit.layout.dimension', 'IPython.core.macro', 'IPython.core.alias', 'numpy.lib._version', 'hashlib', 'IPython.utils', 'prompt_toolkit.styles.from_pygments', 'zmq.backend.cython._poll', 'numpy.fft.info', 'zipimport', 'asyncio.coroutines', 'tornado.concurrent', 'pkg_resources.extern.packaging._compat', '_bz2', 'email.header', 'pstats', 'prompt_toolkit.filters.types', 'numpy.polynomial.legendre', 'IPython.utils.terminal', '_locale', 'IPython.terminal', 'time', 'multiprocessing.util', 'IPython', 'six.moves', 'IPython.core.completerlib', 'ipywidgets.widgets.widget_link', 'IPython.utils.contexts', 'asyncio.futures', 'IPython.core.magics.basic', 'numpy.linalg.linalg', 'unittest.result', 'IPython.core.history', 'tornado.ioloop', 'json', 'tempfile', 'prompt_toolkit.application', 'wcwidth.wcwidth', 'IPython.utils.colorable', 'tornado.log', 'pygments.formatters._mapping', 'xml', 'ast', 'json.encoder', 'ipython_genutils.py3compat', 'yaml.reader', 'numpy.lib.arraypad', 'numpy.linalg.lapack_lite', 'curses', 'pyexpat.errors', 'yaml.composer', 'PySpice.Logging.Logging', 'prompt_toolkit.selection', 'collections', 'numpy.compat.py3k', 'sys', 'tarfile', 'numpy.lib.info', 'numpy.lib.type_check', 'numpy.core.machar', 'zmq.utils.constant_names', 'email.utils', 'multiprocessing.context', 'ipykernel.kernelapp', 'zmq.backend.cython._device', 'ipywidgets.widgets.eventful', 'IPython.utils.py3compat', 'six.moves.urllib', 'IPython.terminal.ipapp', 'matplotlib.colors', 'zmq.sugar.socket', '_collections_abc', 'unittest.case', 'prompt_toolkit.eventloop', 'tornado.platform.auto', 'yaml.representer', 'jupyter_client.channels', 'encodings', 'struct', 'numpy.core.getlimits', 'genericpath', 'io', 'prompt_toolkit.eventloop.callbacks', 'ipywidgets.widgets.widget_layout', 'pyexpat.model', 'simplegeneric', 'uu', 'pkg_resources.extern.packaging.markers', 'prompt_toolkit.layout.controls', 'pkg_resources.extern.six.moves', 'concurrent.futures', '_heapq', 'prompt_toolkit.output', 'IPython.extensions', 'matplotlib.cbook', 'multiprocessing', 'pyparsing', 'ctypes.macholib.dylib', 'pygments', 'IPython.utils.wildcard', 'numpy.core.records', 'prompt_toolkit.layout.utils', 'pygments.util', 'selectors', 'jupyter_client.blocking.client', 'prompt_toolkit.mouse_events', 'prompt_toolkit.layout.menus', 'email.message', 'ipykernel.parentpoller', 'traitlets', 'unittest.suite', 'pygments.regexopt', 'asyncio.streams', 'array', 'prompt_toolkit.shortcuts', 'jupyter_client.kernelspec', 'mtrand', 'ipywidgets.widgets.widget_string', 'numpy.__config__', 'zipfile', 'unittest.loader', 'numpy.ma.core', 'PySpice.Tools', 'IPython.utils.frame', 'jupyter_client.blocking.channels', 'numpy.lib.financial', 'IPython.core.shellapp', 'tokenize', 'calendar', 'sysconfig', 'numpy.core.numerictypes', 'pty', 'prompt_toolkit.layout.containers', 'string', 'profile', 'numpy.lib.shape_base', 'zmq.backend.cython.message', 'IPython.terminal.interactiveshell', 'pygments.styles', 'asyncio.protocols', 'IPython.lib.clipboard', 'ipykernel.zmqshell', 'asyncio.locks', 'prompt_toolkit.key_binding.bindings.basic', 'traceback', 'IPython.core.interactiveshell', 'http.client', 'IPython.testing', 'ctypes._endian', 'numpy.add_newdocs', 'IPython.utils.signatures', 'matplotlib.testing', 'prompt_toolkit.reactive', 'numpy.polynomial.laguerre', '_lzma', 'faulthandler', 'IPython.terminal.debugger', 'plistlib', 'uuid', 'IPython.core.ultratb', 'mimetypes', 'ipykernel._version', 'numpy.testing.nosetester', 'select', 'ipykernel.codeutil', 'numpy.core.numeric', 'ipykernel.connect', 'tornado.platform.interface', 'numpy.lib.function_base', 'jupyter_client.channelsabc', 'email._parseaddr', 'numpy.lib.stride_tricks', 'IPython.core.magic_arguments', 'zmq.backend.cython', 'grp', 'numpy.lib.ufunclike', 'yaml.loader', 'numpy.polynomial.hermite_e', 'binascii', 'numpy.core.function_base', '_string', 'optparse', 'ctypes.util', 'asyncio.compat', 'pprint', '_io', 'PySpice.Config', 'IPython.core.magic', 'IPython.core.getipython', 'pkg_resources', 'code', 'importlib._bootstrap_external', 'IPython.terminal.shortcuts', 'ipywidgets.widgets.widget_color', 'matplotlib.fontconfig_pattern', 'distutils', '_frozen_importlib_external', 'getopt', 'prompt_toolkit.renderer', '_collections', 'prompt_toolkit.history', 'yaml.dumper', 'IPython.core.magics.namespace', 'importlib._bootstrap', '_imp', 'google', 'keyword', '_hashlib', 'IPython.core.payload', 'IPython.core.crashhandler', 'pygments.formatters.html', 'asyncio.sslproto', 'numpy.compat', 'traitlets.log', 'IPython.core.latex_symbols', 'pkg_resources.extern.packaging.specifiers', 'ipywidgets.widgets.widget_selection', 'prompt_toolkit.key_binding.bindings.utils', 'sre_constants', 'prompt_toolkit.layout.lexers', 'IPython.core.magics.osm', 'pwd', 'yaml.tokens', 'six.moves.urllib.request', 'pkg_resources.extern.pyparsing', 'dis', 'concurrent', 'IPython.core.inputsplitter', 'multiprocessing.connection', '_struct', 'PySpice.Logging', 'IPython.utils.ulinecache', 'urllib.request', 'prompt_toolkit.styles.from_dict', 'multiprocessing.process', 'numpy.polynomial', 'prompt_toolkit.completion', 'IPython.core.magics', 'numpy.ctypeslib', 'codeop', '_compression', 'numpy.testing', 'atexit', 'yaml.parser', 'numpy.core._internal', 'logging.config', 'prompt_toolkit.buffer_mapping', 'prompt_toolkit.layout.mouse_handlers', 'IPython.core', 'jupyter_client.localinterfaces', 'pygments.filters', '_strptime', 'IPython.utils._process_posix', 'six', 'prompt_toolkit.clipboard.base', 'functools', 'pkg_resources._vendor', 'numpy.polynomial.polynomial', 'prompt_toolkit.keys', 'prompt_toolkit.key_binding.bindings.completion', 'numpy.polynomial.polyutils', 'numpy.linalg._umath_linalg', 'prompt_toolkit.key_binding', 'email.encoders', 'prompt_toolkit.cache', 'email.charset', 'yaml.emitter', 'zmq.error', 'prompt_toolkit.search_state', 'glob', '_scproxy', 'pygments.formatter', 'email', 'IPython.utils.encoding', 'zmq.sugar.frame', 'asyncio.selector_events', 'numpy.lib.utils', 'prompt_toolkit.filters.cli', 'IPython.paths', 'ipywidgets.widgets.widget_int', 'numpy.lib.index_tricks', 'unittest', 'pexpect', 'tornado', 'yaml.serializer', 'IPython.utils.process', 'zmq.backend.select', 'IPython.core.completer', 'unittest.main', 'numpy.version', 'IPython.core.magics.extension', 'prompt_toolkit.key_binding.registry', 'pexpect.run', 'numpy.polynomial._polybase', 'numpy.ma', '_weakrefset', 'yaml.cyaml', 'asyncio.base_events', '_stat', 'ctypes.macholib.dyld', 'IPython.core.application', 'numpy.ma.extras', 'numpy.polynomial.hermite', 'IPython.utils.io', 'IPython.utils.sysinfo', 'ipywidgets._version', 'ipykernel', 'zmq.sugar.context', 'urllib.parse', 'numpy.core.umath', 'IPython.core.extensions', 'socketserver', 'ipykernel.heartbeat', 'IPython.lib.backgroundjobs', '_opcode', 'numpy.testing.decorators', 'asyncio', 'typing.re', 'prompt_toolkit.key_binding.vi_state', 'matplotlib.rcsetup', 'IPython.core.display_trap', 'pkgutil', 'numpy.matrixlib', 'collections.abc', '_operator', 'IPython.utils.tokenutil', 'unittest.util', 'yaml.error', 'numpy.matrixlib.defmatrix', 'IPython.core.autocall', 'IPython.core.error', 'pexpect.pty_spawn', 'IPython.core.magics.code', 'warnings', 'zmq.sugar.constants', 'IPython.extensions.storemagic', '_bootlocale', 'datetime']\n"
     ]
    },
    {
     "ename": "ImportError",
     "evalue": "dlopen(/Applications/anaconda/lib/python3.5/site-packages/matplotlib/ft2font.cpython-35m-darwin.so, 2): Symbol not found: _inflateValidate\n  Referenced from: /Applications/anaconda/lib/libpng16.16.dylib\n  Expected in: /Applications/anaconda/lib/python3.5/lib-dynload/../../libz.1.dylib\n in /Applications/anaconda/lib/libpng16.16.dylib",
     "output_type": "error",
     "traceback": [
      "\u001b[0;31m---------------------------------------------------------------------------\u001b[0m",
      "\u001b[0;31mImportError\u001b[0m                               Traceback (most recent call last)",
      "\u001b[0;32m<ipython-input-28-75305cf52449>\u001b[0m in \u001b[0;36m<module>\u001b[0;34m()\u001b[0m\n\u001b[0;32m----> 1\u001b[0;31m \u001b[0;32mimport\u001b[0m \u001b[0mmatplotlib\u001b[0m\u001b[0;34m.\u001b[0m\u001b[0mpyplot\u001b[0m \u001b[0;32mas\u001b[0m \u001b[0mplt\u001b[0m\u001b[0;34m\u001b[0m\u001b[0m\n\u001b[0m\u001b[1;32m      2\u001b[0m \u001b[0;32mfrom\u001b[0m \u001b[0mmpl_toolkits\u001b[0m\u001b[0;34m.\u001b[0m\u001b[0mmplot3d\u001b[0m \u001b[0;32mimport\u001b[0m \u001b[0mAxes3D\u001b[0m\u001b[0;34m\u001b[0m\u001b[0m\n\u001b[1;32m      3\u001b[0m \u001b[0mfig\u001b[0m \u001b[0;34m=\u001b[0m \u001b[0mplt\u001b[0m\u001b[0;34m.\u001b[0m\u001b[0mfigure\u001b[0m\u001b[0;34m(\u001b[0m\u001b[0;34m)\u001b[0m\u001b[0;34m\u001b[0m\u001b[0m\n\u001b[1;32m      4\u001b[0m \u001b[0max\u001b[0m \u001b[0;34m=\u001b[0m \u001b[0mfig\u001b[0m\u001b[0;34m.\u001b[0m\u001b[0madd_subplot\u001b[0m\u001b[0;34m(\u001b[0m\u001b[0;36m111\u001b[0m\u001b[0;34m,\u001b[0m \u001b[0mprojection\u001b[0m\u001b[0;34m=\u001b[0m\u001b[0;34m'3d'\u001b[0m\u001b[0;34m)\u001b[0m\u001b[0;34m\u001b[0m\u001b[0m\n\u001b[1;32m      5\u001b[0m \u001b[0;34m\u001b[0m\u001b[0m\n",
      "\u001b[0;32m/Applications/anaconda/lib/python3.5/site-packages/matplotlib/pyplot.py\u001b[0m in \u001b[0;36m<module>\u001b[0;34m()\u001b[0m\n\u001b[1;32m     29\u001b[0m \u001b[0;32mfrom\u001b[0m \u001b[0mcycler\u001b[0m \u001b[0;32mimport\u001b[0m \u001b[0mcycler\u001b[0m\u001b[0;34m\u001b[0m\u001b[0m\n\u001b[1;32m     30\u001b[0m \u001b[0;32mimport\u001b[0m \u001b[0mmatplotlib\u001b[0m\u001b[0;34m\u001b[0m\u001b[0m\n\u001b[0;32m---> 31\u001b[0;31m \u001b[0;32mimport\u001b[0m \u001b[0mmatplotlib\u001b[0m\u001b[0;34m.\u001b[0m\u001b[0mcolorbar\u001b[0m\u001b[0;34m\u001b[0m\u001b[0m\n\u001b[0m\u001b[1;32m     32\u001b[0m \u001b[0;32mfrom\u001b[0m \u001b[0mmatplotlib\u001b[0m \u001b[0;32mimport\u001b[0m \u001b[0mstyle\u001b[0m\u001b[0;34m\u001b[0m\u001b[0m\n\u001b[1;32m     33\u001b[0m \u001b[0;32mfrom\u001b[0m \u001b[0mmatplotlib\u001b[0m \u001b[0;32mimport\u001b[0m \u001b[0m_pylab_helpers\u001b[0m\u001b[0;34m,\u001b[0m \u001b[0minteractive\u001b[0m\u001b[0;34m\u001b[0m\u001b[0m\n",
      "\u001b[0;32m/Applications/anaconda/lib/python3.5/site-packages/matplotlib/colorbar.py\u001b[0m in \u001b[0;36m<module>\u001b[0;34m()\u001b[0m\n\u001b[1;32m     34\u001b[0m \u001b[0;32mimport\u001b[0m \u001b[0mmatplotlib\u001b[0m\u001b[0;34m.\u001b[0m\u001b[0mcollections\u001b[0m \u001b[0;32mas\u001b[0m \u001b[0mcollections\u001b[0m\u001b[0;34m\u001b[0m\u001b[0m\n\u001b[1;32m     35\u001b[0m \u001b[0;32mimport\u001b[0m \u001b[0mmatplotlib\u001b[0m\u001b[0;34m.\u001b[0m\u001b[0mcolors\u001b[0m \u001b[0;32mas\u001b[0m \u001b[0mcolors\u001b[0m\u001b[0;34m\u001b[0m\u001b[0m\n\u001b[0;32m---> 36\u001b[0;31m \u001b[0;32mimport\u001b[0m \u001b[0mmatplotlib\u001b[0m\u001b[0;34m.\u001b[0m\u001b[0mcontour\u001b[0m \u001b[0;32mas\u001b[0m \u001b[0mcontour\u001b[0m\u001b[0;34m\u001b[0m\u001b[0m\n\u001b[0m\u001b[1;32m     37\u001b[0m \u001b[0;32mimport\u001b[0m \u001b[0mmatplotlib\u001b[0m\u001b[0;34m.\u001b[0m\u001b[0mcm\u001b[0m \u001b[0;32mas\u001b[0m \u001b[0mcm\u001b[0m\u001b[0;34m\u001b[0m\u001b[0m\n\u001b[1;32m     38\u001b[0m \u001b[0;32mimport\u001b[0m \u001b[0mmatplotlib\u001b[0m\u001b[0;34m.\u001b[0m\u001b[0mgridspec\u001b[0m \u001b[0;32mas\u001b[0m \u001b[0mgridspec\u001b[0m\u001b[0;34m\u001b[0m\u001b[0m\n",
      "\u001b[0;32m/Applications/anaconda/lib/python3.5/site-packages/matplotlib/contour.py\u001b[0m in \u001b[0;36m<module>\u001b[0;34m()\u001b[0m\n\u001b[1;32m     18\u001b[0m \u001b[0;32mimport\u001b[0m \u001b[0mmatplotlib\u001b[0m\u001b[0;34m.\u001b[0m\u001b[0mcolors\u001b[0m \u001b[0;32mas\u001b[0m \u001b[0mcolors\u001b[0m\u001b[0;34m\u001b[0m\u001b[0m\n\u001b[1;32m     19\u001b[0m \u001b[0;32mimport\u001b[0m \u001b[0mmatplotlib\u001b[0m\u001b[0;34m.\u001b[0m\u001b[0mcollections\u001b[0m \u001b[0;32mas\u001b[0m \u001b[0mmcoll\u001b[0m\u001b[0;34m\u001b[0m\u001b[0m\n\u001b[0;32m---> 20\u001b[0;31m \u001b[0;32mimport\u001b[0m \u001b[0mmatplotlib\u001b[0m\u001b[0;34m.\u001b[0m\u001b[0mfont_manager\u001b[0m \u001b[0;32mas\u001b[0m \u001b[0mfont_manager\u001b[0m\u001b[0;34m\u001b[0m\u001b[0m\n\u001b[0m\u001b[1;32m     21\u001b[0m \u001b[0;32mimport\u001b[0m \u001b[0mmatplotlib\u001b[0m\u001b[0;34m.\u001b[0m\u001b[0mtext\u001b[0m \u001b[0;32mas\u001b[0m \u001b[0mtext\u001b[0m\u001b[0;34m\u001b[0m\u001b[0m\n\u001b[1;32m     22\u001b[0m \u001b[0;32mimport\u001b[0m \u001b[0mmatplotlib\u001b[0m\u001b[0;34m.\u001b[0m\u001b[0mcbook\u001b[0m \u001b[0;32mas\u001b[0m \u001b[0mcbook\u001b[0m\u001b[0;34m\u001b[0m\u001b[0m\n",
      "\u001b[0;32m/Applications/anaconda/lib/python3.5/site-packages/matplotlib/font_manager.py\u001b[0m in \u001b[0;36m<module>\u001b[0;34m()\u001b[0m\n\u001b[1;32m     53\u001b[0m \u001b[0;32mimport\u001b[0m \u001b[0mlogging\u001b[0m\u001b[0;34m\u001b[0m\u001b[0m\n\u001b[1;32m     54\u001b[0m \u001b[0;34m\u001b[0m\u001b[0m\n\u001b[0;32m---> 55\u001b[0;31m \u001b[0;32mfrom\u001b[0m \u001b[0mmatplotlib\u001b[0m \u001b[0;32mimport\u001b[0m \u001b[0mafm\u001b[0m\u001b[0;34m,\u001b[0m \u001b[0mcbook\u001b[0m\u001b[0;34m,\u001b[0m \u001b[0mft2font\u001b[0m\u001b[0;34m,\u001b[0m \u001b[0mrcParams\u001b[0m\u001b[0;34m,\u001b[0m \u001b[0mget_cachedir\u001b[0m\u001b[0;34m\u001b[0m\u001b[0m\n\u001b[0m\u001b[1;32m     56\u001b[0m \u001b[0;32mfrom\u001b[0m \u001b[0mmatplotlib\u001b[0m\u001b[0;34m.\u001b[0m\u001b[0mcompat\u001b[0m \u001b[0;32mimport\u001b[0m \u001b[0msubprocess\u001b[0m\u001b[0;34m\u001b[0m\u001b[0m\n\u001b[1;32m     57\u001b[0m from matplotlib.fontconfig_pattern import (\n",
      "\u001b[0;31mImportError\u001b[0m: dlopen(/Applications/anaconda/lib/python3.5/site-packages/matplotlib/ft2font.cpython-35m-darwin.so, 2): Symbol not found: _inflateValidate\n  Referenced from: /Applications/anaconda/lib/libpng16.16.dylib\n  Expected in: /Applications/anaconda/lib/python3.5/lib-dynload/../../libz.1.dylib\n in /Applications/anaconda/lib/libpng16.16.dylib"
     ]
    }
   ],
   "source": [
    "import matplotlib.pyplot as plt\n",
    "from mpl_toolkits.mplot3d import Axes3D\n",
    "fig = plt.figure()\n",
    "ax = fig.add_subplot(111, projection='3d')\n",
    "\n",
    "segments = []\n",
    "for line in lines:\n",
    "  x = [line[0][0], line[1][0]]\n",
    "  y = [line[0][1], line[1][1]]\n",
    "  z = [line[0][2], line[1][2]]\n",
    "  segments.append([x, y, z])\n",
    "for seg in segments:\n",
    "  ax.plot(seg[0], seg[1], seg[2])\n",
    "ax.set_xlim3d(-width_of_poly/2, width_of_poly/2)\n",
    "ax.set_ylim3d(0, length_of_poly)\n",
    "ax.set_zlim3d(0, length_of_poly)  \n",
    "plt.xlabel('x')\n",
    "plt.ylabel('y')  \n",
    "#ax.plot([0, -1], [0, -1], [0, -1]) # Test line segment\n",
    "plt.show()  \n"
   ]
  },
  {
   "cell_type": "markdown",
   "metadata": {
    "colab_type": "text",
    "id": "Ia1zoj9c6nZN"
   },
   "source": [
    "### Use the graph to compute a conductive cluster.\n",
    "1. Graph theory is great. Details are in the working. The paper used the Union-Find Algorithm :\n",
    "*\"To find the conductive cluster in a nanotube system\n",
    "between two electrodes and to calculate the probability of\n",
    "percolation, an algorithm based on the graph theory is used.\n",
    "According to the algorithm, all tubes of the system are\n",
    "represented as vertices of a simple graph, edges of which\n",
    "correspond to the connections between the tubes. Nanotubes\n",
    "that are in contact with the opposite sides of the parallelepiped\n",
    "form two subsets corresponding to the electrode. At the next\n",
    "stage, a component that combines these subsets is sought by\n",
    "means of the union-find algorithm. Thus, a conductive path in\n",
    "the nanotubes system is formed.\"\"* From [Computer Simulation of Field-Controlled Percolation\n",
    "in 3D System of Straight Nanotubes](https://ieeexplore.ieee.org/stamp/stamp.jsp?tp=&arnumber=8365699&tag=1).\n",
    "\n",
    "2. Add in model for electrical conductivity of nanowires to calculate material properties in domain.\n"
   ]
  },
  {
   "cell_type": "code",
   "execution_count": 89,
   "metadata": {
    "colab": {
     "base_uri": "https://localhost:8080/",
     "height": 54
    },
    "colab_type": "code",
    "collapsed": true,
    "id": "-TM48SIeUaHs",
    "outputId": "be6960bb-8862-4543-fcf2-ccacf12d52e8"
   },
   "outputs": [
    {
     "data": {
      "text/plain": [
       "EdgeDataView([(0, 2131, 1.0594446722523573e-07), (1, 2337, 7.432877764952751e-08), (1, 2483, 1.1286742810023002e-07), (1, 2495, 6.374826374525983e-08), (2, 2210, 1.2006249586562257e-07), (2, 2804, 6.584126109417616e-08), (3, 2719, 9.743363280888911e-08), (4, 950, 9.579201494484675e-08), (4, 1617, 8.307664928294931e-08), (5, 870, 6.512834680677863e-08), (6, 685, 8.933917445616958e-08), (6, 957, 7.35432364574879e-08), (6, 1359, 8.938087332974506e-08), (6, 2534, 7.44278787148117e-08), (8, 1364, 6.572431050431779e-08), (8, 1516, 1.0164365944184338e-07), (8, 1526, 1.0461113450346195e-07), (9, 969, 7.377977147826668e-08), (9, 2279, 7.83228388098006e-08), (10, 2421, 8.043546696589176e-08), (11, 1557, 1.011734289882281e-07), (13, 933, 6.819399613944487e-08), (13, 2655, 8.736216768081547e-08), (15, 514, 8.34117283272747e-08), (15, 2520, 1.035332058792001e-07), (17, 581, 1.1209464025354967e-07), (17, 1832, 7.252831140324831e-08), (17, 3061, 1.0107915839092849e-07), (18, 714, 1.1775749221474388e-07), (19, 592, 1.2160098689355894e-07), (20, 529, 1.1906456270268435e-07), (20, 1915, 9.989425493141916e-08), (21, 397, 1.1855756285260916e-07), (21, 1136, 7.403965015846943e-08), (21, 2549, 8.264263787690804e-08), (24, 2519, 9.688859168871697e-08), (26, 922, 8.937083854622059e-08), (27, 134, 9.701377660052319e-08), (27, 2084, 1.1152327164598544e-07), (27, 2611, 9.43967221772942e-08), (28, 1551, 1.0305057584690606e-07), (29, 99, 8.72316572474474e-08), (30, 373, 1.0959605063263714e-07), (30, 440, 9.30117929992956e-08), (30, 2747, 7.393705688533134e-08), (31, 3163, 1.0705899971852327e-07), (33, 209, 6.605651557238714e-08), (33, 985, 7.961940763099676e-08), (34, 451, 6.60721984000382e-08), (34, 768, 7.396904444536816e-08), (34, 2502, 1.0987536408714198e-07), (34, 2640, 1.0224333596093189e-07), (35, 2803, 1.1052982240590068e-07), (36, 1660, 6.505205120471568e-08), (37, 544, 1.1033435015877824e-07), (37, 2370, 7.481162920635619e-08), (38, 380, 7.695205263901867e-08), (39, 1468, 9.021984049720449e-08), (39, 1483, 7.761154391489217e-08), (40, 706, 1.066457314800254e-07), (40, 1075, 1.201958577221188e-07), (41, 1887, 1.234699187997425e-07), (42, 1558, 1.0888271131182185e-07), (42, 1977, 8.90068803183862e-08), (43, 2926, 1.1737540312871504e-07), (44, 255, 1.0276552718379358e-07), (46, 230, 6.908367807053759e-08), (46, 2455, 1.0934853856756094e-07), (47, 1382, 6.968397333668894e-08), (47, 1743, 7.696717525764948e-08), (48, 400, 6.303967446265396e-08), (48, 1016, 8.562317733319225e-08), (49, 54, 9.067435892953435e-08), (49, 757, 1.0764654121671399e-07), (49, 2362, 7.650625992377762e-08), (49, 3113, 1.2095481870881987e-07), (53, 1622, 1.2425042408630167e-07), (55, 289, 6.714565738260302e-08), (55, 1414, 1.2187895455087737e-07), (57, 232, 6.518526257725787e-08), (57, 520, 6.560547501595041e-08), (57, 2121, 9.361707032910856e-08), (58, 85, 9.935363509194089e-08), (58, 2321, 9.169965145642933e-08), (59, 2056, 1.1985538383560763e-07), (59, 2374, 9.92337473539893e-08), (61, 1946, 8.098302366769003e-08), (62, 1470, 9.742884563749429e-08), (63, 1816, 1.0310648984383235e-07), (64, 1415, 8.497435181239766e-08), (64, 2269, 1.0860968920151877e-07), (66, 387, 1.2439651695701103e-07), (66, 1948, 9.981760962935841e-08), (67, 2771, 9.395582532566332e-08), (67, 2840, 1.1557674948601601e-07), (68, 1198, 6.709149683793153e-08), (69, 1870, 8.991406270640956e-08), (69, 1949, 9.80847817248616e-08), (69, 2112, 7.852607521172522e-08), (69, 2868, 1.1262011802960842e-07), (70, 1866, 8.154353859389647e-08), (71, 713, 1.1674242988729338e-07), (71, 1251, 8.583592967419968e-08), (71, 1656, 1.0010827515301112e-07), (71, 1977, 1.1541130034624101e-07), (71, 2222, 8.219971984187777e-08), (71, 2278, 9.454909976848614e-08), (74, 654, 8.287781371224751e-08), (76, 2519, 9.651904055052319e-08), (76, 2680, 7.421399192235347e-08), (78, 743, 1.2305632352869538e-07), (80, 1502, 1.2073313903977566e-07), (81, 818, 9.637363737527547e-08), (81, 2103, 7.881590044473387e-08), (81, 2270, 8.422358088217405e-08), (83, 3027, 9.62852206331494e-08), (83, 3123, 1.1191496962297317e-07), (84, 968, 6.302850419999458e-08), (85, 2292, 7.546683301734623e-08), (86, 2663, 7.643790630670424e-08), (88, 3078, 1.020697245524663e-07), (88, 3124, 1.0205214434833011e-07), (90, 422, 1.2176251219586293e-07), (90, 2202, 1.0969562752629162e-07), (91, 2458, 6.284904364039436e-08), (92, 277, 6.445272343632402e-08), (92, 355, 8.961139814529996e-08), (92, 2230, 7.23868056565047e-08), (93, 1251, 7.715266278686903e-08), (93, 1267, 1.142635886024978e-07), (93, 3015, 1.1628832014834801e-07), (93, 3044, 1.0724596680767783e-07), (94, 292, 9.41697150050726e-08), (94, 926, 1.231122271723522e-07), (95, 428, 9.500736503368383e-08), (95, 567, 8.195495702776823e-08), (96, 1264, 8.896238239206334e-08), (97, 729, 9.107733656970444e-08), (97, 1029, 9.043289056808743e-08), (97, 1916, 9.924061997103635e-08), (97, 2079, 9.184688853968242e-08), (97, 2113, 7.314512631956125e-08), (98, 1755, 8.710311895612351e-08), (98, 1941, 7.6795869895683e-08), (98, 2313, 9.621916822313592e-08), (99, 811, 1.2232117316116442e-07), (99, 2345, 1.0100155392845188e-07), (102, 3163, 1.0243378781227205e-07), (105, 2853, 1.221756087945535e-07), (106, 1559, 8.251635737974885e-08), (107, 630, 9.776765216455835e-08), (107, 1949, 8.026496283163763e-08), (108, 354, 7.703515321375544e-08), (108, 1131, 9.112888434892367e-08), (108, 2686, 8.997896047940862e-08), (108, 2699, 1.1337571591867365e-07), (109, 1200, 1.238878546198644e-07), (110, 316, 6.668418033932028e-08), (110, 2528, 9.826191759264299e-08), (110, 3140, 7.94248848622577e-08), (111, 589, 1.1951766156104097e-07), (112, 689, 8.260647189762462e-08), (113, 1777, 6.928872320083338e-08), (113, 3087, 9.607361039918931e-08), (115, 122, 1.019472607601679e-07), (115, 517, 9.030386223701791e-08), (115, 2083, 1.0308634408819895e-07), (115, 3113, 7.361283142039219e-08), (117, 2510, 7.377282391681078e-08), (119, 1148, 1.220301857142474e-07), (119, 2888, 8.211714126502539e-08), (120, 1850, 1.1610087309917009e-07), (122, 323, 8.401494400796212e-08), (122, 981, 9.268289803574859e-08), (123, 1156, 6.459335395278846e-08), (123, 1790, 1.185925662333881e-07), (123, 3030, 9.940086860536098e-08), (124, 494, 6.734656439208885e-08), (124, 1016, 7.772059033778903e-08), (125, 253, 9.696535780825797e-08), (125, 446, 8.843961719007827e-08), (125, 517, 1.2435583543702915e-07), (126, 2997, 8.49108410063123e-08), (127, 2092, 8.136844031112862e-08), (127, 2180, 8.728465646470203e-08), (127, 2363, 1.1503144705427386e-07), (130, 304, 8.551161210923205e-08), (130, 841, 9.815520202288128e-08), (134, 1284, 1.0158395284707631e-07), (134, 2084, 9.76261021013508e-08), (134, 2387, 6.86783374303331e-08), (135, 934, 9.854021449957932e-08), (138, 622, 1.0426698343875423e-07), (138, 679, 8.097789624503923e-08), (138, 1453, 7.802133928042878e-08), (139, 2514, 6.813478289566235e-08), (140, 392, 7.144521627467449e-08), (140, 3138, 1.0840672272267182e-07), (141, 344, 6.863074635381949e-08), (141, 1429, 1.2368167129488526e-07), (141, 2368, 1.0878791181777545e-07), (141, 2626, 9.84091027704291e-08), (142, 2869, 8.464610167804532e-08), (143, 1775, 7.51695363898914e-08), (143, 1799, 9.235808168164822e-08), (144, 235, 8.837840807182397e-08), (145, 1440, 1.0331390182949833e-07), (146, 2766, 1.2194455794334044e-07), (147, 665, 9.735570573081623e-08), (147, 2768, 1.1791533154365772e-07), (148, 1282, 8.984183198219677e-08), (148, 1300, 1.1673796835163256e-07), (148, 1652, 6.652284246651915e-08), (148, 2019, 1.0337997958353289e-07), (149, 535, 1.1320372692427226e-07), (150, 817, 9.259068955783223e-08), (152, 2957, 6.443735633966539e-08), (153, 581, 1.2007611517374934e-07), (153, 1191, 7.143951468173081e-08), (154, 190, 1.0966857911128006e-07), (154, 931, 8.846603592330661e-08), (156, 602, 9.750374946989738e-08), (156, 1933, 9.530908862773033e-08), (157, 2920, 1.1749249624191248e-07), (158, 1042, 9.380211598614102e-08), (159, 551, 9.964413604359894e-08), (159, 1669, 9.40372844957894e-08), (159, 2214, 1.1723298393967988e-07), (160, 343, 6.86103085534771e-08), (160, 486, 1.043023373988317e-07), (160, 1112, 1.0482093460775528e-07), (160, 1485, 8.926307457182212e-08), (161, 1068, 9.309053096404928e-08), (163, 1216, 1.1462665350132547e-07), (164, 668, 1.1476207577325443e-07), (164, 1062, 1.0984883255377216e-07), (165, 500, 7.074506434948938e-08), (165, 607, 7.342541739063349e-08), (165, 1345, 7.619800282928655e-08), (166, 1917, 9.801563818037893e-08), (166, 2370, 1.0908533498567023e-07), (168, 595, 1.1472985433330595e-07), (168, 1127, 1.0138495088681534e-07), (171, 2120, 1.0887915912094409e-07), (173, 3019, 1.0657079292584426e-07), (175, 1442, 1.0767835291467292e-07), (177, 630, 1.0213688566409944e-07), (178, 1724, 9.887707977602696e-08), (179, 821, 8.851434175577252e-08), (179, 1142, 9.516419555019672e-08), (180, 3099, 8.015812295129394e-08), (181, 2075, 9.85642002734249e-08), (182, 1458, 8.023405411937304e-08), (184, 1580, 1.1395721766785641e-07), (186, 1956, 7.870075258603892e-08), (186, 3089, 6.458264531228895e-08), (187, 631, 6.957586588096235e-08), (188, 855, 1.019667797278413e-07), (188, 2569, 6.589058796627409e-08), (189, 799, 1.2178601611292498e-07), (189, 1496, 1.201478700113025e-07), (190, 2044, 6.726436796879245e-08), (191, 1302, 1.239034573627493e-07), (191, 1888, 1.0069132760792855e-07), (191, 1987, 6.801325978572095e-08), (191, 2468, 1.100224511246038e-07), (191, 2561, 7.273970506316244e-08), (192, 2022, 8.274875473721877e-08), (193, 551, 8.64563144218326e-08), (193, 1345, 6.66804367744455e-08), (193, 2312, 1.0524317788299495e-07), (194, 767, 1.2308345663492653e-07), (194, 1006, 1.1092290431730451e-07), (195, 1215, 1.0271772145551273e-07), (196, 854, 1.1614882229076255e-07), (196, 1193, 6.364696505553718e-08), (196, 1968, 8.259499427777077e-08), (196, 2131, 6.356981484220614e-08), (200, 629, 9.720418024863333e-08), (200, 1079, 1.1961337889405074e-07), (202, 2067, 9.45949164683537e-08), (203, 2841, 1.0804212092150208e-07), (205, 2476, 1.0792612666945241e-07), (206, 794, 1.0360731941582956e-07), (206, 1253, 9.589089521750298e-08), (208, 776, 6.576340067901652e-08), (209, 401, 1.2383009241993435e-07), (209, 985, 1.1892421073777289e-07), (209, 2470, 7.442127965824055e-08), (210, 1273, 7.387239315613427e-08), (210, 1507, 1.1074720675420103e-07), (210, 2693, 1.1083686579655055e-07), (211, 1414, 8.359163933501998e-08), (211, 1598, 7.48288105597319e-08), (213, 924, 1.186655158616913e-07), (213, 1085, 6.364306980381196e-08), (213, 1709, 9.214694664237388e-08), (214, 2974, 1.0360834718554295e-07), (215, 602, 9.196955600883844e-08), (216, 610, 9.761301333217621e-08), (216, 2139, 9.414336397982626e-08), (216, 2722, 8.36883476371153e-08), (217, 822, 6.611274597598574e-08), (217, 2586, 1.0077689566630843e-07), (219, 423, 1.0253805823342504e-07), (220, 1672, 1.1012658679644623e-07), (221, 2969, 8.43083337889531e-08), (222, 486, 7.351908061943902e-08), (222, 1266, 6.312851500173497e-08), (222, 1376, 9.276569991699087e-08), (222, 2463, 1.1919403779774572e-07), (223, 1182, 1.075449954528833e-07), (223, 1359, 1.1314495265893191e-07), (225, 1019, 7.61274512332573e-08), (226, 1332, 8.60942621362114e-08), (226, 1929, 1.0521479206809842e-07), (228, 941, 1.1557771379341315e-07), (228, 1037, 1.0377394977235312e-07), (228, 1555, 1.2046954942477574e-07), (228, 2107, 8.806761426820064e-08), (228, 3038, 7.804735864141452e-08), (229, 2531, 9.30469890491424e-08), (233, 1179, 8.044669973044545e-08), (234, 1192, 9.64181260048284e-08), (234, 1356, 6.950147641176927e-08), (236, 2466, 8.985989547278321e-08), (236, 3024, 8.410573508851806e-08), (239, 1678, 8.499923492392405e-08), (239, 2057, 1.245350467630852e-07), (239, 2839, 7.418832104789228e-08), (240, 957, 9.335532735211828e-08), (240, 2534, 9.394780487537518e-08), (241, 2481, 7.55780038582265e-08), (242, 2817, 1.092235691656739e-07), (243, 1881, 9.730409817603643e-08), (243, 2283, 6.319121419252399e-08), (244, 2283, 1.1007670324441862e-07), (247, 314, 1.191834562891904e-07), (248, 1436, 1.0329737721517333e-07), (248, 1850, 6.67671362936737e-08), (248, 3057, 7.69037444633359e-08), (249, 1610, 1.0111933912919596e-07), (250, 1131, 1.0012723448178892e-07), (252, 1256, 6.564592014406835e-08), (254, 2197, 9.412981908889524e-08), (254, 3103, 8.081393077870217e-08), (255, 2934, 7.711976760776588e-08), (256, 1793, 6.416290153218723e-08), (257, 2658, 1.2250932511196075e-07), (258, 640, 1.1188911711702074e-07), (259, 2917, 1.1282545490974049e-07), (260, 1456, 1.0340804543428111e-07), (262, 1742, 6.383367771737099e-08), (262, 2191, 9.179944631767354e-08), (263, 1380, 1.173110703328787e-07), (263, 1595, 6.564869505075188e-08), (263, 2227, 1.0336685254953567e-07), (264, 587, 8.306264454315587e-08), (264, 1007, 9.244160840653826e-08), (264, 2736, 1.1210586783191124e-07), (265, 1480, 7.377056386360766e-08), (267, 663, 6.320096357228384e-08), (267, 1373, 8.946261404515558e-08), (268, 599, 9.345479111370874e-08), (268, 1768, 6.606410230742677e-08), (269, 878, 9.18381304246859e-08), (270, 1272, 1.014967439445059e-07), (270, 1277, 1.1331047896551103e-07), (271, 1317, 9.476575401181953e-08), (271, 2082, 8.597936722316863e-08), (272, 504, 7.746898336151315e-08), (273, 1165, 7.851165874638915e-08), (275, 2307, 1.2114094023288219e-07), (276, 2246, 6.387715280510519e-08), (276, 2308, 9.225715279077691e-08), (276, 2966, 1.0702567232350613e-07), (277, 291, 1.1089974456666325e-07), (278, 1450, 1.1822339306737022e-07), (280, 2230, 1.1812659114961001e-07), (283, 2035, 7.320887315641764e-08), (283, 2585, 1.1199230876617866e-07), (284, 471, 6.77292727013768e-08), (284, 3166, 7.42105774130941e-08), (285, 899, 1.0253789523772512e-07), (285, 1261, 1.2284495810737754e-07), (285, 2811, 7.877280703993407e-08), (287, 1125, 1.0484147895079171e-07), (287, 2918, 8.5407265172502e-08), (288, 1025, 8.00036009076042e-08), (289, 417, 9.441134481757813e-08), (289, 1371, 1.1892011557163321e-07), (289, 2051, 7.776322031402977e-08), (290, 1283, 6.422544650115552e-08), (290, 1366, 9.612491360749127e-08), (290, 2068, 1.0337807514270394e-07), (290, 2456, 9.003594331092265e-08), (291, 1093, 1.0804435543610689e-07), (291, 2673, 8.658720145927734e-08), (292, 740, 8.064373143585281e-08), (293, 1136, 9.440914634252306e-08), (295, 447, 1.0260012248842539e-07), (296, 1412, 1.2345433552019879e-07), (296, 1911, 7.73016541068805e-08), (298, 1275, 1.0127358715774722e-07), (298, 1637, 1.207206604540304e-07), (298, 2197, 7.326676465858994e-08), (298, 2593, 9.189636728270614e-08), (300, 864, 9.819502496233473e-08), (300, 1698, 1.0921780926227019e-07), (301, 1099, 9.124318006623235e-08), (301, 1544, 6.335408032339546e-08), (302, 3033, 6.829884362528722e-08), (302, 3087, 8.169629650375962e-08), (303, 1769, 1.1669507101191804e-07), (305, 2268, 1.0253269570843697e-07), (305, 3103, 7.069158035971957e-08), (307, 787, 9.926470047264222e-08), (307, 2036, 7.446442088730167e-08), (308, 914, 9.501954244274115e-08), (308, 3174, 6.463700877298844e-08), (309, 1099, 1.160786952978734e-07), (310, 686, 6.859084399659125e-08), (312, 1475, 6.871649050955737e-08), (312, 2857, 8.911748709727429e-08), (313, 362, 7.667749037203616e-08), (313, 2027, 1.2167013212276917e-07), (316, 2450, 8.145688329156004e-08), (316, 2794, 9.931150097972567e-08), (319, 1717, 9.704068202979989e-08), (319, 3047, 1.0768254962586607e-07), (320, 2356, 1.232354550152932e-07), (322, 1922, 8.781737016245755e-08), (331, 2143, 6.450215130840722e-08), (331, 2437, 8.250415343347658e-08), (333, 1747, 8.251642582887271e-08), (335, 1834, 8.183036743899189e-08), (335, 2246, 6.452903768489654e-08), (337, 1644, 8.380881774829132e-08), (339, 862, 1.0877514709743646e-07), (339, 1187, 1.2259728083486326e-07), (340, 2084, 9.765456486582324e-08), (341, 1120, 9.24235768376975e-08), (341, 1390, 1.2105372912208137e-07), (344, 3171, 1.0386307246608334e-07), (345, 548, 1.235559745525526e-07), (345, 1503, 1.2036889550691894e-07), (346, 2198, 6.587578885663342e-08), (347, 1776, 8.125223648653428e-08), (347, 2482, 6.680459665088971e-08), (348, 1265, 8.416035938529487e-08), (348, 1357, 8.998046367012347e-08), (349, 645, 8.931357035023717e-08), (350, 1083, 7.54151642928007e-08), (354, 1235, 6.512914824968524e-08), (354, 2686, 6.917114662342192e-08), (356, 1452, 1.0848013947332104e-07), (356, 1827, 7.453693870115581e-08), (356, 2245, 7.867036916867627e-08), (357, 992, 6.768049689153294e-08), (357, 1267, 6.551417299113647e-08), (360, 1760, 1.0861019805577549e-07), (362, 979, 6.594472834611616e-08), (362, 1168, 1.2325141458135219e-07), (362, 2187, 8.387601447299348e-08), (363, 2757, 1.1181995099304586e-07), (364, 2196, 9.384581441443046e-08), (366, 2444, 1.1436187341596522e-07), (367, 1486, 1.0448348029186883e-07), (367, 2778, 1.0235024288763595e-07), (368, 1347, 1.1954210628987637e-07), (369, 1876, 1.104005682300027e-07), (370, 2193, 8.045161154338665e-08), (371, 701, 7.692971399204501e-08), (371, 2479, 9.029813004860515e-08), (372, 1518, 6.664017302076631e-08), (373, 1066, 6.273819740457585e-08), (373, 2747, 9.14862081903256e-08), (374, 582, 7.451180113172124e-08), (375, 1480, 1.1658959319870757e-07), (376, 1139, 1.1329381040867384e-07), (377, 1870, 1.2065122108542485e-07), (380, 2469, 9.214481446268531e-08), (380, 2764, 1.0458552369940017e-07), (383, 1062, 1.241634317643803e-07), (383, 1164, 1.0137748268137474e-07), (383, 1470, 9.365586095230049e-08), (384, 1075, 7.622477296115215e-08), (384, 3182, 9.90662306915726e-08), (385, 2335, 1.0489812094730024e-07), (386, 2130, 1.1572337026949895e-07), (387, 1889, 7.987898913212835e-08), (388, 1757, 8.527004118811466e-08), (388, 2789, 1.1658363128914001e-07), (392, 1768, 7.834516886000422e-08), (392, 1931, 1.1411893999600583e-07), (392, 2432, 8.987898970904537e-08), (392, 2950, 7.554132769292869e-08), (393, 1254, 1.1546220521317164e-07), (393, 2890, 9.432083181828833e-08), (398, 923, 1.0372945332017897e-07), (398, 2449, 1.2080672025383356e-07), (398, 3150, 9.39255226840263e-08), (399, 657, 1.1504049802129325e-07), (399, 892, 8.22296800173839e-08), (399, 2501, 8.676389343015409e-08), (400, 1559, 1.1249967298630795e-07), (400, 1633, 9.773356094338584e-08), (400, 2212, 1.1600966226515233e-07), (401, 1409, 1.1099361644688579e-07), (402, 2296, 9.349574420487467e-08), (403, 783, 1.1889960024234537e-07), (403, 1789, 7.961281516647201e-08), (403, 2212, 8.492228058859635e-08), (404, 433, 1.1644727553621122e-07), (405, 813, 1.0945588269427502e-07), (407, 1903, 1.1338375170505474e-07), (409, 1072, 1.1800970521387779e-07), (411, 2704, 1.2195411918604387e-07), (415, 1997, 1.2080934791121747e-07), (415, 2138, 1.2155929710886176e-07), (417, 2049, 1.0834413079253084e-07), (419, 1960, 9.830312451508664e-08), (422, 1221, 7.477921106765307e-08), (422, 1615, 7.672139330803309e-08), (422, 1919, 1.2387677183783876e-07), (423, 830, 6.926902061257096e-08), (423, 2517, 8.573449748315614e-08), (425, 2919, 1.0952408803246009e-07), (426, 1007, 1.056949453376498e-07), (426, 1312, 6.562094807457601e-08), (428, 2170, 7.350365608368728e-08), (429, 1165, 7.164976676771639e-08), (429, 1372, 8.520706738133482e-08), (429, 1435, 6.520389761316621e-08), (430, 750, 9.90158287084795e-08), (430, 1144, 8.640999780656724e-08), (434, 2551, 8.558744870456326e-08), (434, 2618, 7.173179081902555e-08), (435, 2505, 8.742826146345737e-08), (435, 2637, 9.292735557546732e-08), (435, 2682, 7.173805133471067e-08), (437, 1624, 1.1266343036765271e-07), (437, 1851, 6.323122979026051e-08), (439, 3040, 9.799963120541582e-08), (440, 869, 1.1015569366198192e-07), (440, 954, 8.113021931228748e-08), (442, 2115, 1.0475756451885092e-07), (442, 2391, 1.1955027992217296e-07), (443, 1857, 1.034796342412305e-07), (445, 592, 1.0173127504308739e-07), (446, 1815, 1.086780322275956e-07), (448, 1970, 8.663499975160654e-08), (451, 2509, 6.338194426593554e-08), (452, 1269, 1.2274922106626745e-07), (452, 2034, 7.612328794707897e-08), (454, 1986, 9.49023650304942e-08), (454, 2054, 7.774251294403446e-08), (455, 1227, 8.436935193384235e-08), (455, 1316, 1.0898417895632086e-07), (455, 1837, 7.619498822956287e-08), (457, 1844, 7.22030332479165e-08), (459, 710, 7.455693054191951e-08), (459, 1005, 7.061445704458198e-08), (459, 3060, 8.937066968597533e-08), (460, 541, 9.339077211496868e-08), (463, 1169, 6.663136391190413e-08), (464, 2890, 9.517599577822955e-08), (467, 1389, 1.1275870393944601e-07), (467, 1572, 1.1927496592311699e-07), (468, 1741, 9.669906492665917e-08), (468, 1913, 8.01635531749597e-08), (469, 637, 6.460146286979821e-08), (470, 2083, 9.48183744672093e-08), (471, 3166, 8.106322809076875e-08), (473, 2485, 8.030431067923632e-08), (475, 573, 9.917184703174613e-08), (477, 1720, 7.003617623801771e-08), (477, 1862, 1.0701039577592864e-07), (478, 1327, 6.958151390076446e-08), (479, 1626, 8.231105135181168e-08), (480, 1654, 1.2454244848678212e-07), (480, 1835, 9.930862097571462e-08), (483, 1831, 8.168393931814688e-08), (483, 2374, 1.0837439434971177e-07), (484, 2026, 9.497160746459027e-08), (486, 1800, 1.1854304957346599e-07), (486, 1850, 9.694876116001205e-08), (486, 2696, 1.1200349138651913e-07), (487, 2753, 8.051388921200178e-08), (488, 1579, 9.122486084436798e-08), (488, 1665, 9.34650073904629e-08), (488, 2004, 7.316340082567094e-08), (489, 2634, 1.1903468302307692e-07), (491, 989, 6.88608420544388e-08), (491, 1928, 8.960162099306505e-08), (492, 1374, 9.57868799275934e-08), (492, 1812, 9.588545175126757e-08), (493, 2402, 7.31735176822339e-08), (493, 2913, 1.1018190701475134e-07), (494, 1882, 8.70845901900034e-08), (494, 1926, 9.260018988575315e-08), (495, 1505, 1.052168521647913e-07), (497, 1941, 1.1896667257933778e-07), (499, 2736, 1.1499456215812619e-07), (500, 2761, 1.0671330330805377e-07), (501, 2758, 8.533938092387778e-08), (505, 1943, 6.30499658926646e-08), (506, 1467, 9.33765165536917e-08), (506, 3088, 7.538913662134562e-08), (507, 2750, 1.0472204349594428e-07), (508, 737, 1.0761782158614864e-07), (508, 2758, 1.0378706036795835e-07), (509, 2459, 6.491024175949167e-08), (509, 3030, 1.0841463049382537e-07), (510, 1697, 1.222047634365126e-07), (511, 1224, 8.111801223488618e-08), (512, 894, 7.516028498455162e-08), (512, 1747, 8.10344100482395e-08), (513, 1499, 6.761625199917326e-08), (513, 2268, 1.0672586598730394e-07), (513, 2312, 1.1220786829178193e-07), (515, 1143, 6.695847017257838e-08), (516, 3094, 6.876121260958293e-08), (517, 1325, 1.1486232083378271e-07), (517, 1902, 1.0176286566272143e-07), (521, 2204, 1.0517787216335825e-07), (524, 1401, 1.0392694308874447e-07), (524, 2142, 7.769653732217179e-08), (526, 1695, 1.1266575102642057e-07), (527, 1289, 8.10132515589429e-08), (529, 1915, 7.972038938436212e-08), (533, 711, 9.178864980209773e-08), (534, 761, 1.085942726088248e-07), (534, 1026, 9.134573519904895e-08), (535, 2547, 6.777587279261882e-08), (535, 2991, 1.1897179998391777e-07), (535, 3072, 8.776261484486264e-08), (536, 1211, 8.390002060883956e-08), (536, 1732, 9.564497415233581e-08), (537, 834, 8.139671319651531e-08), (537, 1951, 6.492378067360596e-08), (537, 2207, 8.36462822162063e-08), (537, 2635, 1.1373458528140955e-07), (537, 3061, 9.267812858951097e-08), (538, 591, 9.37340758680064e-08), (538, 2651, 8.299273785278774e-08), (539, 1172, 1.1443762295984804e-07), (541, 1114, 1.0719054200945162e-07), (541, 2109, 1.0215426820454037e-07), (543, 3020, 8.720073500563982e-08), (545, 1950, 8.974379446864752e-08), (546, 1123, 1.1432500489706238e-07), (547, 2284, 8.992722190894014e-08), (548, 941, 8.054125275530899e-08), (550, 2922, 8.90197978047385e-08), (551, 2786, 1.1810743294568006e-07), (551, 3071, 1.1455895937851758e-07), (553, 1357, 1.0147110004171349e-07), (553, 1741, 9.598356869426877e-08), (553, 1824, 1.1071796789930609e-07), (555, 2583, 7.14134935872608e-08), (556, 1336, 9.809186024446116e-08), (558, 1676, 1.2046817356761442e-07), (559, 712, 8.488520091653084e-08), (559, 2282, 7.026312297471544e-08), (559, 2887, 1.0879400292043715e-07), (561, 884, 9.313745769605844e-08), (561, 2770, 7.151771404800734e-08), (562, 1438, 1.2428170197118762e-07), (563, 833, 1.1944558136289868e-07), (563, 1763, 8.041777013668183e-08), (563, 2834, 9.079486182823711e-08), (564, 868, 6.575227073889353e-08), (564, 2316, 9.821712804480708e-08), (564, 2600, 6.978215623479706e-08), (564, 2949, 1.211561401752512e-07), (567, 910, 1.0851775857994463e-07), (568, 577, 7.867959649366689e-08), (568, 2012, 1.0939299878653355e-07), (569, 1194, 7.699063595413736e-08), (570, 876, 1.0495670440404401e-07), (572, 1792, 7.516849049992903e-08), (573, 792, 8.793385427003062e-08), (573, 1883, 8.180023693345875e-08), (574, 849, 8.030202245803357e-08), (574, 1194, 1.1451631634391919e-07), (575, 930, 6.596350333197257e-08), (575, 1178, 1.2251644175315186e-07), (576, 625, 9.56336104755794e-08), (577, 1606, 8.448294022748901e-08), (578, 2159, 7.197256306424388e-08), (578, 2922, 6.467331640493307e-08), (579, 1058, 1.0530387041073159e-07), (579, 2666, 8.469842603520214e-08), (581, 2089, 8.561751739342764e-08), (582, 2554, 1.1027672091250521e-07), (584, 1990, 1.2282103281845736e-07), (586, 1901, 6.570107793077636e-08), (587, 2173, 9.003562010024996e-08), (588, 2665, 6.650128814448079e-08), (589, 688, 8.134822621316182e-08), (589, 782, 1.0229914514107447e-07), (589, 1195, 9.848562080970283e-08), (592, 1594, 1.1162085079086371e-07), (592, 3074, 6.333423408610943e-08), (593, 903, 1.2063335657464358e-07), (594, 649, 7.531061605405729e-08), (594, 1909, 9.354190078038759e-08), (595, 1127, 7.189111979106408e-08), (598, 1084, 1.0825511354774407e-07), (598, 2449, 8.962184067528758e-08), (598, 2526, 1.1478145685498398e-07), (600, 3013, 6.415703309991492e-08), (603, 814, 8.049457996367182e-08), (604, 940, 9.656192354780801e-08), (605, 782, 9.166743318431962e-08), (607, 1021, 1.0784246919937953e-07), (608, 2413, 9.70454449981651e-08), (608, 2918, 8.400558118282255e-08), (609, 2547, 1.23069930339032e-07), (612, 1062, 1.2460725039914692e-07), (615, 1038, 1.1028367585876704e-07), (617, 729, 9.179668619197922e-08), (617, 1193, 9.225141164798921e-08), (617, 2684, 1.0916238600840908e-07), (619, 2637, 1.0503940593267391e-07), (620, 2937, 6.488807023973475e-08), (621, 842, 1.1815107750695459e-07), (623, 1223, 8.842955695188685e-08), (624, 1132, 8.570464373856708e-08), (624, 2232, 7.091802914443565e-08), (624, 2965, 8.316997234367621e-08), (625, 678, 6.595509078639057e-08), (626, 1860, 1.2389811536036216e-07), (626, 2805, 1.1140540880682314e-07), (627, 1559, 6.724266700216029e-08), (628, 1930, 6.63776549539128e-08), (628, 2611, 6.409918130853823e-08), (634, 870, 8.950762837219875e-08), (634, 1727, 9.230026006080973e-08), (634, 1913, 7.590720738962412e-08), (634, 3100, 9.600832175241641e-08), (635, 2795, 1.0159459412444627e-07), (636, 1082, 6.284990620254303e-08), (637, 2255, 1.1232263946927544e-07), (638, 1556, 8.378959204295294e-08), (640, 929, 9.512667052000406e-08), (640, 1915, 8.73920724332879e-08), (640, 2250, 8.920273190858262e-08), (641, 1033, 1.0466222084736046e-07), (641, 1236, 7.014024805491881e-08), (641, 1347, 1.0750650330121676e-07), (642, 1483, 6.779570189542359e-08), (644, 2245, 1.2485982169869462e-07), (646, 2800, 1.2348327658652758e-07), (647, 2947, 8.091441382410355e-08), (648, 2635, 9.16165360320354e-08), (648, 2768, 8.865109463921872e-08), (648, 2992, 1.117821072445315e-07), (650, 1486, 1.107494608104027e-07), (651, 1458, 9.186829573780159e-08), (651, 2390, 8.407474303134494e-08), (653, 943, 6.31743336721633e-08), (654, 2463, 7.002739053250339e-08), (655, 959, 9.708467654721267e-08), (656, 2617, 1.192146138275474e-07), (657, 662, 7.732756101416864e-08), (657, 2886, 8.85137439045889e-08), (659, 2263, 9.955690114714198e-08), (659, 2632, 1.0774019766129756e-07), (660, 700, 1.0361084683740263e-07), (660, 810, 1.1323211786869193e-07), (660, 1231, 7.368132249997627e-08), (660, 1673, 6.535579364720801e-08), (661, 2561, 8.5670945029226e-08), (662, 2061, 8.486942985446701e-08), (663, 3168, 1.1576023459067779e-07), (665, 1740, 1.0403405277673285e-07), (665, 1810, 1.0945751934978895e-07), (665, 2747, 9.624041166043989e-08), (668, 3075, 9.5766766451806e-08), (672, 1586, 7.768883835522292e-08), (672, 1651, 1.2159484412896703e-07), (672, 2674, 1.2252441212061072e-07), (673, 2096, 1.0951448089905671e-07), (673, 2177, 1.158299944119443e-07), (674, 1530, 8.057345174579168e-08), (675, 1851, 6.578941335711307e-08), (682, 1910, 1.1756081776825309e-07), (683, 2206, 8.982021130559472e-08), (684, 2714, 6.591609089103991e-08), (685, 1221, 1.1696957694664706e-07), (685, 1667, 7.487722184374538e-08), (685, 1820, 1.0730833086326819e-07), (687, 2370, 8.21491766173286e-08), (687, 2710, 7.7388323114279e-08), (687, 2817, 1.1909311243472586e-07), (687, 3014, 6.399963231977529e-08), (688, 795, 7.539992439399469e-08), (688, 1485, 6.545814983773094e-08), (688, 1665, 7.517994075139006e-08), (689, 1683, 1.1426217908737405e-07), (690, 1745, 1.0088143055615557e-07), (691, 3132, 8.740841278319288e-08), (693, 1731, 8.518383773468048e-08), (694, 2781, 7.001409846001505e-08), (695, 2467, 9.216950016407154e-08), (695, 2811, 1.2425159156336653e-07), (696, 2690, 7.011520504997611e-08), (696, 2911, 1.2185540855632767e-07), (698, 1730, 7.794702477931903e-08), (699, 1946, 8.378901375699032e-08), (699, 2852, 1.0004262704394537e-07), (700, 2970, 1.0720112711976439e-07), (703, 2017, 1.2466583174369123e-07), (705, 1023, 1.2367944659894045e-07), (705, 1344, 6.835747494660459e-08), (706, 1050, 1.2400601965377184e-07), (708, 2111, 7.062291328863847e-08), (708, 2503, 1.1457391832404959e-07), (708, 2689, 1.1243911779195117e-07), (710, 1129, 9.527095269735878e-08), (711, 3105, 1.1252862909338068e-07), (712, 1646, 1.097775144051195e-07), (713, 1977, 9.460486959319724e-08), (715, 1009, 8.273376825074536e-08), (715, 3041, 8.742645222189463e-08), (717, 1733, 6.891884727251842e-08), (717, 3097, 1.1708444859949808e-07), (718, 2301, 8.252438441943307e-08), (718, 2519, 1.0464312740397606e-07), (721, 2997, 8.704958166968708e-08), (722, 2810, 8.349104387470124e-08), (723, 2069, 1.0863481158838574e-07), (723, 2088, 7.606518745969889e-08), (724, 1531, 6.292131735177798e-08), (725, 818, 6.362008142093599e-08), (726, 2487, 6.532797043244671e-08), (728, 2051, 6.701034306324852e-08), (728, 2239, 9.514855482603639e-08), (729, 2901, 8.145276860531979e-08), (731, 2087, 1.0283445543354667e-07), (732, 2680, 1.2467683801321463e-07), (733, 781, 7.98344148122639e-08), (734, 1624, 7.762506144573143e-08), (735, 1285, 7.604352220311916e-08), (735, 2076, 9.75277253745372e-08), (738, 1925, 6.947529245400667e-08), (739, 1417, 1.0292132839702186e-07), (740, 1844, 8.647184016661081e-08), (742, 1749, 9.913494816110718e-08), (743, 2781, 6.924441672241788e-08), (745, 1785, 8.48164284984454e-08), (746, 1286, 7.750069969041155e-08), (746, 3163, 7.558884387515172e-08), (747, 1753, 9.129617358352929e-08), (747, 1948, 9.650071366353597e-08), (747, 3162, 9.474212061013583e-08), (748, 1739, 6.63776948082747e-08), (748, 2716, 9.089681316238737e-08), (749, 1175, 9.112646894589414e-08), (749, 1388, 7.52380979520696e-08), (749, 2381, 1.2186792977812245e-07), (750, 1359, 9.742434138980221e-08), (750, 1504, 9.819729091022537e-08), (750, 2405, 9.564913008223286e-08), (751, 1657, 1.1264534397192114e-07), (752, 1892, 6.610415842108712e-08), (753, 2541, 1.0941275758549708e-07), (756, 2893, 7.718287586007844e-08), (760, 1116, 8.571494502050563e-08), (761, 2519, 9.721759567870372e-08), (761, 2680, 6.34883888815593e-08), (763, 883, 9.563082661473065e-08), (763, 1015, 1.2132385812177244e-07), (765, 882, 1.0180186651246268e-07), (765, 1305, 9.721542548723532e-08), (767, 1809, 1.1741329254477442e-07), (767, 2700, 9.565966829738456e-08), (768, 1291, 1.1765984374655917e-07), (769, 2446, 1.0198638538167992e-07), (770, 2156, 7.432703967132734e-08), (772, 2107, 8.066004897873656e-08), (772, 2933, 1.1048786550292903e-07), (772, 3113, 7.17028338456436e-08), (773, 1582, 8.205656985364951e-08), (773, 2479, 8.568172984652906e-08), (774, 1886, 1.140109945093887e-07), (774, 3169, 1.2095177383827567e-07), (775, 948, 6.900209148996986e-08), (775, 1190, 7.165043315258623e-08), (775, 1723, 6.637650480832494e-08), (775, 2697, 6.81081720849494e-08), (776, 887, 1.0794347822352739e-07), (776, 2221, 7.213446994068619e-08), (777, 1065, 1.114850367276791e-07), (777, 3124, 9.606842031466023e-08), (780, 973, 9.792587531133057e-08), (782, 2226, 8.058483155859343e-08), (783, 2887, 8.287516229409115e-08), (785, 1356, 1.0717755007899412e-07), (787, 1344, 7.458527134883677e-08), (787, 1904, 8.364023310479506e-08), (787, 2888, 1.0603465670540445e-07), (788, 1757, 1.212102683210175e-07), (789, 2195, 8.172391366450006e-08), (791, 921, 7.999254428630201e-08), (791, 1835, 9.702075496622521e-08), (792, 2600, 1.0872676595659794e-07), (792, 3035, 9.219900527997954e-08), (794, 2884, 1.2489108917263387e-07), (797, 1829, 8.316694807861236e-08), (798, 2594, 7.682637512555047e-08), (799, 2609, 1.0349898499364629e-07), (799, 2762, 9.108947200371912e-08), (801, 854, 9.048764502150787e-08), (802, 2633, 1.0681031056065947e-07), (809, 2920, 1.1151188421719835e-07), (812, 2840, 9.604912245848482e-08), (813, 1655, 7.165783076842212e-08), (813, 2130, 9.645079275945017e-08), (816, 3047, 1.1303296499043674e-07), (817, 1814, 1.1630910880775731e-07), (818, 826, 9.060522727225477e-08), (818, 2270, 6.900887175395562e-08), (818, 3173, 1.1698176648607075e-07), (819, 1487, 1.238693279347431e-07), (819, 2167, 1.0414238403039744e-07), (821, 1365, 8.559705137143981e-08), (822, 1112, 7.997785392963851e-08), (822, 1649, 7.209293267741514e-08), (822, 3056, 1.2265176390849452e-07), (822, 3109, 9.080703540879976e-08), (822, 3152, 9.275128929851816e-08), (823, 1525, 6.880669619480122e-08), (824, 1491, 8.75414804733912e-08), (825, 2074, 1.1669202405427518e-07), (826, 1665, 7.189482946825182e-08), (826, 1773, 7.692302402904008e-08), (827, 882, 1.1602111294186538e-07), (827, 1811, 1.061559021600955e-07), (827, 1823, 9.628347705060784e-08), (827, 2391, 1.2409704267455335e-07), (827, 3054, 7.446835002593823e-08), (828, 2794, 1.0528483139492493e-07), (829, 1866, 1.0987046896359942e-07), (829, 1870, 7.77649210245425e-08), (829, 2868, 1.238163900719919e-07), (831, 1998, 1.0174411461726764e-07), (832, 2987, 7.596748140602914e-08), (834, 1383, 1.1846186269358684e-07), (834, 1751, 7.565471352540252e-08), (834, 2207, 8.486323631695342e-08), (835, 2517, 8.498774201778187e-08), (837, 1975, 1.0045454066490617e-07), (840, 965, 9.599133581775619e-08), (840, 992, 1.2022798082893277e-07), (841, 976, 1.0287185665830972e-07), (841, 1452, 7.444816491286569e-08), (842, 1777, 9.33798867336743e-08), (843, 3126, 1.1839278275548749e-07), (847, 864, 1.222714612083527e-07), (848, 851, 1.1819169216485934e-07), (848, 1143, 1.0110299233916218e-07), (850, 1987, 7.012490751796353e-08), (852, 1762, 7.29270957964126e-08), (852, 1967, 9.042157441358204e-08), (852, 2653, 1.0920722559665055e-07), (852, 3179, 7.934745610020616e-08), (853, 2727, 6.369412522620424e-08), (855, 1084, 1.1827341842395766e-07), (855, 1423, 1.1224568932173653e-07), (857, 939, 1.1974283730483208e-07), (857, 1894, 1.1411439480975217e-07), (858, 3127, 7.964350596486014e-08), (859, 1205, 8.403217618527672e-08), (861, 3100, 1.2476032567260554e-07), (862, 2367, 1.2388388226274872e-07), (862, 2704, 9.325440078208828e-08), (864, 2528, 8.895203877053672e-08), (865, 1194, 1.0495658238677613e-07), (867, 1300, 1.0355078499333053e-07), (868, 2316, 6.975419399569808e-08), (869, 2841, 9.010408054487602e-08), (870, 2632, 1.0332765120643916e-07), (872, 1884, 1.1568703841865842e-07), (879, 2543, 1.134674242478706e-07), (881, 1249, 9.225163047058397e-08), (882, 1811, 1.1476502801935084e-07), (882, 2847, 1.2077134944923593e-07), (885, 1029, 7.396744586534153e-08), (885, 2726, 1.0788929507823202e-07), (887, 2883, 9.551336589566617e-08), (888, 1536, 1.0179367760958927e-07), (888, 1893, 9.419541296819387e-08), (889, 1015, 9.043625821805724e-08), (890, 1584, 1.0214398335469165e-07), (891, 2885, 1.1375371202515626e-07), (892, 2813, 1.1513512404313452e-07), (892, 2856, 9.140066431491786e-08), (899, 908, 7.920551247261195e-08), (902, 1731, 9.656722090329332e-08), (904, 1095, 1.1272897548767148e-07), (904, 1218, 1.0439620968949498e-07), (904, 3003, 9.034438195683212e-08), (905, 1610, 9.095771229248013e-08), (905, 2625, 9.408021464045523e-08), (909, 1669, 6.864657934498712e-08), (909, 2426, 8.424785037520079e-08), (909, 2652, 8.67928344508047e-08), (910, 2755, 1.2119437243788834e-07), (910, 3047, 1.0285019045345555e-07), (912, 1273, 7.244211772068951e-08), (912, 2450, 9.205917811846326e-08), (913, 991, 8.487612269771403e-08), (915, 2692, 7.478802964121701e-08), (918, 1845, 8.616785311781456e-08), (918, 2557, 7.298869434041473e-08), (920, 1958, 6.404918763966978e-08), (922, 1131, 7.532948061036098e-08), (922, 2241, 1.0131126277013651e-07), (923, 2554, 1.0624021641586252e-07), (924, 1488, 9.077393692934934e-08), (925, 1535, 9.695233214998761e-08), (926, 1103, 6.500783905532926e-08), (927, 1011, 6.569422224861716e-08), (927, 1757, 8.660021227932547e-08), (928, 1413, 9.50406567545292e-08), (928, 2742, 1.1379536215669683e-07), (928, 3175, 9.699726513553631e-08), (930, 2867, 9.982283650737899e-08), (931, 2726, 1.082254062783177e-07), (931, 2985, 6.390859948347516e-08), (932, 2661, 1.0331936987307417e-07), (932, 2718, 8.743517756907056e-08), (933, 943, 1.2076799709856316e-07), (933, 1949, 9.665963696903666e-08), (933, 2180, 7.938970953276637e-08), (933, 3043, 9.133396399056533e-08), (934, 1216, 1.0681325925753634e-07), (935, 999, 9.632948252863267e-08), (935, 1377, 6.480464932833765e-08), (935, 2581, 1.1916496931302563e-07), (937, 1518, 1.1321468923574308e-07), (937, 2947, 1.085458299417086e-07), (940, 1774, 7.947110414739451e-08), (940, 3141, 9.879474712466152e-08), (941, 2933, 8.058537533546633e-08), (942, 1274, 1.1322612743022915e-07), (945, 1628, 8.726009889552803e-08), (945, 2697, 8.903626391306256e-08), (946, 2685, 7.647419400859876e-08), (949, 2020, 8.413371434219206e-08), (950, 1617, 1.2291182563619862e-07), (951, 1417, 1.1092654308397843e-07), (952, 1040, 8.999679429088971e-08), (952, 1516, 8.279458017216709e-08), (953, 979, 8.59342227647219e-08), (953, 1138, 9.419700799316636e-08), (953, 1582, 1.2020135682091225e-07), (954, 2104, 1.0156228161636559e-07), (955, 2706, 1.139064629774536e-07), (956, 1068, 7.782496262485311e-08), (957, 1059, 1.235437604312358e-07), (957, 2534, 6.320173693893211e-08), (957, 2914, 9.749053649972965e-08), (959, 1072, 9.021376603244991e-08), (959, 1200, 8.26018434387984e-08), (959, 1964, 1.1627175706813936e-07), (961, 1266, 7.218847736647842e-08), (962, 2153, 9.523850689895033e-08), (965, 1409, 1.1853140971285636e-07), (965, 2470, 1.1452111324200631e-07), (966, 1029, 9.176215810913797e-08), (968, 2034, 6.922536056978086e-08), (973, 2469, 1.209763042484509e-07), (978, 2057, 1.1095980971201713e-07), (978, 2072, 1.1200498642287763e-07), (978, 2485, 9.385913922534827e-08), (979, 2691, 9.003761612986923e-08), (982, 2561, 7.516067672594811e-08), (987, 1991, 9.56009757419346e-08), (991, 2738, 7.352218423456544e-08), (992, 2478, 6.480635981173777e-08), (995, 1365, 8.462299461341396e-08), (995, 2391, 1.1577508923242839e-07), (996, 2100, 1.0771238897696436e-07), (997, 1860, 1.0072731520368963e-07), (997, 1979, 1.238331650709183e-07), (999, 2910, 1.0998127980750625e-07), (1000, 1332, 1.18913093619326e-07), (1000, 1554, 9.606111965011376e-08), (1000, 2943, 9.695978173797948e-08), (1001, 3032, 9.68387077217134e-08), (1002, 1787, 1.082399562434745e-07), (1003, 1051, 1.0522055819803728e-07), (1004, 2066, 9.794128424320217e-08), (1007, 2736, 9.321089799728403e-08), (1008, 1178, 8.834730058992092e-08), (1008, 2892, 7.742867998784636e-08), (1009, 1711, 1.0777962391003821e-07), (1010, 2640, 1.0389338940095399e-07), (1012, 1630, 9.877383822505197e-08), (1012, 3180, 1.0122768115886118e-07), (1013, 2766, 1.1301469440849335e-07), (1015, 1150, 1.005697109378511e-07), (1015, 1729, 7.5772465819149e-08), (1015, 2355, 8.873856988532795e-08), (1016, 2705, 1.1662933597547251e-07), (1016, 2804, 7.423183245925426e-08), (1018, 1201, 8.497996496718031e-08), (1018, 1865, 1.098194066973939e-07), (1018, 2872, 8.09072417408305e-08), (1019, 1216, 1.232116828184256e-07), (1019, 2683, 6.631022996259018e-08), (1021, 2778, 8.653030548732045e-08), (1023, 1651, 9.751343767371627e-08), (1026, 1456, 1.011734421725822e-07), (1026, 3136, 6.89725513249941e-08), (1029, 2726, 1.2267952285403235e-07), (1031, 2236, 1.067424564500646e-07), (1036, 2827, 1.0689478893180407e-07), (1037, 2781, 9.769940665345473e-08), (1038, 1164, 1.218617053975875e-07), (1039, 1401, 8.627471285859655e-08), (1039, 1689, 9.804007585768716e-08), (1039, 1955, 1.2272191838623456e-07), (1040, 2695, 6.852267263478653e-08), (1040, 3026, 7.251502432733227e-08), (1043, 1088, 6.810660314419711e-08), (1043, 1685, 7.034413408137817e-08), (1046, 2371, 1.1080742882625025e-07), (1047, 2113, 6.516700623511619e-08), (1048, 2341, 7.037351102624531e-08), (1050, 2396, 1.220911173259918e-07), (1054, 1088, 9.784841650193966e-08), (1054, 1904, 1.1120351779776152e-07), (1058, 2069, 8.177914517414497e-08), (1059, 1990, 1.2287568495824926e-07), (1059, 1999, 1.0642865764337751e-07), (1059, 2678, 1.2444359436324043e-07), (1060, 2749, 8.302745561392948e-08), (1061, 1696, 8.869332042931559e-08), (1062, 1164, 1.1094807574875571e-07), (1063, 1417, 8.478383875092616e-08), (1063, 1494, 1.2000992151210938e-07), (1063, 1543, 1.1613047482370186e-07), (1063, 2061, 6.784657168635591e-08), (1063, 2280, 8.54829747620176e-08), (1066, 1139, 1.244631882440152e-07), (1066, 2128, 8.482444269757926e-08), (1067, 2789, 1.2419301539310548e-07), (1068, 1509, 7.991006170408144e-08), (1068, 1646, 1.0950884370435142e-07), (1069, 2015, 1.1398304525770881e-07), (1069, 2759, 1.021605334797033e-07), (1071, 2820, 7.226958643026904e-08), (1072, 1476, 7.681255626863259e-08), (1073, 1811, 8.82287817188429e-08), (1074, 1389, 1.099122803867688e-07), (1075, 2794, 6.95652166438762e-08), (1075, 2916, 1.1537448206173676e-07), (1076, 1993, 8.532804622452319e-08), (1079, 2551, 6.87965175659702e-08), (1079, 2610, 7.043259022648446e-08), (1080, 1143, 7.679656138996618e-08), (1081, 2145, 7.682248941770309e-08), (1082, 2639, 8.501472120656831e-08), (1082, 3088, 1.013423399140171e-07), (1084, 2751, 8.572351127696554e-08), (1085, 2266, 9.581151752936312e-08), (1086, 1448, 1.1666283527476547e-07), (1087, 1552, 1.0389557031026478e-07), (1087, 2538, 1.0595142095749927e-07), (1088, 1481, 9.861656159617159e-08), (1088, 2801, 7.941534882133332e-08), (1090, 1336, 8.84384605588731e-08), (1092, 1283, 1.0783530736832342e-07), (1095, 2433, 1.0775030626077731e-07), (1096, 1398, 9.652071835070643e-08), (1096, 2480, 1.1669128406439724e-07), (1098, 1455, 8.00633103033571e-08), (1099, 1169, 8.849808809944157e-08), (1101, 1270, 6.423385918722163e-08), (1102, 1399, 1.2407347997303957e-07), (1105, 2732, 9.443040830716843e-08), (1106, 2651, 1.126963261116258e-07), (1106, 2948, 1.0916782829341328e-07), (1107, 1436, 7.260419782299794e-08), (1107, 2886, 9.553453687146752e-08), (1108, 1246, 9.764052472369902e-08), (1110, 2043, 1.151533617696405e-07), (1111, 1997, 6.68651478170243e-08), (1111, 2341, 1.1606075578486713e-07), (1112, 1733, 9.154206568383885e-08), (1112, 3176, 8.244845292441605e-08), (1113, 2579, 7.379925624514292e-08), (1115, 2496, 1.2050215252085496e-07), (1116, 1496, 1.0627694647958494e-07), (1118, 1308, 9.116028758250969e-08), (1118, 1712, 7.967324079148445e-08), (1118, 2433, 7.280734467749839e-08), (1121, 1784, 6.98665519046894e-08), (1121, 2989, 7.337589021058697e-08), (1122, 1538, 7.39879257161568e-08), (1122, 2995, 1.0738099176582623e-07), (1123, 2288, 1.0693469303769087e-07), (1125, 1839, 6.830460672860258e-08), (1128, 2081, 9.162857361902578e-08), (1128, 3147, 7.03530285403443e-08), (1129, 1538, 9.386454047777987e-08), (1133, 1837, 1.2293494600102467e-07), (1135, 2527, 7.053247105576531e-08), (1136, 2537, 9.09722158037137e-08), (1139, 2128, 1.0573925248906416e-07), (1141, 1547, 9.33002465952905e-08), (1143, 1766, 9.167116616619228e-08), (1143, 2489, 1.1289978796420698e-07), (1145, 1557, 1.1732129269625148e-07), (1145, 2427, 7.056718900668512e-08), (1146, 1667, 1.1478636089079778e-07), (1147, 1188, 1.0108988894416022e-07), (1149, 1790, 1.0121693765093129e-07), (1149, 1908, 8.236806752293096e-08), (1149, 1944, 9.995346551275987e-08), (1151, 2097, 7.1512182546085e-08), (1151, 2699, 1.19563120256095e-07), (1152, 1500, 7.913009284802057e-08), (1152, 2992, 9.623485324609516e-08), (1152, 3059, 1.0053875819621458e-07), (1153, 1856, 1.2143151211266385e-07), (1155, 2173, 1.175705555884213e-07), (1155, 2332, 8.117055690041852e-08), (1156, 2892, 1.1676439296751843e-07), (1157, 3144, 1.0061445258859769e-07), (1158, 2594, 1.169826807699654e-07), (1159, 2434, 8.46931321525708e-08), (1160, 2235, 8.957483476029279e-08), (1160, 2282, 7.175433059564815e-08), (1160, 2892, 7.809748068212398e-08), (1161, 1170, 1.0653384409518989e-07), (1161, 1940, 1.2436453555318708e-07), (1161, 3003, 1.0398445030193067e-07), (1162, 2086, 9.647900015205595e-08), (1164, 1470, 9.120276850481515e-08), (1164, 1783, 1.2314789683811457e-07), (1165, 1372, 1.0225265971216863e-07), (1165, 3011, 9.755191508362123e-08), (1165, 3032, 1.1964635239343155e-07), (1168, 2111, 7.773290482060394e-08), (1169, 2705, 9.810009815318894e-08), (1170, 3045, 6.547400063349036e-08), (1177, 1792, 6.807659030998524e-08), (1180, 1261, 9.018407154670504e-08), (1180, 2292, 9.176311241029027e-08), (1180, 2612, 8.595544366651948e-08), (1181, 1805, 8.611563058038902e-08), (1182, 2580, 1.097694483569632e-07), (1183, 2171, 9.515149616421891e-08), (1184, 2619, 9.208622309848442e-08), (1185, 2392, 6.914759931468836e-08), (1186, 1813, 6.38290930490156e-08), (1187, 2729, 1.1089150750012662e-07), (1189, 2497, 8.968635047865466e-08), (1189, 3064, 6.297067244358965e-08), (1190, 2772, 9.847402111156979e-08), (1191, 1868, 7.73272604368562e-08), (1192, 1435, 8.742206559674596e-08), (1192, 2952, 1.1861598217986885e-07), (1193, 2464, 6.745131158364389e-08), (1194, 1726, 8.309838822513421e-08), (1199, 2474, 9.790479094374779e-08), (1199, 3000, 9.153680993520844e-08), (1200, 1464, 8.806355312223934e-08), (1203, 1319, 6.990184152821072e-08), (1206, 1930, 8.029101399374335e-08), (1207, 2769, 8.69741296110436e-08), (1208, 2065, 9.728984997438446e-08), (1209, 1545, 7.721511152162229e-08), (1209, 2066, 7.274794198441884e-08), (1211, 2571, 1.1192871606444253e-07), (1211, 2956, 1.1292636436116867e-07), (1211, 3162, 1.2032922883567895e-07), (1213, 1610, 1.0946078834151146e-07), (1216, 2533, 8.085734518790706e-08), (1217, 1722, 1.0337382182965896e-07), (1219, 1786, 1.1668050060721728e-07), (1220, 1587, 1.0862310135512489e-07), (1220, 1771, 6.760439931640472e-08), (1221, 1820, 1.1088005011226642e-07), (1221, 2133, 1.095024890655113e-07), (1222, 1708, 8.023312350322657e-08), (1226, 1346, 8.068862104316758e-08), (1226, 1933, 1.0217124708156225e-07), (1226, 2493, 9.498847339520491e-08), (1227, 1992, 1.2399415464417805e-07), (1228, 1919, 6.939027623508597e-08), (1228, 2346, 1.0626099946223848e-07), (1228, 3047, 9.944588596070962e-08), (1229, 2553, 1.1879256535788019e-07), (1229, 2651, 1.1523432495231464e-07), (1230, 2491, 8.417079891323773e-08), (1233, 1985, 8.055194428521443e-08), (1233, 2485, 9.514970129814358e-08), (1234, 1522, 9.456600068192727e-08), (1237, 2402, 9.685331520977564e-08), (1239, 1651, 9.585296015602007e-08), (1239, 2223, 1.1485599722698135e-07), (1240, 2674, 1.2286758675755026e-07), (1242, 1824, 7.888751851732119e-08), (1244, 2684, 7.265467678088779e-08), (1247, 2019, 6.924443910362232e-08), (1247, 2175, 9.253655715023386e-08), (1249, 2987, 1.2356421159341668e-07), (1251, 1656, 8.168564183873904e-08), (1252, 1868, 7.151446780812984e-08), (1252, 1940, 1.0353741653346454e-07), (1252, 2141, 1.2357384953341892e-07), (1253, 2475, 1.0423442663528414e-07), (1254, 1344, 7.668529957144601e-08), (1255, 1540, 7.086657340486516e-08), (1257, 1832, 8.491816543748289e-08), (1257, 2889, 9.310687543288708e-08), (1258, 1390, 8.419269829075432e-08), (1260, 2853, 7.609342532975235e-08), (1261, 1911, 1.2011853902019114e-07), (1263, 1371, 6.47544431490513e-08), (1268, 1923, 7.842069761008114e-08), (1270, 2379, 6.269818989334542e-08), (1271, 1803, 1.1574467395293018e-07), (1271, 2346, 1.0336497563485571e-07), (1272, 1937, 1.1278057859906424e-07), (1273, 1861, 9.225898647183057e-08), (1274, 1797, 7.62991249866843e-08), (1274, 2996, 9.432925006271248e-08), (1283, 2159, 6.722867717587745e-08), (1285, 1414, 1.0688371122625837e-07), (1285, 1453, 1.215026845344731e-07), (1285, 2559, 8.40314784675029e-08), (1286, 2156, 6.490516019478525e-08), (1286, 2415, 1.1822446343881006e-07), (1287, 1564, 1.2388168521992053e-07), (1288, 1704, 9.682994365205321e-08), (1288, 2424, 6.595526342273133e-08), (1289, 3054, 1.1338571513450087e-07), (1292, 1501, 9.085069133071582e-08), (1292, 2406, 9.326941339111606e-08), (1293, 1522, 8.577554974635459e-08), (1293, 3072, 1.221915430741455e-07), (1295, 2371, 6.68337153997021e-08), (1296, 1583, 7.033683715498767e-08), (1300, 1807, 1.0336505493814375e-07), (1300, 3076, 8.427331519136464e-08), (1302, 1677, 1.1374768925789006e-07), (1304, 1337, 1.2466368803960243e-07), (1308, 2962, 1.2393162081650913e-07), (1309, 1574, 7.157986820882252e-08), (1309, 3155, 9.438896297010989e-08), (1312, 2424, 9.936260610990515e-08), (1316, 2534, 9.671253311045684e-08), (1318, 1379, 1.0106359745663494e-07), (1319, 1515, 1.2018968454689406e-07), (1319, 2246, 7.430643350238702e-08), (1319, 2595, 9.143774099230029e-08), (1319, 2616, 8.649127211267667e-08), (1324, 1346, 7.941510211130736e-08), (1324, 1622, 6.988913069821642e-08), (1325, 2849, 6.845400295007667e-08), (1326, 2864, 1.1615572015765672e-07), (1328, 2094, 1.224640901642988e-07), (1330, 3127, 7.372521739838405e-08), (1332, 2943, 7.635372818562334e-08), (1333, 2905, 6.923655492739545e-08), (1336, 1764, 8.758169357407608e-08), (1336, 2397, 1.098819585947834e-07), (1337, 1480, 7.787827327555319e-08), (1338, 2810, 8.080565231410685e-08), (1338, 3015, 1.0961060580674663e-07), (1339, 2611, 1.1680807234195787e-07), (1339, 3093, 1.067355119113532e-07), (1341, 2226, 1.0977754302490607e-07), (1343, 2179, 7.896245303741234e-08), (1344, 3150, 8.530141913582911e-08), (1345, 1478, 9.85265727230317e-08), (1346, 2594, 1.0904921699110555e-07), (1346, 2881, 8.933247799050583e-08), (1347, 1509, 6.91554069793317e-08), (1347, 1606, 1.1757738307863103e-07), (1347, 2954, 1.211211100212355e-07), (1348, 3134, 1.0796937594259961e-07), (1352, 2600, 1.0800169052695459e-07), (1353, 1833, 9.538001065626918e-08), (1357, 2931, 8.143758484209875e-08), (1359, 2870, 9.176263026388509e-08), (1360, 1769, 7.328026042351901e-08), (1360, 2448, 1.0615921609004166e-07), (1360, 2685, 7.095086360951929e-08), (1363, 2906, 8.476567896714025e-08), (1364, 1409, 9.236751548573982e-08), (1364, 2382, 8.150252917089637e-08), (1365, 1646, 8.217194899094698e-08), (1367, 2575, 1.2227387841474066e-07), (1368, 1664, 6.965560063874023e-08), (1368, 2120, 8.791328902324125e-08), (1369, 2495, 8.819118513987704e-08), (1371, 1542, 6.333133057126058e-08), (1371, 3091, 7.146820823220826e-08), (1372, 1594, 1.2391211428457307e-07), (1375, 2428, 7.222821683292786e-08), (1375, 2582, 8.956978046187763e-08), (1376, 2830, 8.605237545161006e-08), (1377, 1464, 9.884486381526074e-08), (1378, 1661, 6.739221782068118e-08), (1382, 3083, 7.202333665275756e-08), (1383, 3126, 6.251511477809932e-08), (1384, 2737, 1.0805104209505128e-07), (1385, 1869, 9.344209857736906e-08), (1386, 1528, 1.0294635143872535e-07), (1388, 2421, 7.649196241167792e-08), (1388, 2838, 1.1457816335555488e-07), (1388, 2976, 9.366750813301315e-08), (1391, 2241, 1.1135265748289664e-07), (1402, 1416, 1.0441497616683282e-07), (1403, 1875, 6.337994326647685e-08), (1404, 2148, 7.599928320874096e-08), (1404, 2671, 9.724272987834102e-08), (1404, 3174, 1.1265790727851819e-07), (1406, 2816, 8.142097999473112e-08), (1406, 3032, 1.0798327178872983e-07), (1410, 2842, 1.0101051068344987e-07), (1411, 3072, 8.857638786351937e-08), (1412, 1554, 8.859100596557507e-08), (1413, 2586, 9.975691642277757e-08), (1415, 2049, 1.0879207279869095e-07), (1415, 3107, 1.0312057037772736e-07), (1416, 1694, 1.0872161579853128e-07), (1419, 1868, 8.603993100907758e-08), (1419, 2031, 7.810625867150437e-08), (1421, 2226, 7.499673103907907e-08), (1422, 2454, 6.978995481897327e-08), (1423, 2069, 1.2270637653452139e-07), (1424, 2146, 8.727610741061081e-08), (1425, 1843, 7.689247983887389e-08), (1425, 2091, 1.0046204427449862e-07), (1425, 3178, 6.554440669229355e-08), (1426, 1737, 9.434072073822791e-08), (1426, 2100, 6.943028587452223e-08), (1427, 1823, 8.911209309545449e-08), (1428, 1538, 9.346374519210601e-08), (1428, 2995, 1.1480196724591854e-07), (1429, 3028, 1.1135735230912124e-07), (1431, 1700, 1.1460667812763477e-07), (1432, 1641, 6.843873872620948e-08), (1434, 2973, 1.2154588057021457e-07), (1436, 2856, 8.3527856572139e-08), (1437, 1880, 1.1260139386287739e-07), (1440, 2317, 1.1202573459546566e-07), (1444, 1678, 1.2455621986086552e-07), (1445, 2244, 9.802746233131445e-08), (1446, 1470, 1.1704511155932226e-07), (1446, 1765, 7.162773469312026e-08), (1447, 1453, 1.0485023041412664e-07), (1447, 2107, 9.61918508337134e-08), (1448, 1825, 1.1050741797700768e-07), (1449, 2256, 1.2461596014876847e-07), (1451, 2267, 1.2474763616780692e-07), (1452, 3135, 8.988587352434265e-08), (1453, 2076, 1.1453134798726123e-07), (1454, 2630, 1.2424969169409438e-07), (1456, 3136, 1.1462132155014499e-07), (1458, 1809, 7.133683695617985e-08), (1458, 1855, 6.948371004380761e-08), (1459, 1949, 8.177494513030775e-08), (1459, 2092, 8.700055278869636e-08), (1462, 2081, 1.1592909359808521e-07), (1465, 1657, 1.1827594260179041e-07), (1465, 2532, 7.580340677439689e-08), (1468, 2273, 1.1512789115543842e-07), (1472, 2407, 7.402433517909314e-08), (1474, 1599, 7.774117490885646e-08), (1477, 1535, 6.584059590794931e-08), (1479, 1840, 1.0196989546682856e-07), (1479, 1933, 7.673888049235828e-08), (1479, 2278, 8.543859308633208e-08), (1481, 2890, 1.158746354258737e-07), (1482, 2422, 7.756637483646547e-08), (1483, 2183, 1.2260288454608233e-07), (1484, 3118, 7.21312320134152e-08), (1486, 2072, 7.040049251664029e-08), (1486, 2192, 9.544281649901068e-08), (1487, 1535, 1.1532708455500784e-07), (1487, 3110, 7.891812859619165e-08), (1490, 1851, 9.834759733125866e-08), (1491, 2688, 8.276257685802759e-08), (1492, 2056, 9.499367677762228e-08), (1492, 2283, 1.1275908900872767e-07), (1492, 3017, 1.0437757495864048e-07), (1493, 2605, 9.581552125377779e-08), (1494, 1795, 1.0797775325140554e-07), (1495, 1714, 1.0734793587303794e-07), (1495, 2230, 7.39563816031631e-08), (1495, 2367, 6.708367641736406e-08), (1498, 1589, 1.218122572675462e-07), (1503, 2083, 1.1869002165416786e-07), (1503, 2581, 6.749327477022871e-08), (1505, 2164, 1.1018255459427221e-07), (1508, 2446, 1.21945019112284e-07), (1513, 1530, 9.075742198272877e-08), (1514, 2404, 6.755044257224091e-08), (1514, 2575, 7.976950534740745e-08), (1515, 2742, 8.322302556969165e-08), (1516, 1916, 1.1160716644669836e-07), (1516, 2321, 6.349120155481436e-08), (1516, 2862, 1.1188894454975217e-07), (1517, 2210, 1.1812096962757396e-07), (1521, 2146, 1.0044997544227983e-07), (1525, 2141, 8.179835401261141e-08), (1525, 3003, 1.0657968841064395e-07), (1526, 1890, 1.1381870677331298e-07), (1528, 2050, 1.1558003602474984e-07), (1529, 2281, 1.0277345133476338e-07), (1530, 1858, 8.460121583672861e-08), (1530, 2833, 1.1250392874044371e-07), (1537, 2807, 8.04921240327371e-08), (1540, 2169, 1.1481308143969265e-07), (1541, 2473, 6.533821923497435e-08), (1542, 1955, 1.2022205552760151e-07), (1542, 3091, 9.655415690337861e-08), (1546, 3140, 1.1009465714776528e-07), (1547, 2005, 1.130606864436782e-07), (1547, 2110, 1.148308869241354e-07), (1548, 3038, 9.032628810234537e-08), (1549, 1638, 1.0415375409762097e-07), (1555, 2356, 6.253561341907316e-08), (1556, 2869, 8.988603446854642e-08), (1557, 2286, 7.633110476642576e-08), (1560, 2700, 1.1196712936050228e-07), (1561, 1664, 8.515301298268073e-08), (1561, 2505, 6.560265933164105e-08), (1562, 2346, 7.27392137402184e-08), (1562, 3146, 9.011504104733221e-08), (1563, 3065, 1.085576447704688e-07), (1565, 2976, 6.708678047655911e-08), (1568, 1789, 7.197441683268819e-08), (1569, 1784, 1.249775646169168e-07), (1569, 2702, 1.0616445073389185e-07), (1572, 3110, 9.692405382902006e-08), (1574, 3155, 1.170808097176124e-07), (1575, 2507, 1.1872291457102606e-07), (1576, 2828, 1.211820129089362e-07), (1576, 3025, 7.333723743270893e-08), (1578, 2596, 1.2167090788044812e-07), (1579, 2930, 9.779541176096386e-08), (1580, 2150, 1.104660859793706e-07), (1580, 2558, 1.029059283724151e-07), (1581, 1998, 1.0843485139739424e-07), (1582, 2808, 7.194475944182361e-08), (1584, 2045, 6.973616428809701e-08), (1585, 2383, 1.1527221078376996e-07), (1586, 2560, 6.78043216143959e-08), (1586, 2775, 1.0465756389008806e-07), (1591, 3104, 1.0180508683282143e-07), (1593, 3115, 6.76964101208062e-08), (1594, 2660, 7.608279004245316e-08), (1599, 1865, 9.684603430305649e-08), (1601, 2153, 8.17652483986709e-08), (1602, 2124, 9.34542480751776e-08), (1602, 2165, 1.0857582229121849e-07), (1602, 2701, 1.098223774378902e-07), (1604, 2938, 6.484725466928972e-08), (1605, 1633, 6.426295319418966e-08), (1607, 2785, 7.097537317409411e-08), (1609, 2508, 1.0547094259581468e-07), (1611, 1761, 1.0092470457537986e-07), (1612, 3087, 1.1915979019573552e-07), (1612, 3099, 8.256024164410809e-08), (1618, 2647, 1.0593411795243103e-07), (1622, 2881, 9.211831494339829e-08), (1624, 1851, 6.46577332270549e-08), (1625, 2722, 1.0235645424114914e-07), (1626, 2363, 1.0195144405577995e-07), (1628, 2375, 7.405642562111048e-08), (1631, 1678, 9.909993233304777e-08), (1634, 3164, 1.217607714330321e-07), (1638, 2371, 8.550156392757578e-08), (1639, 2304, 1.219460345337427e-07), (1643, 2407, 1.2145115104408067e-07), (1647, 1757, 1.190785232129509e-07), (1647, 2789, 9.28265224137567e-08), (1648, 2653, 9.112300338269278e-08), (1649, 3014, 1.0961860590089876e-07), (1650, 2255, 1.065462047332858e-07), (1653, 2418, 7.620968376495021e-08), (1654, 2998, 6.599993800037759e-08), (1655, 2019, 1.0426393806602135e-07), (1655, 2654, 8.61083875975218e-08), (1656, 1933, 1.1363928380430396e-07), (1659, 2333, 1.2316228251861293e-07), (1659, 2777, 1.218245937385897e-07), (1664, 2637, 8.516510401111303e-08), (1665, 1777, 6.66259765474018e-08), (1666, 2439, 7.3966738580408e-08), (1666, 2890, 7.540729195605808e-08), (1668, 2017, 9.163109958907167e-08), (1668, 2122, 1.0528845517255626e-07), (1668, 2646, 1.0439281862549243e-07), (1670, 1777, 1.1525093947137719e-07), (1670, 2834, 1.1212401553609878e-07), (1672, 2927, 8.322260960153043e-08), (1672, 2995, 1.145501067122215e-07), (1673, 1977, 8.132189121634743e-08), (1676, 1784, 1.1520149776261982e-07), (1678, 2657, 1.1831943691244048e-07), (1679, 1830, 1.1072197308590134e-07), (1687, 3014, 1.07676196706082e-07), (1688, 2205, 1.093476346725941e-07), (1689, 1813, 9.54772581665375e-08), (1691, 3093, 7.426026844241985e-08), (1694, 2144, 8.915073333300263e-08), (1694, 3054, 6.976806578088303e-08), (1697, 2245, 1.1276542371600595e-07), (1698, 3135, 8.307317761900703e-08), (1702, 2451, 6.846010642180973e-08), (1703, 1751, 8.295010910094375e-08), (1705, 2023, 1.1438193474180408e-07), (1706, 1925, 1.1189238889004341e-07), (1706, 2629, 8.468741426685948e-08), (1714, 2824, 6.47949954922025e-08), (1714, 3096, 8.721505680498788e-08), (1718, 2752, 6.94531351411977e-08), (1723, 2567, 8.210550217442849e-08), (1723, 2697, 1.1380504224259454e-07), (1726, 2263, 8.983663199536997e-08), (1730, 2061, 1.1924590439701713e-07), (1731, 3131, 6.514553586183408e-08), (1732, 2517, 6.997839124865357e-08), (1732, 2788, 1.064348480494822e-07), (1733, 2617, 1.0008153984695051e-07), (1735, 2149, 8.623215804010434e-08), (1736, 2861, 1.0824008957214808e-07), (1737, 1874, 7.148247140630128e-08), (1738, 2476, 6.541065985437689e-08), (1739, 2716, 1.1450850654767376e-07), (1740, 1759, 1.1887476531115614e-07), (1741, 3147, 8.35368553505877e-08), (1745, 2375, 7.434256075549801e-08), (1746, 1763, 9.328713634852892e-08), (1749, 1880, 1.1950318847671615e-07), (1752, 2210, 1.0017397688122845e-07), (1752, 2338, 1.2310486508561987e-07), (1754, 2473, 8.255963774604937e-08), (1758, 2063, 7.938639053234235e-08), (1759, 2583, 9.399806882162511e-08), (1762, 2653, 1.1515221764461823e-07), (1763, 2716, 1.0882103921610051e-07), (1764, 2447, 8.6755908063233e-08), (1769, 1873, 1.1482380096425122e-07), (1769, 2623, 1.1350575178438542e-07), (1772, 2469, 7.011735311204377e-08), (1780, 1836, 7.511054525667661e-08), (1784, 2180, 1.162073877672525e-07), (1785, 2625, 1.0597372857203925e-07), (1785, 2767, 9.101911658165734e-08), (1791, 2664, 7.973514742131585e-08), (1793, 3088, 8.676094652686398e-08), (1794, 2123, 8.293118124469175e-08), (1795, 2830, 1.1710207346724502e-07), (1797, 1969, 7.875300504176857e-08), (1801, 1817, 9.577558669697993e-08), (1804, 2750, 1.1246755444530685e-07), (1805, 1983, 8.509063229355628e-08), (1808, 1915, 6.293931769333461e-08), (1810, 2757, 1.2458033162736126e-07), (1812, 2690, 1.2057550279189253e-07), (1813, 2433, 1.1564509613939284e-07), (1814, 2943, 1.1046387343199347e-07), (1819, 2713, 9.538922948886357e-08), (1822, 2970, 6.268271378576233e-08), (1825, 2723, 9.897982665039072e-08), (1825, 3004, 1.209994744947247e-07), (1827, 2828, 9.14162119436784e-08), (1828, 2611, 1.0333589309588822e-07), (1831, 2374, 7.695271589245752e-08), (1831, 2844, 6.461144912701235e-08), (1833, 1894, 9.793433290707878e-08), (1833, 2639, 9.418448904951231e-08), (1834, 2793, 9.329387120293735e-08), (1834, 3033, 8.634415872158611e-08), (1840, 2165, 1.0023695755223711e-07), (1842, 2219, 1.0262786009570898e-07), (1843, 2649, 9.799392157501728e-08), (1843, 3178, 1.0069577372233544e-07), (1845, 3007, 1.2198695218392093e-07), (1848, 2632, 1.0327106081997926e-07), (1853, 3182, 7.543974643238178e-08), (1856, 1921, 1.0604076895953378e-07), (1857, 2416, 1.0028289423563697e-07), (1858, 3170, 1.1598124047688549e-07), (1861, 2528, 9.778354233249755e-08), (1862, 2627, 6.414732148408508e-08), (1864, 2297, 1.1493710815896761e-07), (1866, 2900, 8.312973143190634e-08), (1869, 2002, 8.10321262160287e-08), (1870, 2868, 6.522156218869862e-08), (1875, 2556, 1.2097496653963799e-07), (1876, 2146, 9.766547109716165e-08), (1876, 2198, 6.781769584527443e-08), (1878, 2744, 9.847688504109548e-08), (1884, 3120, 9.368896645314204e-08), (1886, 2096, 1.0883717620144952e-07), (1886, 2432, 7.659665999488459e-08), (1889, 2459, 7.775229850596767e-08), (1891, 2158, 7.293595908386988e-08), (1893, 2520, 8.987684959082242e-08), (1895, 3014, 1.1797950067077538e-07), (1896, 2858, 1.1480014015215891e-07), (1899, 1973, 1.0793876846288752e-07), (1900, 2880, 1.1087126823284636e-07), (1902, 2678, 1.0366061283563723e-07), (1905, 1918, 8.671314321085709e-08), (1905, 2448, 1.2019179381263093e-07), (1905, 2710, 9.167502308701922e-08), (1906, 2079, 1.0737991869566082e-07), (1906, 2399, 9.661529902839983e-08), (1907, 2166, 1.2458590434644116e-07), (1912, 2820, 1.067323634044552e-07), (1916, 2382, 8.581063019820938e-08), (1917, 2435, 8.083000422889957e-08), (1917, 3155, 9.397246574242787e-08), (1920, 1967, 7.3174170843272e-08), (1920, 2059, 7.719095907629402e-08), (1920, 2278, 7.378503029012456e-08), (1920, 2605, 7.21947922297192e-08), (1924, 2417, 1.1763393817868903e-07), (1928, 2885, 9.128148851695734e-08), (1931, 2341, 9.537228591843109e-08), (1935, 2768, 1.1604579658154527e-07), (1936, 2666, 9.476809028529168e-08), (1940, 2495, 1.0765757006590901e-07), (1941, 3046, 9.747975869100354e-08), (1947, 2504, 6.421488533402602e-08), (1951, 2134, 1.1828836519351571e-07), (1951, 2207, 1.0725988940053375e-07), (1953, 2370, 1.2216671486591297e-07), (1955, 2429, 1.0382349863063732e-07), (1955, 2913, 1.0626899273088503e-07), (1961, 2125, 1.1045790027217772e-07), (1962, 2017, 1.2057697503829706e-07), (1963, 2523, 1.240191548859623e-07), (1966, 2868, 8.960313724054636e-08), (1967, 2332, 1.1830486736560594e-07), (1969, 2694, 1.0962986963206309e-07), (1973, 1993, 1.0409548314229784e-07), (1976, 2291, 6.444359249373578e-08), (1976, 3059, 9.240919807221131e-08), (1978, 2963, 1.0239505049088073e-07), (1980, 2743, 8.746240246722296e-08), (1981, 2495, 1.165337673680826e-07), (1982, 2014, 1.2256082207211617e-07), (1984, 2167, 8.696907903061536e-08), (1985, 2485, 9.023260005595279e-08), (1985, 2714, 9.106808491493338e-08), (1988, 2073, 7.609575698330166e-08), (1991, 2675, 6.678968782719908e-08), (1992, 3071, 1.1970302365498996e-07), (1996, 2035, 8.930413493426442e-08), (1999, 2678, 1.2480077906548795e-07), (2001, 2923, 1.1918406412648232e-07), (2003, 2917, 6.784549198615989e-08), (2004, 2303, 7.217071598507826e-08), (2005, 2180, 9.302984377867521e-08), (2005, 2692, 9.189336949822509e-08), (2006, 2569, 8.383212463342762e-08), (2010, 3099, 7.101787725005945e-08), (2023, 2347, 1.0026923380445683e-07), (2030, 2866, 9.321082492627477e-08), (2033, 2295, 1.2439205486702258e-07), (2035, 2907, 1.1747672996826165e-07), (2039, 2620, 9.319539969943411e-08), (2043, 2284, 8.23495476448705e-08), (2047, 2347, 1.0170348996616143e-07), (2049, 3107, 8.943610827221353e-08), (2051, 3082, 6.601357405962481e-08), (2054, 2972, 9.445311106635108e-08), (2060, 2137, 8.667406263645718e-08), (2061, 3104, 9.67953556464678e-08), (2063, 2424, 8.779118643158119e-08), (2064, 2883, 1.0257322528796235e-07), (2066, 2748, 1.1311791145502609e-07), (2071, 2154, 6.666865339757652e-08), (2074, 2280, 7.279737631581303e-08), (2079, 2464, 8.74597532449075e-08), (2079, 2684, 8.949773533037721e-08), (2079, 2902, 9.029797018410444e-08), (2082, 2472, 1.1366786728212053e-07), (2082, 2983, 1.0597301362537542e-07), (2087, 2210, 1.2336650449032572e-07), (2095, 2545, 8.053356112240977e-08), (2096, 2404, 8.61117588897499e-08), (2101, 2711, 9.416646314575736e-08), (2105, 3006, 9.432225072170329e-08), (2110, 2445, 1.0268637143620687e-07), (2113, 2382, 1.0050062890813061e-07), (2115, 2459, 1.0581067466634025e-07), (2120, 2913, 1.165474095266851e-07), (2124, 2606, 7.914373233833599e-08), (2127, 2692, 1.1803376784529317e-07), (2128, 2596, 1.2286393251296776e-07), (2131, 2291, 1.1254150894759301e-07), (2131, 2902, 7.092066599320851e-08), (2131, 3017, 1.0954170713547754e-07), (2134, 2822, 9.767855434916652e-08), (2137, 2232, 9.700745277037058e-08), (2139, 2759, 8.77058971410245e-08), (2141, 3161, 8.982984386660353e-08), (2142, 2347, 7.581608939347923e-08), (2146, 2198, 1.1700913668822531e-07), (2146, 2679, 9.2720963508465e-08), (2148, 2772, 9.333570601689392e-08), (2149, 2673, 9.294537610499898e-08), (2156, 2246, 1.0013145641613179e-07), (2170, 3075, 6.689469716620105e-08), (2171, 2756, 7.767494130343563e-08), (2175, 2656, 8.390165415978849e-08), (2183, 3022, 1.1123613508895395e-07), (2184, 2869, 8.128427526388756e-08), (2187, 2689, 8.79529822891288e-08), (2188, 2826, 8.513938730125503e-08), (2197, 2593, 9.51109516701434e-08), (2197, 2714, 1.2126478208937132e-07), (2198, 3072, 7.087638874688502e-08), (2200, 2486, 9.46008451804081e-08), (2202, 2669, 1.0898261572414906e-07), (2206, 3001, 7.212959417208915e-08), (2210, 2338, 9.949274886450909e-08), (2214, 2292, 1.0575382370718995e-07), (2214, 2374, 8.374943930623046e-08), (2219, 3046, 8.507897115445298e-08), (2224, 2414, 1.184672588642586e-07), (2225, 3048, 8.451128686085925e-08), (2228, 2340, 7.85235099142076e-08), (2230, 2457, 9.939643635813375e-08), (2230, 2899, 6.668517433746775e-08), (2237, 2239, 8.712729769331266e-08), (2240, 3068, 1.1390040267656744e-07), (2241, 2621, 9.581783796609306e-08), (2245, 2828, 9.831958406534852e-08), (2251, 2372, 8.531612192165295e-08), (2255, 3012, 8.157611879874256e-08), (2257, 2934, 8.020911288597744e-08), (2258, 2468, 1.0335948248653478e-07), (2258, 2613, 7.930888434122827e-08), (2260, 2306, 7.593813866109626e-08), (2260, 3039, 9.872291249847263e-08), (2262, 2641, 7.981782056241024e-08), (2263, 2632, 1.0108590686162212e-07), (2265, 2291, 6.736402212336538e-08), (2266, 3103, 1.1828080041147703e-07), (2267, 3013, 1.1704505392335262e-07), (2268, 2312, 6.963807757083487e-08), (2268, 3037, 8.821854889103373e-08), (2273, 3033, 9.417427152014494e-08), (2281, 3059, 1.1749576381400876e-07), (2281, 3091, 6.495749930049722e-08), (2287, 2456, 1.1497094872587886e-07), (2288, 2584, 9.91652840243699e-08), (2291, 2682, 9.925996001628444e-08), (2293, 2817, 1.0164829454760427e-07), (2295, 3027, 9.698679059222683e-08), (2298, 2451, 7.674943955412026e-08), (2301, 2908, 1.002179416430006e-07), (2302, 2527, 7.617997346233534e-08), (2302, 2852, 8.734003750846693e-08), (2306, 2327, 1.02935683641455e-07), (2312, 2703, 1.116795734304121e-07), (2318, 2852, 1.2055217539570868e-07), (2319, 2828, 1.2257479357312792e-07), (2319, 2914, 8.308893711307209e-08), (2321, 2538, 1.156148412470989e-07), (2334, 2445, 9.914776771128275e-08), (2334, 3027, 1.243518850865551e-07), (2336, 2806, 6.592163220505536e-08), (2337, 3161, 1.098109843948317e-07), (2350, 2847, 8.142582968728283e-08), (2350, 2987, 8.378002410866262e-08), (2351, 2545, 7.29115159127829e-08), (2351, 3176, 9.66122777455903e-08), (2359, 2539, 7.363288179538873e-08), (2360, 2811, 8.537491048549545e-08), (2360, 2981, 1.2110569576927633e-07), (2362, 2812, 7.860456031232254e-08), (2368, 2700, 6.303777922212211e-08), (2373, 2992, 7.685114607326033e-08), (2375, 2501, 7.902759390466804e-08), (2375, 2708, 8.497372512661268e-08), (2377, 2704, 6.53981782600813e-08), (2379, 2921, 8.717334775689953e-08), (2381, 2838, 1.1627494532493736e-07), (2384, 2837, 8.023866654855257e-08), (2386, 3156, 1.0321549846062382e-07), (2394, 2597, 6.37668778767616e-08), (2407, 2599, 8.916761603890996e-08), (2407, 2998, 6.597802882474696e-08), (2408, 2786, 1.1247852936629929e-07), (2414, 2646, 1.1652593431108493e-07), (2414, 3088, 8.323045354505027e-08), (2415, 3087, 9.252677621979561e-08), (2417, 3076, 1.0264238447385779e-07), (2421, 2916, 1.202957631191626e-07), (2430, 3004, 1.1255596811105688e-07), (2431, 2483, 1.1590189503868936e-07), (2431, 2795, 1.2070339610958227e-07), (2435, 3057, 7.991790332748131e-08), (2438, 2791, 8.204676456165402e-08), (2439, 2477, 1.1322992066484143e-07), (2440, 2839, 1.1522737670204285e-07), (2445, 3042, 6.871867249855524e-08), (2449, 2526, 6.911918036567875e-08), (2452, 2560, 9.977850115092679e-08), (2456, 2768, 9.860491690297233e-08), (2457, 3011, 9.829491021040554e-08), (2458, 2846, 1.1391072962346514e-07), (2461, 3090, 9.960231177090317e-08), (2466, 2942, 6.775214922162312e-08), (2476, 2626, 7.660782129748277e-08), (2480, 2855, 8.07408328112642e-08), (2480, 2968, 1.0829144725873035e-07), (2485, 2761, 7.926604120149726e-08), (2489, 2887, 1.0337477099143107e-07), (2490, 2806, 1.055167873725274e-07), (2502, 2638, 1.1462000383034917e-07), (2502, 2750, 6.93454707279373e-08), (2510, 2526, 6.271218932368292e-08), (2510, 2589, 1.1900046381621477e-07), (2510, 2910, 1.0523169398485368e-07), (2512, 2768, 8.296429711993787e-08), (2516, 2818, 9.060236387218773e-08), (2524, 2675, 1.0231957010978041e-07), (2524, 3024, 8.836201599714009e-08), (2526, 2910, 1.0221391753632444e-07), (2533, 2662, 7.914099978175472e-08), (2535, 2600, 1.0563327963115214e-07), (2538, 2979, 8.349565644665224e-08), (2542, 2668, 8.920948640972214e-08), (2545, 2741, 7.178195223934561e-08), (2546, 2798, 8.303295042237171e-08), (2550, 2856, 7.832515390221375e-08), (2551, 2618, 6.978888527465547e-08), (2552, 2738, 9.052960559507119e-08), (2552, 3135, 1.0544899756255439e-07), (2554, 2751, 6.491415397294648e-08), (2554, 2792, 8.74153383420316e-08), (2581, 3020, 9.853344826662297e-08), (2584, 3093, 1.2291058251063056e-07), (2584, 3109, 9.727246844968622e-08), (2585, 2907, 1.1994070780644932e-07), (2589, 2655, 7.878287025122821e-08), (2592, 3067, 1.029028620667892e-07), (2595, 2739, 8.902733119024892e-08), (2595, 3093, 7.746108619938454e-08), (2600, 2949, 1.1005121684809325e-07), (2601, 2970, 7.534176833495443e-08), (2603, 3103, 8.154768907838092e-08), (2604, 2713, 1.1090437703659749e-07), (2609, 2853, 7.305113363111943e-08), (2610, 3131, 6.68508987847108e-08), (2615, 2897, 8.405702800415186e-08), (2615, 3127, 8.767718050120822e-08), (2619, 2623, 9.442964103593676e-08), (2622, 3095, 7.80492953831371e-08), (2630, 3114, 6.636636145770872e-08), (2634, 2824, 1.0183591340210563e-07), (2635, 2768, 9.61386954121387e-08), (2641, 3019, 1.1045878271964462e-07), (2645, 3083, 6.54040433107082e-08), (2647, 2878, 7.252349979525454e-08), (2649, 2699, 7.123699138240663e-08), (2650, 3040, 7.953461562584425e-08), (2651, 2807, 6.987077446038625e-08), (2662, 2792, 9.442217123325406e-08), (2665, 2898, 7.781458767690378e-08), (2668, 2848, 9.235662473797728e-08), (2671, 2772, 9.726729885862876e-08), (2671, 3174, 1.1767080563245061e-07), (2673, 3085, 7.512715555638376e-08), (2674, 3073, 1.1470172049158267e-07), (2675, 3000, 1.235386380798833e-07), (2676, 2888, 8.130901684856834e-08), (2682, 2962, 7.915223964943329e-08), (2684, 3069, 1.14332215479156e-07), (2690, 2911, 7.752693081501547e-08), (2690, 3052, 8.591510535707489e-08), (2692, 2917, 1.0183158972364112e-07), (2692, 3043, 1.1360462850790615e-07), (2696, 3056, 9.82087703665542e-08), (2702, 2917, 6.763543912305324e-08), (2707, 2713, 6.746835557419408e-08), (2722, 3059, 1.1303126001913826e-07), (2725, 2984, 7.443406850032538e-08), (2729, 2891, 1.1212738176608873e-07), (2731, 2833, 1.1344119910101991e-07), (2738, 3182, 1.0523868632204165e-07), (2742, 3152, 9.405473486440524e-08), (2744, 2904, 9.912436690000627e-08), (2750, 3145, 8.725733855554014e-08), (2756, 2763, 6.646822939891098e-08), (2764, 2988, 6.461837255826547e-08), (2769, 3021, 6.84198285347604e-08), (2771, 2975, 6.842947629663561e-08), (2771, 3117, 9.481763389634358e-08), (2796, 3056, 6.865969893273412e-08), (2806, 2836, 6.39692370641261e-08), (2816, 3011, 1.197068715532858e-07), (2818, 2947, 1.221119696920268e-07), (2828, 3140, 6.820637505406986e-08), (2835, 2940, 8.973497683025207e-08), (2840, 3046, 8.644355083784738e-08), (2849, 2991, 1.1450024498006529e-07), (2855, 3013, 1.0149196353409884e-07), (2859, 2896, 1.1377880302321737e-07), (2860, 2866, 7.611125013489966e-08), (2863, 3075, 9.059329242240623e-08), (2879, 3107, 8.987405762042884e-08), (2882, 2960, 1.0741607253720073e-07), (2889, 3154, 8.540130231171415e-08), (2910, 2989, 1.138030294588458e-07), (2928, 3019, 8.96234653034264e-08), (2928, 3058, 1.0197612407068659e-07), (2932, 3031, 6.62377031119032e-08), (2933, 3038, 1.1187716584446176e-07), (2937, 3155, 7.055417011917327e-08), (2952, 2961, 1.0354197231893038e-07), (2975, 2995, 8.382769576819426e-08), (2989, 3180, 6.957995922212236e-08), (3008, 3139, 9.622874002698679e-08), (3020, 3050, 1.2094333992664582e-07), (3050, 3084, 1.1092741403330763e-07), (3061, 3092, 6.631892993922172e-08), (3062, 3064, 9.530362330453009e-08), (3072, 3182, 9.621396879362459e-08), (3097, 3115, 1.205429728985844e-07), (3117, 3146, 8.27977867242196e-08)])"
      ]
     },
     "execution_count": 89,
     "metadata": {
      "tags": []
     },
     "output_type": "execute_result"
    }
   ],
   "source": [
    "H.edges.data('weight')"
   ]
  },
  {
   "cell_type": "code",
   "execution_count": 26,
   "metadata": {
    "colab": {},
    "colab_type": "code",
    "collapsed": true,
    "id": "_HqYc2dP-fun"
   },
   "outputs": [],
   "source": [
    "def is_between(b1, x, b2):\n",
    "   return (b1 <= x and x <= b2) or (b2 <= x and x <= b1)\n",
    "\n",
    "\"\"\" Given the length of the cross-section, a list of segments \n",
    " [(x1, x2), (y1, y2), (z1, z2)], and graph G return a \n",
    " connecting cluster from source(y~0) to sink(y~length). If none, \n",
    " return None. \n",
    "\"\"\"\n",
    "def find_connecting_cluster(length, segs, G):\n",
    "  source_plane = length/100\n",
    "  sink_plane = length - length/100\n",
    "  \n",
    "  \n",
    "  n = range(len(segs))\n",
    "  source_segs = [i for i in n if is_between(segs[i][1][0], \n",
    "                                            source_plane, segs[i][1][1])]\n",
    "  sink_segs = [i for i in n if is_between(segs[i][1][0], \n",
    "                                          sink_plane, segs[i][1][1])]\n",
    "  \n",
    "  if not source_segs or not sink_segs:\n",
    "    print(\"No nanotubes intersecting source and/or sink planes.\")\n",
    "    return None\n",
    "  \n",
    "  # Iteratively grow the connecting cluster beginning from the source.\n",
    "  H = nx.Graph()\n",
    "  H.add_nodes_from(source_segs)\n",
    "  new_segs = source_segs\n",
    "  while new_segs:\n",
    "    temp = list(new_segs)\n",
    "    new_segs = []\n",
    "    for seg in temp:\n",
    "      for v in G.neighbors(seg):\n",
    "        if v not in sink_segs and v not in H.nodes():\n",
    "          new_segs.append(v)\n",
    "        H.add_edge(seg, v, weight=G[seg][v]['weight'])  \n",
    "  \n",
    "  # Iteratively grow from the sink to get the final cluster.\n",
    "  K = nx.Graph()\n",
    "  K_sinks, K_sources = set(), set()\n",
    "  new_segs = [v for v in H.nodes() if v in sink_segs]\n",
    "  K_sinks = set(new_segs)\n",
    "  K.add_nodes_from(new_segs)\n",
    "  path_exists = False\n",
    "  while new_segs:\n",
    "    temp = list(new_segs)\n",
    "    new_segs = []\n",
    "    for seg in temp:\n",
    "      for v in H.neighbors(seg):\n",
    "        if v not in source_segs and v not in K.nodes():\n",
    "          new_segs.append(v)\n",
    "        if v in source_segs:\n",
    "          K_sources.add(v)\n",
    "        K.add_edge(seg, v, weight=G[seg][v]['weight'])  \n",
    "  if not K_sources:\n",
    "    print(\"No connecting paths.\")\n",
    "    return None, None, None\n",
    "  print(\"There are %d nanowires in the cluster out of all %d nanowires.\" % (len(K.nodes()), len(segments)))\n",
    "  return K, K_sources, K_sinks\n",
    "\n",
    "      \n",
    "  \n",
    "  "
   ]
  },
  {
   "cell_type": "code",
   "execution_count": 27,
   "metadata": {
    "colab": {
     "base_uri": "https://localhost:8080/",
     "height": 34
    },
    "colab_type": "code",
    "collapsed": false,
    "id": "wXdMFBv9mkpo",
    "outputId": "f3d06661-a4ee-4d67-ca04-30a1930eda72"
   },
   "outputs": [
    {
     "ename": "NameError",
     "evalue": "name 'segments' is not defined",
     "output_type": "error",
     "traceback": [
      "\u001b[0;31m---------------------------------------------------------------------------\u001b[0m",
      "\u001b[0;31mNameError\u001b[0m                                 Traceback (most recent call last)",
      "\u001b[0;32m<ipython-input-27-a4a69fa09606>\u001b[0m in \u001b[0;36m<module>\u001b[0;34m()\u001b[0m\n\u001b[0;32m----> 1\u001b[0;31m \u001b[0mK\u001b[0m\u001b[0;34m,\u001b[0m \u001b[0mK_sources\u001b[0m\u001b[0;34m,\u001b[0m \u001b[0mK_sinks\u001b[0m \u001b[0;34m=\u001b[0m \u001b[0mfind_connecting_cluster\u001b[0m\u001b[0;34m(\u001b[0m\u001b[0mlength_of_poly\u001b[0m\u001b[0;34m,\u001b[0m \u001b[0msegments\u001b[0m\u001b[0;34m,\u001b[0m \u001b[0mH\u001b[0m\u001b[0;34m)\u001b[0m\u001b[0;34m\u001b[0m\u001b[0m\n\u001b[0m\u001b[1;32m      2\u001b[0m \u001b[0;32mif\u001b[0m \u001b[0mK\u001b[0m\u001b[0;34m:\u001b[0m\u001b[0;34m\u001b[0m\u001b[0m\n\u001b[1;32m      3\u001b[0m   \u001b[0mK\u001b[0m\u001b[0;34m,\u001b[0m \u001b[0mK_sources\u001b[0m\u001b[0;34m,\u001b[0m \u001b[0mK_sinks\u001b[0m \u001b[0;34m=\u001b[0m \u001b[0mfind_connecting_cluster\u001b[0m\u001b[0;34m(\u001b[0m\u001b[0mlength_of_poly\u001b[0m\u001b[0;34m,\u001b[0m \u001b[0msegments\u001b[0m\u001b[0;34m,\u001b[0m \u001b[0mH_prime\u001b[0m\u001b[0;34m)\u001b[0m\u001b[0;34m\u001b[0m\u001b[0m\n\u001b[1;32m      4\u001b[0m \u001b[0;34m\u001b[0m\u001b[0m\n",
      "\u001b[0;31mNameError\u001b[0m: name 'segments' is not defined"
     ]
    }
   ],
   "source": [
    "K, K_sources, K_sinks = find_connecting_cluster(length_of_poly, segments, H)\n",
    "if K:\n",
    "  K, K_sources, K_sinks = find_connecting_cluster(length_of_poly, segments, H_prime) \n",
    "  "
   ]
  },
  {
   "cell_type": "markdown",
   "metadata": {
    "colab_type": "text",
    "id": "mlxOG4_7Fqo9"
   },
   "source": [
    "### Compute conductivity.\n",
    "Use the equation from this paper: [Conductivity size effect of polycrystalline metal nanowires](https://aip.scitation.org/doi/full/10.1063/1.4967198)"
   ]
  },
  {
   "cell_type": "code",
   "execution_count": 87,
   "metadata": {
    "colab": {
     "base_uri": "https://localhost:8080/",
     "height": 37
    },
    "colab_type": "code",
    "collapsed": true,
    "id": "Ere9v_YpF8k-",
    "outputId": "38b6fdf8-d6d3-4ae0-bdc1-13f9b3bf9823"
   },
   "outputs": [],
   "source": [
    "import numpy as np\n",
    "import scipy.integrate as integrate\n",
    "import matplotlib.pyplot as plt\n",
    "from numpy import sqrt, sin, cos, pi, exp, log\n",
    "\n",
    "# cond_g is the conductivity in presence of both GBS and BS\n",
    "# lambda_0 is background mean free path\n",
    "# a is nanowire radius\n",
    "# p is proportion of elastically scattered electrons\n",
    "# v is the velocity vector magnitude\n",
    "# r is the radius vector\n",
    "# alpha is the \n",
    "# d = D is the avg grain diameter\n",
    "# R is the reflection probability of an electron at a single plane.\n",
    "\n",
    "def total_conductivity(a, lambda_0, R, d, theta, cond_0, p):\n",
    "  # C = D/(2*a) = 1\n",
    "  k = 2*a/lambda_0\n",
    "  t = 1/sin(theta)\n",
    "  alpha = (lambda_0/d)*(R/(1-R))\n",
    "  cond_g = 3*cond_0*(1/3 - .5*alpha + alpha**2 - alpha**3*log(1 + 1/alpha))\n",
    "  H = 1 + alpha/(1-1/t**2)**.5\n",
    "  f1 = lambda t : (-1/(H)**2)*(t**-5)*sqrt(t**2 - 1)\n",
    "  #print('<2>')\n",
    "  integral_1 = integrate.quad(f1, 1, np.inf) \n",
    "  #print('<3>')\n",
    "  #print(integral_1)\n",
    "  # Approximate the geometric series\n",
    "  def sum_of_series(max):\n",
    "    total = 0\n",
    "    for v in range(max):\n",
    "      f2 = lambda psi : (exp(-(v+1)*H*k*t*sin(psi)) - exp(-v*H*k*t*sin(psi)))*sin(psi)\n",
    "      integral_2 = integrate.quad(f2, 0, pi/2)\n",
    "      total = total + p**v * integral_2[0]\n",
    "    return total\n",
    "  \n",
    "  total_cond = cond_g - (12/(pi*k))*(1-p)*integral_1[0]*sum_of_series(10)\n",
    "  \n",
    "  return total_cond\n",
    "  \n",
    "  "
   ]
  },
  {
   "cell_type": "code",
   "execution_count": 88,
   "metadata": {
    "colab": {
     "base_uri": "https://localhost:8080/",
     "height": 37
    },
    "colab_type": "code",
    "collapsed": true,
    "id": "jJcPQx6WH6ZS",
    "outputId": "930aedbf-3daa-4593-9a9b-7e67f7e88be7"
   },
   "outputs": [],
   "source": [
    "def calc_resistance(total_cond, cross_sectional_area, length):\n",
    "    resistivity = 1 / total_cond\n",
    "    resistance = (resistivity * length) / cross_sectional_area\n",
    "    return resistance"
   ]
  },
  {
   "cell_type": "markdown",
   "metadata": {
    "colab_type": "text",
    "id": "OmrQLrq2rQlP"
   },
   "source": [
    "###Graphically visualize the model with a connecting cluster."
   ]
  },
  {
   "cell_type": "code",
   "execution_count": 89,
   "metadata": {
    "colab": {
     "base_uri": "https://localhost:8080/",
     "height": 330
    },
    "colab_type": "code",
    "collapsed": false,
    "id": "HUISKvqprVR-",
    "outputId": "d0922b33-bd54-4415-ee81-f83208b7e227"
   },
   "outputs": [
    {
     "name": "stdout",
     "output_type": "stream",
     "text": [
      "There are 12 nanowires in the cluster out of all 274 nanowires.\n"
     ]
    },
    {
     "data": {
      "image/png": "[encoded data removed]",
      "text/plain": [
       "<matplotlib.figure.Figure at 0x1197ba668>"
      ]
     },
     "metadata": {},
     "output_type": "display_data"
    }
   ],
   "source": [
    "import matplotlib.pyplot as plt\n",
    "from mpl_toolkits.mplot3d import Axes3D\n",
    "fig = plt.figure()\n",
    "ax = fig.add_subplot(111, projection='3d')\n",
    "K = find_connecting_cluster(length_of_poly, segments, H)[0]\n",
    "for n in K.nodes():\n",
    "  seg = segments[n]\n",
    "  ax.plot(seg[0], seg[1], seg[2])\n",
    "plt.show()   "
   ]
  },
  {
   "cell_type": "markdown",
   "metadata": {
    "colab_type": "text",
    "id": "sdVNRoXyi1DL"
   },
   "source": [
    "###SPICE-y Circuit Simulation\n",
    "\n",
    "####Design plan:\n",
    "*   Compute conducivity of each wire, use to find resistance\n",
    "*   Formulate a graph G' where the nodes are the endpoints of the nanowires, each nanowire has a resistance, and every space between a pair of nanowires that is within some tolerance is a DIODE with some resistance\n",
    " * Each edge has a \"length\"(distance for dielectric edges) and a \"resistance\"\n",
    " * Nodes are named #a, #b where 1 is the the vertex #.\n",
    " * Create a voltage source node and a ground node that is adjacent to nodes in the source set and the sink set, respectively.\n",
    "\n",
    "* Next step: Because dielectric path can connect middles of wires, a wire may have to be broken up into several segments.\n",
    "* Eventually figure out how to model that space with dielectric breakdown.\n",
    "\n",
    "\n"
   ]
  },
  {
   "cell_type": "code",
   "execution_count": 39,
   "metadata": {
    "colab": {
     "base_uri": "https://localhost:8080/",
     "height": 37
    },
    "colab_type": "code",
    "collapsed": true,
    "id": "qddyFWnGF10J",
    "outputId": "591a4ab9-9b77-4040-f4e9-fb3e9183a11b"
   },
   "outputs": [],
   "source": [
    "# Using experiment (a) with Ag and R=0.3, p=0.4, C=1\n",
    "cond = total_conductivity(diameter*1e-6/2, diameter*1e-6, 0.3, diameter*1e-6, 1, 6.3e7, .4)"
   ]
  },
  {
   "cell_type": "code",
   "execution_count": 90,
   "metadata": {
    "colab": {
     "base_uri": "https://localhost:8080/",
     "height": 37
    },
    "colab_type": "code",
    "collapsed": true,
    "id": "8YekJ1iJGx-6",
    "outputId": "43e5b87e-b7c4-48ce-c38a-b92793a64e8d"
   },
   "outputs": [],
   "source": [
    "# Compute the length of the segment [(x1, x2), (y1, y2), (z1, z2)].\n",
    "def get_length(seg):\n",
    "  x1 = seg[0][0]\n",
    "  x2 = seg[0][1]\n",
    "  y1 = seg[1][0]\n",
    "  y2 = seg[1][1]\n",
    "  z1 = seg[2][0]\n",
    "  z2 = seg[2][1] \n",
    "  return np.sqrt((x1-x2)**2 + (y1-y2)**2 + (z1-z2)**2)\n",
    "\n",
    "\n",
    "  \n",
    "# Given the connecting cluster K, return a netlist graph G'.\n",
    "def make_netlist_graph(K, source_nodes, sink_nodes, diameter):\n",
    "  N = nx.Graph()\n",
    "  N.add_node('source')\n",
    "  N.add_node('sink')\n",
    "  for v in K.nodes():\n",
    "    n1 = str(v) + 'a'\n",
    "    n2 = str(v) + 'b'\n",
    "    N.add_node(n1)\n",
    "    N.add_node(n2)\n",
    "    length = get_length(segments[v])*1e-6\n",
    "    resistance = calc_resistance(cond, np.pi*(diameter)**2, length)\n",
    "    N.add_edge(n1, n2, length=length, r=resistance, type='wire')\n",
    "  for v in source_nodes:\n",
    "    N.add_edge('source', str(v) + 'a', length=0, r=0, type='source')\n",
    "    N.add_edge('source', str(v) + 'b', length=0, r=0, type='source')\n",
    "  for v in sink_nodes:    \n",
    "    N.add_edge('sink', str(v) + 'a', length=0, r=0, type='sink')\n",
    "    N.add_edge('sink', str(v) + 'b', length=0, r=0, type='sink')\n",
    "  for (u, v) in K.edges():\n",
    "    if (K[u][v]['weight'] > diameter):\n",
    "      s1 = segments[u]\n",
    "      s2 = segments[v]\n",
    "      a1 = (s1[0][0], s1[1][0], s1[2][0])\n",
    "      b1 = (s1[0][1], s1[1][1], s1[2][1])\n",
    "      a2 = (s2[0][0], s2[1][0], s2[2][0])\n",
    "      b2 = (s2[0][1], s2[1][1], s2[2][1])\n",
    "      d1 = simple_distance(a1, a2)*1e-6\n",
    "      d2 = simple_distance(a1, b2)*1e-6\n",
    "      d3 = simple_distance(b1, a2)*1e-6\n",
    "      d4 = simple_distance(b1, b2)*1e-6\n",
    "      min_d = min([d1, d2, d3, d4])\n",
    "      resistance = 1e-5 #Fix this??\n",
    "      if d1 == min_d:\n",
    "        N.add_edge(str(u) + 'a', str(v) + 'a', length=d1, r=resistance, type=\"diode\")\n",
    "      elif d2 == min_d:\n",
    "        N.add_edge(str(u) + 'a', str(v) + 'b', length=d2, r=resistance, type=\"diode\")\n",
    "      elif d3 == min_d:\n",
    "        N.add_edge(str(u) + 'b', str(v) + 'a', length=d3, r=resistance, type=\"diode\")  \n",
    "      else:\n",
    "        N.add_edge(str(u) + 'b', str(v) + 'b', length=d4, r=resistance, type=\"diode\")  \n",
    "    else:\n",
    "      N.add_edge(str(u) + 'a', str(v) + 'a', length=K[u][v]['weight'], r=0, type=\"connection\")\n",
    "      #G_prime.add_edge(str(u) + 'b', str(v) + 'b', length=K[u][v]['weight'], r=0, type=\"connection\")\n",
    "\n",
    "  return N"
   ]
  },
  {
   "cell_type": "code",
   "execution_count": 94,
   "metadata": {
    "colab": {
     "base_uri": "https://localhost:8080/",
     "height": 54
    },
    "colab_type": "code",
    "collapsed": false,
    "id": "SyQhaqDOiQuu",
    "outputId": "bb0322f0-181e-466a-cd5a-eef1684916ce"
   },
   "outputs": [
    {
     "data": {
      "text/plain": [
       "[('133b', '133a'),\n",
       " ('133b', 'sink'),\n",
       " ('176b', 'sink'),\n",
       " ('26b', '26a'),\n",
       " ('26a', '83a'),\n",
       " ('26a', '236a'),\n",
       " ('26a', '161a'),\n",
       " ('26a', '135a'),\n",
       " ('141b', '141a'),\n",
       " ('63b', '63a'),\n",
       " ('63b', 'source'),\n",
       " ('3a', 'sink'),\n",
       " ('188b', 'sink'),\n",
       " ('176a', 'sink'),\n",
       " ('259b', 'sink'),\n",
       " ('source', '63a'),\n",
       " ('146a', 'sink'),\n",
       " ('154b', 'sink'),\n",
       " ('236a', '77a'),\n",
       " ('236a', '22a'),\n",
       " ('236a', '236b'),\n",
       " ('236a', '133a'),\n",
       " ('246a', 'sink'),\n",
       " ('70b', 'sink'),\n",
       " ('175b', '175a'),\n",
       " ('2b', '2a'),\n",
       " ('83a', '141a'),\n",
       " ('83a', '83b'),\n",
       " ('107b', 'sink'),\n",
       " ('22a', '22b'),\n",
       " ('63a', '141a'),\n",
       " ('161b', '161a'),\n",
       " ('56b', 'sink'),\n",
       " ('77a', '77b'),\n",
       " ('77a', 'sink'),\n",
       " ('250a', 'sink'),\n",
       " ('107a', 'sink'),\n",
       " ('250b', 'sink'),\n",
       " ('3b', 'sink'),\n",
       " ('133a', 'sink'),\n",
       " ('154a', 'sink'),\n",
       " ('231b', 'sink'),\n",
       " ('135b', '135a'),\n",
       " ('188a', 'sink'),\n",
       " ('119a', 'sink'),\n",
       " ('175a', '2a'),\n",
       " ('146b', 'sink'),\n",
       " ('sink', '173b'),\n",
       " ('sink', '259a'),\n",
       " ('sink', '56a'),\n",
       " ('sink', '246b'),\n",
       " ('sink', '119b'),\n",
       " ('sink', '173a'),\n",
       " ('sink', '70a'),\n",
       " ('sink', '77b'),\n",
       " ('sink', '231a'),\n",
       " ('141a', '2a')]"
      ]
     },
     "execution_count": 94,
     "metadata": {},
     "output_type": "execute_result"
    }
   ],
   "source": [
    "N = make_netlist_graph(K, K_sources, K_sinks, diameter*1e-6)\n",
    "N.edges()"
   ]
  },
  {
   "cell_type": "code",
   "execution_count": 50,
   "metadata": {
    "colab": {
     "base_uri": "https://localhost:8080/",
     "height": 37
    },
    "colab_type": "code",
    "collapsed": false,
    "id": "Td3RNANTS7fH",
    "outputId": "ab2b2dcf-77d3-4042-9151-cc7270361eb2"
   },
   "outputs": [
    {
     "ename": "AttributeError",
     "evalue": "'function' object has no attribute 'items'",
     "output_type": "error",
     "traceback": [
      "\u001b[0;31m---------------------------------------------------------------------------\u001b[0m",
      "\u001b[0;31mAttributeError\u001b[0m                            Traceback (most recent call last)",
      "\u001b[0;32m<ipython-input-50-0f7c58222b4a>\u001b[0m in \u001b[0;36m<module>\u001b[0;34m()\u001b[0m\n\u001b[1;32m     34\u001b[0m   \u001b[0mfh\u001b[0m\u001b[0;34m.\u001b[0m\u001b[0mwrite\u001b[0m\u001b[0;34m(\u001b[0m\u001b[0;34m\".end\"\u001b[0m\u001b[0;34m)\u001b[0m\u001b[0;34m\u001b[0m\u001b[0m\n\u001b[1;32m     35\u001b[0m \u001b[0;34m\u001b[0m\u001b[0m\n\u001b[0;32m---> 36\u001b[0;31m \u001b[0mmake_netlist\u001b[0m\u001b[0;34m(\u001b[0m\u001b[0mG_prime\u001b[0m\u001b[0;34m,\u001b[0m \u001b[0;36m5\u001b[0m\u001b[0;34m,\u001b[0m \u001b[0;36m13e6\u001b[0m\u001b[0;34m)\u001b[0m \u001b[0;31m# ABS material\u001b[0m\u001b[0;34m\u001b[0m\u001b[0m\n\u001b[0m",
      "\u001b[0;32m<ipython-input-50-0f7c58222b4a>\u001b[0m in \u001b[0;36mmake_netlist\u001b[0;34m(G, source_voltage, die_const)\u001b[0m\n\u001b[1;32m     12\u001b[0m   \u001b[0mnum_diodes\u001b[0m \u001b[0;34m=\u001b[0m \u001b[0;36m0\u001b[0m\u001b[0;34m\u001b[0m\u001b[0m\n\u001b[1;32m     13\u001b[0m   \u001b[0mdiodes\u001b[0m \u001b[0;34m=\u001b[0m \u001b[0;34m[\u001b[0m\u001b[0;34m]\u001b[0m \u001b[0;31m# diode number, breakdown voltage(BV), resistance(RS)\u001b[0m\u001b[0;34m\u001b[0m\u001b[0m\n\u001b[0;32m---> 14\u001b[0;31m   \u001b[0;32mfor\u001b[0m \u001b[0mdata\u001b[0m \u001b[0;32min\u001b[0m \u001b[0mG\u001b[0m\u001b[0;34m.\u001b[0m\u001b[0medges\u001b[0m\u001b[0;34m.\u001b[0m\u001b[0mitems\u001b[0m\u001b[0;34m(\u001b[0m\u001b[0;34m)\u001b[0m\u001b[0;34m:\u001b[0m\u001b[0;34m\u001b[0m\u001b[0m\n\u001b[0m\u001b[1;32m     15\u001b[0m     \u001b[0;32mif\u001b[0m \u001b[0mdata\u001b[0m\u001b[0;34m[\u001b[0m\u001b[0;36m1\u001b[0m\u001b[0;34m]\u001b[0m\u001b[0;34m[\u001b[0m\u001b[0;34m'type'\u001b[0m\u001b[0;34m]\u001b[0m \u001b[0;34m==\u001b[0m \u001b[0;34m'source'\u001b[0m \u001b[0;32mor\u001b[0m \u001b[0mdata\u001b[0m\u001b[0;34m[\u001b[0m\u001b[0;36m1\u001b[0m\u001b[0;34m]\u001b[0m\u001b[0;34m[\u001b[0m\u001b[0;34m'type'\u001b[0m\u001b[0;34m]\u001b[0m \u001b[0;34m==\u001b[0m \u001b[0;34m'sink'\u001b[0m\u001b[0;34m:\u001b[0m\u001b[0;34m\u001b[0m\u001b[0m\n\u001b[1;32m     16\u001b[0m       \u001b[0mfh\u001b[0m\u001b[0;34m.\u001b[0m\u001b[0mwrite\u001b[0m\u001b[0;34m(\u001b[0m\u001b[0;34m\"R%i %s %s 0\\n\"\u001b[0m \u001b[0;34m%\u001b[0m \u001b[0;34m(\u001b[0m\u001b[0mnum_resistors\u001b[0m\u001b[0;34m,\u001b[0m \u001b[0mdata\u001b[0m\u001b[0;34m[\u001b[0m\u001b[0;36m0\u001b[0m\u001b[0;34m]\u001b[0m\u001b[0;34m[\u001b[0m\u001b[0;36m0\u001b[0m\u001b[0;34m]\u001b[0m\u001b[0;34m,\u001b[0m \u001b[0mdata\u001b[0m\u001b[0;34m[\u001b[0m\u001b[0;36m0\u001b[0m\u001b[0;34m]\u001b[0m\u001b[0;34m[\u001b[0m\u001b[0;36m1\u001b[0m\u001b[0;34m]\u001b[0m\u001b[0;34m)\u001b[0m\u001b[0;34m)\u001b[0m\u001b[0;34m\u001b[0m\u001b[0m\n",
      "\u001b[0;31mAttributeError\u001b[0m: 'function' object has no attribute 'items'"
     ]
    }
   ],
   "source": [
    "import PySpice.Logging.Logging as Logging\n",
    "logger = Logging.setup_logging()\n",
    "\n",
    "from PySpice.Spice.Netlist import Circuit\n",
    "from PySpice.Unit import *\n",
    "from decimal import Decimal\n",
    "\n",
    "# Output a netlist from the netlist graph G\n",
    "def make_netlist(G, source_voltage, die_const):\n",
    "  fh = open(\"Test.cir\", \"w\")\n",
    "  fh.write(\"***Nanowire Composite Simulation***\\n\")\n",
    "  fh.write(\"* Input Source\\n\")\n",
    "  fh.write(\"Vs source 0 %dV\\n\" % (source_voltage))\n",
    "  fh.write(\"* Resistances of Nanowires, Dielectric modeled as Diodes\\n\")\n",
    "  fh.write(\"Rground sink 0 0\\n\")\n",
    "  num_resistors = 0\n",
    "  num_diodes = 0\n",
    "  diodes = [] # diode number, breakdown voltage(BV), resistance(RS)\n",
    "  for u, v in G.edges():\n",
    "    elem_type = G[u][v]['type']\n",
    "    resistance = Decimal(G[u][v]['r'])\n",
    "    if elem_type == 'source' or elem_type == 'sink':\n",
    "      fh.write(\"R%i %s %s 0\\n\" % (num_resistors, u, v))\n",
    "      num_resistors += 1\n",
    "    elif elem_type == 'wire':\n",
    "      fh.write(\"R%i %s %s %E\\n\" % (num_resistors, u, v, resistance))\n",
    "      num_resistors += 1\n",
    "    elif elem_type == 'diode':\n",
    "      fh.write(\"D%i %s %s diode%i\\n\" % (num_diodes, data[0][0], data[0][1], num_diodes))\n",
    "#       fh.write(\"R%i %s %s %E\\n\" % (num_resistors, data[0][0], data[0][1], Decimal(data[1]['r'])))\n",
    "#       num_resistors += 1\n",
    "      bv = die_const * data[1]['length']\n",
    "      diodes.append([num_diodes, bv, data[1]['r']])\n",
    "      num_diodes += 1\n",
    "    else: # Connection type\n",
    "      fh.write(\"R%i %s %s 0\\n\" % (num_resistors, data[0][0], data[0][1]))\n",
    "      num_resistors += 1      \n",
    "  for d in diodes:\n",
    "    fh.write(\".model diode%i d (bv=%EV rs=%E)\\n\" % (d[0], Decimal(d[1]), Decimal(d[2])))\n",
    "\n",
    "  fh.write(\".end\")\n",
    "  \n",
    "make_netlist(N, 5, 13e6) # ABS material"
   ]
  },
  {
   "cell_type": "markdown",
   "metadata": {
    "colab_type": "text",
    "id": "JEa7idfMvFwi"
   },
   "source": [
    "###Closer Examination of Paths"
   ]
  },
  {
   "cell_type": "code",
   "execution_count": 19,
   "metadata": {
    "colab": {
     "base_uri": "https://localhost:8080/",
     "height": 37
    },
    "colab_type": "code",
    "collapsed": true,
    "id": "mac5vIDX75kX",
    "outputId": "74bc7246-eef1-4a37-e360-35050adda46c"
   },
   "outputs": [],
   "source": [
    "import random\n",
    "\n",
    "\"\"\" Given the length of the cross-section, a list of segments \n",
    " [(x1, x2), (y1, y2), (z1, z2)], graph G, and a tolerance, return some \n",
    " connecting graph. If none, return None. \n",
    "\"\"\"\n",
    "def find_connecting_path(length, segs, G, tol):\n",
    "\n",
    "  source_plane = length/100\n",
    "  sink_plane = length - length/100\n",
    "\n",
    "  H = nx.Graph()\n",
    "  #X = UnionFind()\n",
    "\n",
    "  def is_between(b1, x, b2):\n",
    "    return (b1 <= x and x <= b2) or (b2 <= x and x <= b1)\n",
    "    \n",
    "\n",
    "  n = range(len(segs))\n",
    "  source_segs = [i for i in n if is_between(segs[i][1][0], \n",
    "                                            source_plane, segs[i][1][1])]\n",
    "  sink_segs = [i for i in n if is_between(segs[i][1][0], \n",
    "                                          sink_plane, segs[i][1][1])]\n",
    "  #random.shuffle(source_segs)\n",
    "  #random.shuffle(sink_segs)\n",
    "  \n",
    "  print(\"Source segments: \", source_segs)\n",
    "  print(\"Sink segments: \", sink_segs)\n",
    "  if not source_segs or not sink_segs:\n",
    "    print(\"No nanotubes intersecting source and/or sink planes.\")\n",
    "    return None\n",
    "  \n",
    "  H.add_nodes_from(source_segs)\n",
    "  #X.union(source_segs)\n",
    "  sink = None\n",
    "  new_segs = source_segs\n",
    "  while new_segs:\n",
    "    # Add contacting tubes to each set.  \n",
    "    temp = list(new_segs)\n",
    "    new_segs = []\n",
    "    for seg in temp:\n",
    "      for v in G.neighbors(seg):\n",
    "        if v not in source_segs:\n",
    "          #X.union(source_segs[0], v)\n",
    "          new_segs.append(v)\n",
    "          H.add_edge(seg, v, weight=G[seg][v]['weight'])\n",
    "          if v in sink_segs:\n",
    "            sink = v\n",
    "            return H, sink, source_segs\n",
    "            \n",
    "\n",
    "  \n",
    "  print(\"No connecting path found.\")\n",
    "  return None\n",
    " \n",
    "\"\"\"Returns a path from source to sink given a graph H. \"\"\"\n",
    "def get_paths_from_components(H, sink, source_segs):\n",
    "  ccs = list(nx.connected_components(H))\n",
    "  # path = max(ccs, key=lambda c:len(c))\n",
    "  paths = []\n",
    "  for component in sorted(ccs, key=lambda c:len(c), reverse=True):\n",
    "    if sink in component:\n",
    "      for node in component:\n",
    "        if node in source_segs and nx.has_path(H, node, sink):\n",
    "          #p = nx.shortest_path(H, node, sink)\n",
    "          p = nx.all_simple_paths(H, node, sink)\n",
    "          paths.extend(p)\n",
    "          #paths.append(p)\n",
    "  return paths        \n",
    "    \n",
    "\n"
   ]
  },
  {
   "cell_type": "code",
   "execution_count": 21,
   "metadata": {
    "colab": {
     "base_uri": "https://localhost:8080/",
     "height": 643
    },
    "colab_type": "code",
    "collapsed": false,
    "id": "qsWZ89W3WgAg",
    "outputId": "3adf724d-7bcd-45a1-cbef-4a4d0f67b838"
   },
   "outputs": [
    {
     "name": "stdout",
     "output_type": "stream",
     "text": [
      "Source segments:  [127, 143, 293, 327, 354, 495, 509, 511, 630, 699, 701, 725, 791, 914, 963, 1071, 1110, 1141, 1161, 1369, 1430, 1472, 1548, 1581, 1681, 1729, 1768, 1878, 1894, 2272, 2280, 2448, 2462, 2478, 2507, 2509]\n",
      "Sink segments:  [7, 17, 112, 131, 483, 487, 736, 804, 903, 1015, 1217, 1277, 1342, 1357, 1427, 1532, 1552, 1588, 1714, 1763, 1785, 1901, 2014, 2019, 2023, 2073, 2531]\n"
     ]
    },
    {
     "ename": "KeyboardInterrupt",
     "evalue": "ignored",
     "output_type": "error",
     "traceback": [
      "\u001b[0;31m---------------------------------------------------------------------------\u001b[0m",
      "\u001b[0;31mKeyboardInterrupt\u001b[0m                         Traceback (most recent call last)",
      "\u001b[0;32m<ipython-input-21-6820973b5878>\u001b[0m in \u001b[0;36m<module>\u001b[0;34m()\u001b[0m\n\u001b[0;32m----> 1\u001b[0;31m \u001b[0mH\u001b[0m\u001b[0;34m,\u001b[0m \u001b[0msink\u001b[0m\u001b[0;34m,\u001b[0m \u001b[0msource_segs\u001b[0m \u001b[0;34m=\u001b[0m \u001b[0mfind_connecting_path\u001b[0m\u001b[0;34m(\u001b[0m\u001b[0mlength_of_poly\u001b[0m\u001b[0;34m,\u001b[0m \u001b[0msegments\u001b[0m\u001b[0;34m,\u001b[0m \u001b[0mH\u001b[0m\u001b[0;34m,\u001b[0m \u001b[0mdiameter\u001b[0m\u001b[0;34m)\u001b[0m\u001b[0;34m\u001b[0m\u001b[0m\n\u001b[0m\u001b[1;32m      2\u001b[0m \u001b[0;31m# Getting a path from the cluster\u001b[0m\u001b[0;34m\u001b[0m\u001b[0;34m\u001b[0m\u001b[0m\n\u001b[1;32m      3\u001b[0m \u001b[0mpaths\u001b[0m \u001b[0;34m=\u001b[0m \u001b[0mget_paths_from_components\u001b[0m\u001b[0;34m(\u001b[0m\u001b[0mH\u001b[0m\u001b[0;34m,\u001b[0m \u001b[0msink\u001b[0m\u001b[0;34m,\u001b[0m \u001b[0msource_segs\u001b[0m\u001b[0;34m)\u001b[0m\u001b[0;34m\u001b[0m\u001b[0m\n\u001b[1;32m      4\u001b[0m \u001b[0;32mfor\u001b[0m \u001b[0mp\u001b[0m \u001b[0;32min\u001b[0m \u001b[0mpaths\u001b[0m\u001b[0;34m:\u001b[0m\u001b[0;34m\u001b[0m\u001b[0m\n\u001b[1;32m      5\u001b[0m   \u001b[0mprint\u001b[0m\u001b[0;34m(\u001b[0m\u001b[0mp\u001b[0m\u001b[0;34m)\u001b[0m\u001b[0;34m\u001b[0m\u001b[0m\n",
      "\u001b[0;32m<ipython-input-19-7bea2a3f2c86>\u001b[0m in \u001b[0;36mfind_connecting_path\u001b[0;34m(length, segs, G, tol)\u001b[0m\n\u001b[1;32m     44\u001b[0m           \u001b[0;31m#X.union(source_segs[0], v)\u001b[0m\u001b[0;34m\u001b[0m\u001b[0;34m\u001b[0m\u001b[0m\n\u001b[1;32m     45\u001b[0m           \u001b[0mnew_segs\u001b[0m\u001b[0;34m.\u001b[0m\u001b[0mappend\u001b[0m\u001b[0;34m(\u001b[0m\u001b[0mv\u001b[0m\u001b[0;34m)\u001b[0m\u001b[0;34m\u001b[0m\u001b[0m\n\u001b[0;32m---> 46\u001b[0;31m           \u001b[0mH\u001b[0m\u001b[0;34m.\u001b[0m\u001b[0madd_edge\u001b[0m\u001b[0;34m(\u001b[0m\u001b[0mseg\u001b[0m\u001b[0;34m,\u001b[0m \u001b[0mv\u001b[0m\u001b[0;34m,\u001b[0m \u001b[0mweight\u001b[0m\u001b[0;34m=\u001b[0m\u001b[0mG\u001b[0m\u001b[0;34m[\u001b[0m\u001b[0mseg\u001b[0m\u001b[0;34m]\u001b[0m\u001b[0;34m[\u001b[0m\u001b[0mv\u001b[0m\u001b[0;34m]\u001b[0m\u001b[0;34m[\u001b[0m\u001b[0;34m'weight'\u001b[0m\u001b[0;34m]\u001b[0m\u001b[0;34m)\u001b[0m\u001b[0;34m\u001b[0m\u001b[0m\n\u001b[0m\u001b[1;32m     47\u001b[0m           \u001b[0;32mif\u001b[0m \u001b[0mv\u001b[0m \u001b[0;32min\u001b[0m \u001b[0msink_segs\u001b[0m\u001b[0;34m:\u001b[0m\u001b[0;34m\u001b[0m\u001b[0m\n\u001b[1;32m     48\u001b[0m             \u001b[0msink\u001b[0m \u001b[0;34m=\u001b[0m \u001b[0mv\u001b[0m\u001b[0;34m\u001b[0m\u001b[0m\n",
      "\u001b[0;32m/usr/local/lib/python3.6/dist-packages/networkx/classes/graph.py\u001b[0m in \u001b[0;36m__getitem__\u001b[0;34m(self, n)\u001b[0m\n\u001b[1;32m    438\u001b[0m         \u001b[0mAtlasView\u001b[0m\u001b[0;34m(\u001b[0m\u001b[0;34m{\u001b[0m\u001b[0;36m1\u001b[0m\u001b[0;34m:\u001b[0m \u001b[0;34m{\u001b[0m\u001b[0;34m}\u001b[0m\u001b[0;34m}\u001b[0m\u001b[0;34m)\u001b[0m\u001b[0;34m\u001b[0m\u001b[0m\n\u001b[1;32m    439\u001b[0m         \"\"\"\n\u001b[0;32m--> 440\u001b[0;31m         \u001b[0;32mreturn\u001b[0m \u001b[0mself\u001b[0m\u001b[0;34m.\u001b[0m\u001b[0madj\u001b[0m\u001b[0;34m[\u001b[0m\u001b[0mn\u001b[0m\u001b[0;34m]\u001b[0m\u001b[0;34m\u001b[0m\u001b[0m\n\u001b[0m\u001b[1;32m    441\u001b[0m \u001b[0;34m\u001b[0m\u001b[0m\n\u001b[1;32m    442\u001b[0m     \u001b[0;32mdef\u001b[0m \u001b[0madd_node\u001b[0m\u001b[0;34m(\u001b[0m\u001b[0mself\u001b[0m\u001b[0;34m,\u001b[0m \u001b[0mnode_for_adding\u001b[0m\u001b[0;34m,\u001b[0m \u001b[0;34m**\u001b[0m\u001b[0mattr\u001b[0m\u001b[0;34m)\u001b[0m\u001b[0;34m:\u001b[0m\u001b[0;34m\u001b[0m\u001b[0m\n",
      "\u001b[0;32m/usr/local/lib/python3.6/dist-packages/networkx/classes/graph.py\u001b[0m in \u001b[0;36madj\u001b[0;34m(self)\u001b[0m\n\u001b[1;32m    316\u001b[0m         \u001b[0mself\u001b[0m\u001b[0;34m.\u001b[0m\u001b[0mgraph\u001b[0m\u001b[0;34m.\u001b[0m\u001b[0mupdate\u001b[0m\u001b[0;34m(\u001b[0m\u001b[0mattr\u001b[0m\u001b[0;34m)\u001b[0m\u001b[0;34m\u001b[0m\u001b[0m\n\u001b[1;32m    317\u001b[0m \u001b[0;34m\u001b[0m\u001b[0m\n\u001b[0;32m--> 318\u001b[0;31m     \u001b[0;34m@\u001b[0m\u001b[0mproperty\u001b[0m\u001b[0;34m\u001b[0m\u001b[0m\n\u001b[0m\u001b[1;32m    319\u001b[0m     \u001b[0;32mdef\u001b[0m \u001b[0madj\u001b[0m\u001b[0;34m(\u001b[0m\u001b[0mself\u001b[0m\u001b[0;34m)\u001b[0m\u001b[0;34m:\u001b[0m\u001b[0;34m\u001b[0m\u001b[0m\n\u001b[1;32m    320\u001b[0m         \"\"\"Graph adjacency object holding the neighbors of each node.\n",
      "\u001b[0;31mKeyboardInterrupt\u001b[0m: "
     ]
    }
   ],
   "source": [
    "H, sink, source_segs = find_connecting_path(length_of_poly, segments, H, diameter)\n",
    "# Getting a path from the cluster\n",
    "paths = get_paths_from_components(H, sink, source_segs)\n",
    "for p in paths:\n",
    "  print(p)\n",
    "#print(\"The path: \", path)\n",
    "\n",
    "#list(H.edges)\n"
   ]
  },
  {
   "cell_type": "markdown",
   "metadata": {
    "colab_type": "text",
    "id": "y6uo97GW79gw"
   },
   "source": [
    "###Graphically visualize the model with a path."
   ]
  },
  {
   "cell_type": "code",
   "execution_count": 72,
   "metadata": {
    "colab": {
     "base_uri": "https://localhost:8080/",
     "height": 347
    },
    "colab_type": "code",
    "collapsed": false,
    "id": "xvH2yOY68Ehd",
    "outputId": "bcb0cfc1-d794-43e6-aaac-242aaccc04ff"
   },
   "outputs": [
    {
     "name": "stderr",
     "output_type": "stream",
     "text": [
      "No handles with labels found to put in legend.\n"
     ]
    },
    {
     "data": {
      "image/png": "[encoded data removed]",
      "text/plain": [
       "<matplotlib.figure.Figure at 0x7f786f38a518>"
      ]
     },
     "metadata": {
      "tags": []
     },
     "output_type": "display_data"
    }
   ],
   "source": [
    "fig = plt.figure()\n",
    "ax = fig.add_subplot(111, projection='3d')\n",
    "path = paths[0]\n",
    "for n in path:\n",
    "  seg = segments[n]\n",
    "#   ax.plot(seg[0], seg[1], seg[2], label=n)\n",
    "ax.legend()  \n",
    "ax.plot([0, 1], [0, 0], [0, 0]) # Test line segment\n",
    "plt.xlabel('x')\n",
    "plt.ylabel('y')\n",
    "ax.set_xlim3d(-width_of_poly/2, width_of_poly/2)\n",
    "ax.set_ylim3d(0, length_of_poly)\n",
    "ax.set_zlim3d(0, length_of_poly)\n",
    "plt.show()  \n",
    "\n",
    "\n",
    "# for i in range(len(path)-1):\n",
    "#   u = path[i]\n",
    "#   v = path[i+1]\n",
    "#   print(\"Segment %d to %d has weight %f.\" % (u, v, H.edges[u, v]['weight']))\n",
    "# print(\"The path consists of the following segments: \")\n",
    "# for n in path:\n",
    "#   print(segments[n])\n"
   ]
  },
  {
   "cell_type": "code",
   "execution_count": 0,
   "metadata": {
    "colab": {},
    "colab_type": "code",
    "collapsed": true,
    "id": "APKKfRcHH6Ap"
   },
   "outputs": [],
   "source": []
  },
  {
   "cell_type": "markdown",
   "metadata": {
    "colab_type": "text",
    "id": "URnrZEEtV-KC"
   },
   "source": [
    "###Dingle Conductivity\n",
    "\n",
    "May complete later. The paper [\"The electrical conductivity of thin wires\"](https://drive.google.com/drive/u/1/folders/16vq8rsENWgqOa_reLoC_ZGkfnw0MKlvl) has approximate and more exact formulas for conductivity.\n",
    "\n"
   ]
  },
  {
   "cell_type": "code",
   "execution_count": 0,
   "metadata": {
    "colab": {},
    "colab_type": "code",
    "collapsed": true,
    "id": "8uI2BYeYV9ia"
   },
   "outputs": [],
   "source": [
    "dingle(lambda, a):\n",
    "  k = 2*a/lambda\n",
    "  "
   ]
  },
  {
   "cell_type": "code",
   "execution_count": 38,
   "metadata": {
    "colab": {
     "base_uri": "https://localhost:8080/",
     "height": 235
    },
    "colab_type": "code",
    "collapsed": false,
    "id": "iNBdiwKYdKa2",
    "outputId": "11039814-2694-4813-d180-d1b9eb9f9e87"
   },
   "outputs": [
    {
     "name": "stdout",
     "output_type": "stream",
     "text": [
      "[8.28300045853329, 6.837266230737769, 5.873074944259505, 5.184072730636917, 4.667080810555554, 4.264776205466102, 3.9427639940380415, 3.6791555894879044, 3.459357862271192, 3.273267270801468, 3.113666498041116, 2.9752624259694773, 2.8540848636908933, 2.7470974844070817, 2.6519384462419415, 2.566742919176069, 2.4900188513645882, 2.4205582287069993, 2.357372534627303, 2.299645044998243, 2.246695048134966, 2.1979506509825018, 2.1529278599480786, 2.111214309716738, 2.072456478136048, 2.0363495457732252, 2.002629283111678, 1.9710655075811425, 1.9414567670610912, 1.9136259897310022, 1.8874169013432047, 1.862691056458948, 1.8393253642875265, 1.817210015573455, 1.796246736670417, 1.7763473120899613, 1.7574323285538602, 1.739430102742833, 1.7222757621346643, 1.70591045401808, 1.6902806622977564, 1.6753376153290085, 1.661036770935179, 1.6473373671171427, 1.6342020288789902, 1.6215964231569662, 1.609488955120484, 1.5978505001695762, 1.5866541668260783, 1.5758750864405338, 1.565490226240754, 1.5554782227531099, 1.5458192330516045, 1.536494801646816, 1.527487741128462, 1.5187820249309862, 1.5103626908088843, 1.502215753793744, 1.4943281275633582, 1.4866875532890136, 1.4792825351437542, 1.4721022817549179, 1.4651366529710876, 1.4583761113887457, 1.4518116781491481, 1.4454348925726501, 1.439237775247137, 1.433212794230387, 1.4273528340639448, 1.4216511673292345, 1.4161014285056899, 1.4106975899163188, 1.4054339395686668, 1.4003050607190861, 1.3953058130058578, 1.3904313150123335, 1.3856769281351398, 1.3810382416448137, 1.3765110588372258, 1.3720913841839217, 1.367775411398262, 1.3635595123420585, 1.3594402267043895, 1.3554142523905728, 1.3514784365648842, 1.3476297672956905, 1.3438653657562234, 1.3401824789383148, 1.336578472840138, 1.3330508260923326, 1.3295971239899282, 1.3262150529002161, 1.3229023950192085, 1.3196570234515725, 1.316476897590979, 1.3133600587796634]\n"
     ]
    },
    {
     "data": {
      "image/png": "[encoded data removed]",
      "text/plain": [
       "<matplotlib.figure.Figure at 0x7f2a1590e4e0>"
      ]
     },
     "metadata": {
      "tags": []
     },
     "output_type": "display_data"
    }
   ],
   "source": [
    "# Using experiment (a) with Ag and R=0.3, p=0.4, C=1\n",
    "lambda_0 = 125e-9\n",
    "#cond_0 = 6.3e7 # Silver\n",
    "C = 1\n",
    "# Test points for k = 1, 2, 5, 8, 10, 12\n",
    "#k_list = [.1, .5, 1, 2, 5, 8, 10, 12]\n",
    "k_list = np.arange(.2, 5, 0.05)\n",
    "ratio_list = []\n",
    "for k in k_list:\n",
    "  a = k*lambda_0*.5\n",
    "  d = 2*a*C\n",
    "  #cond_w = total_conductivity(a, lambda_0, .3, d, pi, cond_0, .5)\n",
    "  cond_0 = 4.1e7 # Gold\n",
    "  cond_w = total_conductivity(a, lambda_0, .52, d, pi, cond_0, .5)\n",
    "  ratio_list.append(cond_0/cond_w)\n",
    "  #print(\"For k = %.1f we get that p_w/p_0 is %f\" % (k, cond_0/cond_w))\n",
    "print(ratio_list)\n",
    "\n",
    "# x = np.arange(.1, 25, 0.1)\n",
    "plt.figure(1)\n",
    "plt.subplot(211)\n",
    "\n",
    "plt.plot(k_list, ratio_list)\n",
    "#plt.axis('square')\n",
    "plt.xlabel('k')\n",
    "plt.ylabel('p_w/p_0')\n",
    "plt.show()"
   ]
  },
  {
   "cell_type": "code",
   "execution_count": 61,
   "metadata": {
    "colab": {
     "base_uri": "https://localhost:8080/",
     "height": 190
    },
    "colab_type": "code",
    "collapsed": false,
    "id": "mWE71Trs60TK",
    "outputId": "d32a1f9b-6c2f-4751-997a-34fcda3c2fed"
   },
   "outputs": [
    {
     "name": "stdout",
     "output_type": "stream",
     "text": [
      "Collecting pyopengl\n",
      "\u001b[?25l  Downloading https://files.pythonhosted.org/packages/9c/1d/4544708aaa89f26c97cc09450bb333a23724a320923e74d73e028b3560f9/PyOpenGL-3.1.0.tar.gz (1.2MB)\n",
      "\u001b[K    100% |████████████████████████████████| 1.2MB 7.1MB/s \n",
      "\u001b[?25hBuilding wheels for collected packages: pyopengl\n",
      "  Running setup.py bdist_wheel for pyopengl ... \u001b[?25l-\b \b\\\b \b|\b \b/\b \b-\b \b\\\b \b|\b \b/\b \b-\b \b\\\b \b|\b \b/\b \b-\b \b\\\b \b|\b \b/\b \bdone\n",
      "\u001b[?25h  Stored in directory: /content/.cache/pip/wheels/6c/00/7f/1dd736f380848720ad79a1a1de5272e0d3f79c15a42968fb58\n",
      "Successfully built pyopengl\n",
      "Installing collected packages: pyopengl\n",
      "Successfully installed pyopengl-3.1.0\n"
     ]
    }
   ],
   "source": [
    "[3.9109067859780144, 3.3370821510976105, 2.9539617838298526, 2.679879869905615, 2.473993311231388, 2.3136044790996517, 2.185089826552471, 2.0797762209083306, 1.9918789083021253, 1.9173910519770736, 1.8534490904261978, 1.7979518878346379, 1.7493226572999607, 1.7063548780589175, 1.6681095493770532, 1.6338448725513637, 1.6029670147524475, 1.574994930025638, 1.5495347666365864, 1.5262609446093178, 1.5049019590630694, 1.4852295869458303, 1.4670505814967014, 1.450200209959396, 1.4345371741160184, 1.4199395801574033, 1.4063017132828635, 1.3935314355061004, 1.3815480704932719, 1.370280672246307, 1.3596665987043195, 1.349650329360915, 1.3401824795166306, 1.3312189740202802, 1.3227203511651968, 1.3146511734170874, 1.3069795263095525, 1.299676590480728, 1.2927162746831204, 1.2860748998595632, 1.279730926177059, 1.2736647163496893, 1.2678583297398884, 1.262295342663922, 1.2569606910885904, 1.2518405325276838, 1.2469221244564987, 1.242193716982655, 1.2376444578588086, 1.2332643082112718, 1.2290439675990192, 1.2249748072186688, 1.2210488102399233, 1.217258518398179, 1.2135969840912264, 1.2100577273288555, 1.2066346969708281, 1.2033222357625388, 1.2001150487408725, 1.1970081746369239, 1.193996959948792, 1.1910770353978035, 1.1882442945161726, 1.185494874144116, 1.1828251366405016, 1.1802316536337605, 1.177711191159547, 1.1752606960488867, 1.1728772834456385, 1.170558225345368, 1.1683009400593316, 1.166102982517538, 1.163962035333874, 1.1618759005642645, 1.1598424920958939, 1.1578598286117745, 1.1559260270805076, 1.1540392967260098, 1.1521979334363974, 1.1504003145751127, 1.148644894160918, 1.146930198386481, 1.1452548214481062, 1.1436174216616677, 1.142016717842073, 1.1404514859256079, 1.138920555816343, 1.1374228084394444, 1.1359571729856963, 1.1345226243329114, 1.1331181806311026, 1.1317429010394064, 1.1303958836037251, 1.1290762632649884, 1.1277832099887342, 1.126515927007468]\n"
   ]
  },
  {
   "cell_type": "code",
   "execution_count": 5,
   "metadata": {
    "collapsed": false
   },
   "outputs": [
    {
     "name": "stdout",
     "output_type": "stream",
     "text": [
      "Traceback (most recent call last):\r\n",
      "  File \"/Applications/anaconda/lib/python3.5/runpy.py\", line 183, in _run_module_as_main\r\n",
      "    mod_name, mod_spec, code = _get_module_details(mod_name, _Error)\r\n",
      "  File \"/Applications/anaconda/lib/python3.5/runpy.py\", line 142, in _get_module_details\r\n",
      "    return _get_module_details(pkg_main_name, error)\r\n",
      "  File \"/Applications/anaconda/lib/python3.5/runpy.py\", line 109, in _get_module_details\r\n",
      "    __import__(pkg_name)\r\n",
      "  File \"/Applications/anaconda/lib/python3.5/site-packages/pip/__init__.py\", line 26, in <module>\r\n",
      "    from pip.utils import get_installed_distributions, get_prog\r\n",
      "  File \"/Applications/anaconda/lib/python3.5/site-packages/pip/utils/__init__.py\", line 27, in <module>\r\n",
      "    from pip._vendor import pkg_resources\r\n",
      "  File \"/Applications/anaconda/lib/python3.5/site-packages/pip/_vendor/pkg_resources/__init__.py\", line 3018, in <module>\r\n",
      "    @_call_aside\r\n",
      "  File \"/Applications/anaconda/lib/python3.5/site-packages/pip/_vendor/pkg_resources/__init__.py\", line 3004, in _call_aside\r\n",
      "    f(*args, **kwargs)\r\n",
      "  File \"/Applications/anaconda/lib/python3.5/site-packages/pip/_vendor/pkg_resources/__init__.py\", line 3046, in _initialize_master_working_set\r\n",
      "    dist.activate(replace=False)\r\n",
      "  File \"/Applications/anaconda/lib/python3.5/site-packages/pip/_vendor/pkg_resources/__init__.py\", line 2578, in activate\r\n",
      "    declare_namespace(pkg)\r\n",
      "  File \"/Applications/anaconda/lib/python3.5/site-packages/pip/_vendor/pkg_resources/__init__.py\", line 2152, in declare_namespace\r\n",
      "    _handle_ns(packageName, path_item)\r\n",
      "  File \"/Applications/anaconda/lib/python3.5/site-packages/pip/_vendor/pkg_resources/__init__.py\", line 2092, in _handle_ns\r\n",
      "    _rebuild_mod_path(path, packageName, module)\r\n",
      "  File \"/Applications/anaconda/lib/python3.5/site-packages/pip/_vendor/pkg_resources/__init__.py\", line 2121, in _rebuild_mod_path\r\n",
      "    orig_path.sort(key=position_in_sys_path)\r\n",
      "AttributeError: '_NamespacePath' object has no attribute 'sort'\r\n"
     ]
    }
   ],
   "source": [
    "import sys\n",
    "!{sys.executable} -m pip install numpy"
   ]
  },
  {
   "cell_type": "code",
   "execution_count": 6,
   "metadata": {
    "colab": {
     "base_uri": "https://localhost:8080/",
     "height": 389
    },
    "colab_type": "code",
    "collapsed": false,
    "id": "T9OCLFr07D5U",
    "outputId": "4fafea04-b1a4-44df-e4a5-ddbe92fe1e9a"
   },
   "outputs": [
    {
     "ename": "ImportError",
     "evalue": "\nImporting the multiarray numpy extension module failed.  Most\nlikely you are trying to import a failed build of numpy.\nIf you're working with a numpy git repo, try `git clean -xdf` (removes all\nfiles not under version control).  Otherwise reinstall numpy.\n\nOriginal error was: cannot import name 'multiarray'\n",
     "output_type": "error",
     "traceback": [
      "\u001b[0;31m---------------------------------------------------------------------------\u001b[0m",
      "\u001b[0;31mImportError\u001b[0m                               Traceback (most recent call last)",
      "\u001b[0;32m/Users/Michelle/Documents/nanolab/nanohub-project/numpy/core/__init__.py\u001b[0m in \u001b[0;36m<module>\u001b[0;34m()\u001b[0m\n\u001b[1;32m     15\u001b[0m \u001b[0;32mtry\u001b[0m\u001b[0;34m:\u001b[0m\u001b[0;34m\u001b[0m\u001b[0m\n\u001b[0;32m---> 16\u001b[0;31m     \u001b[0;32mfrom\u001b[0m \u001b[0;34m.\u001b[0m \u001b[0;32mimport\u001b[0m \u001b[0mmultiarray\u001b[0m\u001b[0;34m\u001b[0m\u001b[0m\n\u001b[0m\u001b[1;32m     17\u001b[0m \u001b[0;32mexcept\u001b[0m \u001b[0mImportError\u001b[0m \u001b[0;32mas\u001b[0m \u001b[0mexc\u001b[0m\u001b[0;34m:\u001b[0m\u001b[0;34m\u001b[0m\u001b[0m\n",
      "\u001b[0;31mImportError\u001b[0m: cannot import name 'multiarray'",
      "\nDuring handling of the above exception, another exception occurred:\n",
      "\u001b[0;31mImportError\u001b[0m                               Traceback (most recent call last)",
      "\u001b[0;32m<ipython-input-6-a7cec93f9305>\u001b[0m in \u001b[0;36m<module>\u001b[0;34m()\u001b[0m\n\u001b[1;32m      1\u001b[0m \u001b[0;32mimport\u001b[0m \u001b[0mPySpice\u001b[0m\u001b[0;34m.\u001b[0m\u001b[0mLogging\u001b[0m\u001b[0;34m.\u001b[0m\u001b[0mLogging\u001b[0m \u001b[0;32mas\u001b[0m \u001b[0mLogging\u001b[0m\u001b[0;34m\u001b[0m\u001b[0m\n\u001b[1;32m      2\u001b[0m \u001b[0mlogger\u001b[0m \u001b[0;34m=\u001b[0m \u001b[0mLogging\u001b[0m\u001b[0;34m.\u001b[0m\u001b[0msetup_logging\u001b[0m\u001b[0;34m(\u001b[0m\u001b[0;34m)\u001b[0m\u001b[0;34m\u001b[0m\u001b[0m\n\u001b[0;32m----> 3\u001b[0;31m \u001b[0;32mimport\u001b[0m \u001b[0mnumpy\u001b[0m \u001b[0;32mas\u001b[0m \u001b[0mnp\u001b[0m\u001b[0;34m\u001b[0m\u001b[0m\n\u001b[0m\u001b[1;32m      4\u001b[0m \u001b[0mprint\u001b[0m\u001b[0;34m(\u001b[0m\u001b[0mnp\u001b[0m\u001b[0;34m.\u001b[0m\u001b[0mversion\u001b[0m\u001b[0;34m.\u001b[0m\u001b[0mversion\u001b[0m\u001b[0;34m)\u001b[0m\u001b[0;34m\u001b[0m\u001b[0m\n\u001b[1;32m      5\u001b[0m \u001b[0mnp\u001b[0m\u001b[0;34m.\u001b[0m\u001b[0mpositive\u001b[0m\u001b[0;34m(\u001b[0m\u001b[0;34m-\u001b[0m\u001b[0;36m4\u001b[0m\u001b[0;34m)\u001b[0m\u001b[0;34m\u001b[0m\u001b[0m\n",
      "\u001b[0;32m/Users/Michelle/Documents/nanolab/nanohub-project/numpy/__init__.py\u001b[0m in \u001b[0;36m<module>\u001b[0;34m()\u001b[0m\n\u001b[1;32m    140\u001b[0m         \u001b[0;32mreturn\u001b[0m \u001b[0mloader\u001b[0m\u001b[0;34m(\u001b[0m\u001b[0;34m*\u001b[0m\u001b[0mpackages\u001b[0m\u001b[0;34m,\u001b[0m \u001b[0;34m**\u001b[0m\u001b[0moptions\u001b[0m\u001b[0;34m)\u001b[0m\u001b[0;34m\u001b[0m\u001b[0m\n\u001b[1;32m    141\u001b[0m \u001b[0;34m\u001b[0m\u001b[0m\n\u001b[0;32m--> 142\u001b[0;31m     \u001b[0;32mfrom\u001b[0m \u001b[0;34m.\u001b[0m \u001b[0;32mimport\u001b[0m \u001b[0madd_newdocs\u001b[0m\u001b[0;34m\u001b[0m\u001b[0m\n\u001b[0m\u001b[1;32m    143\u001b[0m     __all__ = ['add_newdocs',\n\u001b[1;32m    144\u001b[0m                \u001b[0;34m'ModuleDeprecationWarning'\u001b[0m\u001b[0;34m,\u001b[0m\u001b[0;34m\u001b[0m\u001b[0m\n",
      "\u001b[0;32m/Users/Michelle/Documents/nanolab/nanohub-project/numpy/add_newdocs.py\u001b[0m in \u001b[0;36m<module>\u001b[0;34m()\u001b[0m\n\u001b[1;32m     11\u001b[0m \u001b[0;32mfrom\u001b[0m \u001b[0m__future__\u001b[0m \u001b[0;32mimport\u001b[0m \u001b[0mdivision\u001b[0m\u001b[0;34m,\u001b[0m \u001b[0mabsolute_import\u001b[0m\u001b[0;34m,\u001b[0m \u001b[0mprint_function\u001b[0m\u001b[0;34m\u001b[0m\u001b[0m\n\u001b[1;32m     12\u001b[0m \u001b[0;34m\u001b[0m\u001b[0m\n\u001b[0;32m---> 13\u001b[0;31m \u001b[0;32mfrom\u001b[0m \u001b[0mnumpy\u001b[0m\u001b[0;34m.\u001b[0m\u001b[0mlib\u001b[0m \u001b[0;32mimport\u001b[0m \u001b[0madd_newdoc\u001b[0m\u001b[0;34m\u001b[0m\u001b[0m\n\u001b[0m\u001b[1;32m     14\u001b[0m \u001b[0;34m\u001b[0m\u001b[0m\n\u001b[1;32m     15\u001b[0m \u001b[0;31m###############################################################################\u001b[0m\u001b[0;34m\u001b[0m\u001b[0;34m\u001b[0m\u001b[0m\n",
      "\u001b[0;32m/Users/Michelle/Documents/nanolab/nanohub-project/numpy/lib/__init__.py\u001b[0m in \u001b[0;36m<module>\u001b[0;34m()\u001b[0m\n\u001b[1;32m      6\u001b[0m \u001b[0;32mfrom\u001b[0m \u001b[0mnumpy\u001b[0m\u001b[0;34m.\u001b[0m\u001b[0mversion\u001b[0m \u001b[0;32mimport\u001b[0m \u001b[0mversion\u001b[0m \u001b[0;32mas\u001b[0m \u001b[0m__version__\u001b[0m\u001b[0;34m\u001b[0m\u001b[0m\n\u001b[1;32m      7\u001b[0m \u001b[0;34m\u001b[0m\u001b[0m\n\u001b[0;32m----> 8\u001b[0;31m \u001b[0;32mfrom\u001b[0m \u001b[0;34m.\u001b[0m\u001b[0mtype_check\u001b[0m \u001b[0;32mimport\u001b[0m \u001b[0;34m*\u001b[0m\u001b[0;34m\u001b[0m\u001b[0m\n\u001b[0m\u001b[1;32m      9\u001b[0m \u001b[0;32mfrom\u001b[0m \u001b[0;34m.\u001b[0m\u001b[0mindex_tricks\u001b[0m \u001b[0;32mimport\u001b[0m \u001b[0;34m*\u001b[0m\u001b[0;34m\u001b[0m\u001b[0m\n\u001b[1;32m     10\u001b[0m \u001b[0;32mfrom\u001b[0m \u001b[0;34m.\u001b[0m\u001b[0mfunction_base\u001b[0m \u001b[0;32mimport\u001b[0m \u001b[0;34m*\u001b[0m\u001b[0;34m\u001b[0m\u001b[0m\n",
      "\u001b[0;32m/Users/Michelle/Documents/nanolab/nanohub-project/numpy/lib/type_check.py\u001b[0m in \u001b[0;36m<module>\u001b[0;34m()\u001b[0m\n\u001b[1;32m      9\u001b[0m            'common_type']\n\u001b[1;32m     10\u001b[0m \u001b[0;34m\u001b[0m\u001b[0m\n\u001b[0;32m---> 11\u001b[0;31m \u001b[0;32mimport\u001b[0m \u001b[0mnumpy\u001b[0m\u001b[0;34m.\u001b[0m\u001b[0mcore\u001b[0m\u001b[0;34m.\u001b[0m\u001b[0mnumeric\u001b[0m \u001b[0;32mas\u001b[0m \u001b[0m_nx\u001b[0m\u001b[0;34m\u001b[0m\u001b[0m\n\u001b[0m\u001b[1;32m     12\u001b[0m \u001b[0;32mfrom\u001b[0m \u001b[0mnumpy\u001b[0m\u001b[0;34m.\u001b[0m\u001b[0mcore\u001b[0m\u001b[0;34m.\u001b[0m\u001b[0mnumeric\u001b[0m \u001b[0;32mimport\u001b[0m \u001b[0masarray\u001b[0m\u001b[0;34m,\u001b[0m \u001b[0masanyarray\u001b[0m\u001b[0;34m,\u001b[0m \u001b[0marray\u001b[0m\u001b[0;34m,\u001b[0m \u001b[0misnan\u001b[0m\u001b[0;34m,\u001b[0m \u001b[0mzeros\u001b[0m\u001b[0;34m\u001b[0m\u001b[0m\n\u001b[1;32m     13\u001b[0m \u001b[0;32mfrom\u001b[0m \u001b[0;34m.\u001b[0m\u001b[0mufunclike\u001b[0m \u001b[0;32mimport\u001b[0m \u001b[0misneginf\u001b[0m\u001b[0;34m,\u001b[0m \u001b[0misposinf\u001b[0m\u001b[0;34m\u001b[0m\u001b[0m\n",
      "\u001b[0;32m/Users/Michelle/Documents/nanolab/nanohub-project/numpy/core/__init__.py\u001b[0m in \u001b[0;36m<module>\u001b[0;34m()\u001b[0m\n\u001b[1;32m     24\u001b[0m \u001b[0mOriginal\u001b[0m \u001b[0merror\u001b[0m \u001b[0mwas\u001b[0m\u001b[0;34m:\u001b[0m \u001b[0;34m%\u001b[0m\u001b[0ms\u001b[0m\u001b[0;34m\u001b[0m\u001b[0m\n\u001b[1;32m     25\u001b[0m \"\"\" % (exc,)\n\u001b[0;32m---> 26\u001b[0;31m     \u001b[0;32mraise\u001b[0m \u001b[0mImportError\u001b[0m\u001b[0;34m(\u001b[0m\u001b[0mmsg\u001b[0m\u001b[0;34m)\u001b[0m\u001b[0;34m\u001b[0m\u001b[0m\n\u001b[0m\u001b[1;32m     27\u001b[0m \u001b[0;32mfinally\u001b[0m\u001b[0;34m:\u001b[0m\u001b[0;34m\u001b[0m\u001b[0m\n\u001b[1;32m     28\u001b[0m     \u001b[0;32mfor\u001b[0m \u001b[0menvkey\u001b[0m \u001b[0;32min\u001b[0m \u001b[0menv_added\u001b[0m\u001b[0;34m:\u001b[0m\u001b[0;34m\u001b[0m\u001b[0m\n",
      "\u001b[0;31mImportError\u001b[0m: \nImporting the multiarray numpy extension module failed.  Most\nlikely you are trying to import a failed build of numpy.\nIf you're working with a numpy git repo, try `git clean -xdf` (removes all\nfiles not under version control).  Otherwise reinstall numpy.\n\nOriginal error was: cannot import name 'multiarray'\n"
     ]
    }
   ],
   "source": [
    "import PySpice.Logging.Logging as Logging\n",
    "logger = Logging.setup_logging()\n",
    "import numpy as np\n",
    "print(np.version.version)\n",
    "np.positive(-4)\n",
    "from PySpice.Spice.Netlist import Circuit\n",
    "from PySpice.Unit import *"
   ]
  },
  {
   "cell_type": "code",
   "execution_count": 4,
   "metadata": {
    "colab": {
     "base_uri": "https://localhost:8080/",
     "height": 1409
    },
    "colab_type": "code",
    "collapsed": false,
    "id": "_HcWy7Yz7gQA",
    "outputId": "6a23668b-8f92-47b9-82ec-718fec7922be"
   },
   "outputs": [
    {
     "ename": "NameError",
     "evalue": "name 'Circuit' is not defined",
     "output_type": "error",
     "traceback": [
      "\u001b[0;31m---------------------------------------------------------------------------\u001b[0m",
      "\u001b[0;31mNameError\u001b[0m                                 Traceback (most recent call last)",
      "\u001b[0;32m<ipython-input-4-2b6e57743378>\u001b[0m in \u001b[0;36m<module>\u001b[0;34m()\u001b[0m\n\u001b[0;32m----> 1\u001b[0;31m \u001b[0mcircuit\u001b[0m \u001b[0;34m=\u001b[0m \u001b[0mCircuit\u001b[0m\u001b[0;34m(\u001b[0m\u001b[0;34m'Resistor Bridge'\u001b[0m\u001b[0;34m)\u001b[0m\u001b[0;34m\u001b[0m\u001b[0m\n\u001b[0m\u001b[1;32m      2\u001b[0m \u001b[0;34m\u001b[0m\u001b[0m\n\u001b[1;32m      3\u001b[0m \u001b[0mcircuit\u001b[0m\u001b[0;34m.\u001b[0m\u001b[0mV\u001b[0m\u001b[0;34m(\u001b[0m\u001b[0;34m'input'\u001b[0m\u001b[0;34m,\u001b[0m \u001b[0;36m1\u001b[0m\u001b[0;34m,\u001b[0m \u001b[0mcircuit\u001b[0m\u001b[0;34m.\u001b[0m\u001b[0mgnd\u001b[0m\u001b[0;34m,\u001b[0m \u001b[0;36m10\u001b[0m\u001b[0;34m@\u001b[0m\u001b[0mu_V\u001b[0m\u001b[0;34m)\u001b[0m\u001b[0;34m\u001b[0m\u001b[0m\n\u001b[1;32m      4\u001b[0m \u001b[0mcircuit\u001b[0m\u001b[0;34m.\u001b[0m\u001b[0mR\u001b[0m\u001b[0;34m(\u001b[0m\u001b[0;36m1\u001b[0m\u001b[0;34m,\u001b[0m \u001b[0;36m1\u001b[0m\u001b[0;34m,\u001b[0m \u001b[0;36m2\u001b[0m\u001b[0;34m,\u001b[0m \u001b[0;36m2\u001b[0m\u001b[0;34m@\u001b[0m\u001b[0mu_kΩ\u001b[0m\u001b[0;34m)\u001b[0m\u001b[0;34m\u001b[0m\u001b[0m\n\u001b[1;32m      5\u001b[0m \u001b[0mcircuit\u001b[0m\u001b[0;34m.\u001b[0m\u001b[0mR\u001b[0m\u001b[0;34m(\u001b[0m\u001b[0;36m2\u001b[0m\u001b[0;34m,\u001b[0m \u001b[0;36m1\u001b[0m\u001b[0;34m,\u001b[0m \u001b[0;36m3\u001b[0m\u001b[0;34m,\u001b[0m \u001b[0;36m1\u001b[0m\u001b[0;34m@\u001b[0m\u001b[0mu_kΩ\u001b[0m\u001b[0;34m)\u001b[0m\u001b[0;34m\u001b[0m\u001b[0m\n",
      "\u001b[0;31mNameError\u001b[0m: name 'Circuit' is not defined"
     ]
    }
   ],
   "source": [
    "circuit = Circuit('Resistor Bridge')\n",
    "\n",
    "circuit.V('input', 1, circuit.gnd, 10@u_V)\n",
    "circuit.R(1, 1, 2, 2@u_kΩ)\n",
    "circuit.R(2, 1, 3, 1@u_kΩ)\n",
    "circuit.R(3, 2, circuit.gnd, 1@u_kΩ)\n",
    "circuit.R(4, 3, circuit.gnd, 2@u_kΩ)\n",
    "circuit.R(5, 3, 2, 2@u_kΩ)\n",
    "\n",
    "simulator = circuit.simulator(temperature=25, nominal_temperature=25)\n",
    "analysis = simulator.operating_point()\n",
    "\n",
    "for node in analysis.nodes.values():\n",
    "    print('Node {}: {:4.1f} V'.format(str(node), float(node))) # Fixme: format value + unit"
   ]
  },
  {
   "cell_type": "code",
   "execution_count": 0,
   "metadata": {
    "colab": {},
    "colab_type": "code",
    "collapsed": true,
    "id": "mglGuqwK7tww"
   },
   "outputs": [],
   "source": [
    "import sys\n",
    "from OpenGL.GL import *\n",
    "from OpenGL.GLU import *\n",
    "from OpenGL.GLUT import *\n",
    "from math import *\n",
    "\n",
    "class Cube:\n",
    "\n",
    "    # Constructor for the cube class\n",
    "    def __init__(self):\n",
    "        self.rotate_y = 0.0\n",
    "        self.rotate_x = 0.0\n",
    "        self.scale = 2.0\n",
    "\n",
    "    # Initialize\n",
    "    def init(self):\n",
    "        # Set background to black\n",
    "        glClearColor(0.0, 0.0, 0.0, 0.0)\n",
    "\n",
    "        # Set the shade model to flat\n",
    "        glShadeModel(GL_FLAT)\n",
    "\n",
    "    # Draw half of the cube with corners cut\n",
    "    def draw_half(self, mirror):\n",
    "\n",
    "        # The plane equations cutting corners of cube\n",
    "        eqn = [-1.0, 0.0, 0.0, 0.0]\n",
    "        eqn1 = [1.0, 1.0, 1.0, 1.25]\n",
    "        eqn2 = [1.0, -1.0, 1.0, 1.25]\n",
    "        eqn3 = [1.0, 1.0, -1.0, 1.25]\n",
    "        eqn4 = [1.0, -1.0, -1.0, 1.25]\n",
    "        eqn5 = [-1.0, 1.0, 1.0, 1.25]\n",
    "\n",
    "        # Set the color to white\n",
    "        glColor3f(1.0, 1.0, 1.0)\n",
    "\n",
    "        # Reset the matrix\n",
    "        glLoadIdentity()\n",
    "\n",
    "        # Set the camera\n",
    "        gluLookAt(0.0, 0.0, 5.0, 0.0, 0.0, 0.0, 0.0, 1.0, 0.0)\n",
    "\n",
    "        if mirror:\n",
    "            glScalef(-self.scale, self.scale, self.scale)\n",
    "            glRotatef(-self.rotate_y, 0.0, 1.0, 0.0)\n",
    "        else:\n",
    "            glScalef(self.scale, self.scale, self.scale)\n",
    "            glRotatef(self.rotate_y, 0.0, 1.0, 0.0)\n",
    "\n",
    "        glRotatef(self.rotate_x, 1.0, 0.0, 0.0)\n",
    "\n",
    "        # Draw solid cube\n",
    "        glutSolidCube(1.0)\n",
    "\n",
    "        # Draw a red wire cube to highlight the background\n",
    "        glColor3f(1.0, 0.0, 0.0)\n",
    "        glutWireCube(1.0)\n",
    "\n",
    "        # Clip the corners of the cube with these equations\n",
    "        glClipPlane(GL_CLIP_PLANE0, eqn1)\n",
    "        glEnable(GL_CLIP_PLANE0)\n",
    "\n",
    "        glClipPlane(GL_CLIP_PLANE1, eqn2)\n",
    "        glEnable(GL_CLIP_PLANE1)\n",
    "\n",
    "        glClipPlane(GL_CLIP_PLANE2, eqn3)\n",
    "        glEnable(GL_CLIP_PLANE2)\n",
    "\n",
    "        glClipPlane(GL_CLIP_PLANE3, eqn4)\n",
    "        glEnable(GL_CLIP_PLANE3)\n",
    "\n",
    "        glClipPlane(GL_CLIP_PLANE4, eqn5)\n",
    "        glEnable(GL_CLIP_PLANE4)\n",
    "\n",
    "        # Cut the cube into half\n",
    "        glClipPlane(GL_CLIP_PLANE5, eqn)\n",
    "        glEnable(GL_CLIP_PLANE5)\n",
    "\n",
    "        glFlush()\n",
    "\n",
    "    # The display function\n",
    "    def display(self):\n",
    "        glClear(GL_COLOR_BUFFER_BIT)\n",
    "\n",
    "        # Draw half the cube with corners cut\n",
    "        self.draw_half(False)\n",
    "\n",
    "        # Draw a mirror image of the above half cube\n",
    "        self.draw_half(True)\n",
    "\n",
    "    # The reshape function\n",
    "    def reshape(self, w, h):\n",
    "        glViewport(0, 0, GLsizei(w), GLsizei(h))\n",
    "        glMatrixMode(GL_PROJECTION)\n",
    "        glLoadIdentity()\n",
    "        glFrustum(-1.0, 1.0, -1.0, 1.0, 1.5, 20.0)\n",
    "        glMatrixMode(GL_MODELVIEW)\n",
    "\n",
    "    # The keyboard controls\n",
    "    def special(self, key, x, y):\n",
    "\n",
    "        # Rotate cube according to keys pressed\n",
    "        if key == GLUT_KEY_RIGHT:\n",
    "            self.rotate_y += 5\n",
    "        if key == GLUT_KEY_LEFT:\n",
    "            self.rotate_y -= 5\n",
    "        if key == GLUT_KEY_UP:\n",
    "            self.rotate_x += 5\n",
    "        if key == GLUT_KEY_DOWN:\n",
    "            self.rotate_x -= 5\n",
    "        glutPostRedisplay()\n",
    "\n",
    "\n",
    "# The main function\n",
    "def main():\n",
    "\n",
    "    # Initialize OpenGL\n",
    "    glutInit(sys.argv)\n",
    "\n",
    "    # Set display mode\n",
    "    glutInitDisplayMode(GLUT_SINGLE | GLUT_RGB)\n",
    "\n",
    "    # Set size and position of window size\n",
    "    glutInitWindowSize(400, 400)\n",
    "    glutInitWindowPosition(100, 100)\n",
    "\n",
    "    # Create window with given title\n",
    "    glutCreateWindow(\"Cube\")\n",
    "\n",
    "    # Instantiate the cube\n",
    "    cube = Cube()\n",
    "\n",
    "    cube.init()\n",
    "\n",
    "    # The callback for display function\n",
    "    glutDisplayFunc(cube.display)\n",
    "\n",
    "    # The callback for reshape function\n",
    "    glutReshapeFunc(cube.reshape)\n",
    "\n",
    "    # The callback function for keyboard controls\n",
    "    glutSpecialFunc(cube.special)\n",
    "\n",
    "    # Start the main loop\n",
    "    glutMainLoop()\n",
    "\n",
    "# Call the main function\n",
    "if __name__ == '__main__':\n",
    "    main()\n"
   ]
  }
 ],
 "metadata": {
  "colab": {
   "collapsed_sections": [],
   "include_colab_link": true,
   "name": "first_submodel.ipynb",
   "provenance": [],
   "version": "0.3.2"
  },
  "kernelspec": {
   "display_name": "Python [default]",
   "language": "python",
   "name": "python3"
  },
  "language_info": {
   "codemirror_mode": {
    "name": "ipython",
    "version": 3
   },
   "file_extension": ".py",
   "mimetype": "text/x-python",
   "name": "python",
   "nbconvert_exporter": "python",
   "pygments_lexer": "ipython3",
   "version": "3.5.4"
  }
 },
 "nbformat": 4,
 "nbformat_minor": 0
}
